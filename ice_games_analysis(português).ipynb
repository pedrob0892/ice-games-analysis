{
 "cells": [
  {
   "cell_type": "markdown",
   "id": "e8900fac-a541-4156-b7d2-c58db7a39508",
   "metadata": {},
   "source": [
    "# Objetivo"
   ]
  },
  {
   "cell_type": "markdown",
   "id": "544c94f2-0dfd-4325-b295-ae2049357f00",
   "metadata": {},
   "source": [
    "<span style=\"color: black; font-family: Arial; font-size: 20px;\">\n",
    "O objetivo desse estudo é analisar e gerar insights a partir dos dados históricos de vendas, avaliações, gêneros e plataformas de videogames da empresa Ice, a fim de contribuir em uma campanha publicitária da empresa para o ano de 2017."
   ]
  },
  {
   "cell_type": "markdown",
   "id": "93178be1-1177-4387-a388-b4d4b7f177ee",
   "metadata": {},
   "source": [
    "# Carregando os dados"
   ]
  },
  {
   "cell_type": "code",
   "execution_count": 132,
   "id": "37456087-bf2f-4807-aecb-56a2f909bed3",
   "metadata": {},
   "outputs": [],
   "source": [
    "# Carregando todas as bibliotecas\n",
    "from scipy import stats as st\n",
    "import numpy as np\n",
    "import pandas as pd\n",
    "from googletrans import Translator\n",
    "import nbformat\n",
    "from math import factorial\n",
    "import math\n",
    "import matplotlib.pyplot as plt\n",
    "import seaborn as sns\n",
    "import plotly.express as px"
   ]
  },
  {
   "cell_type": "code",
   "execution_count": 133,
   "id": "51495302-bb3b-499d-aec4-ba030624e49c",
   "metadata": {},
   "outputs": [
    {
     "name": "stdout",
     "output_type": "stream",
     "text": [
      "<class 'pandas.core.frame.DataFrame'>\n",
      "RangeIndex: 16715 entries, 0 to 16714\n",
      "Data columns (total 11 columns):\n",
      " #   Column           Non-Null Count  Dtype  \n",
      "---  ------           --------------  -----  \n",
      " 0   Name             16713 non-null  object \n",
      " 1   Platform         16715 non-null  object \n",
      " 2   Year_of_Release  16446 non-null  float64\n",
      " 3   Genre            16713 non-null  object \n",
      " 4   NA_sales         16715 non-null  float64\n",
      " 5   EU_sales         16715 non-null  float64\n",
      " 6   JP_sales         16715 non-null  float64\n",
      " 7   Other_sales      16715 non-null  float64\n",
      " 8   Critic_Score     8137 non-null   float64\n",
      " 9   User_Score       10014 non-null  object \n",
      " 10  Rating           9949 non-null   object \n",
      "dtypes: float64(6), object(5)\n",
      "memory usage: 1.4+ MB\n"
     ]
    }
   ],
   "source": [
    "# Carregando o Dataframe\n",
    "df_games = pd.read_csv(r\"C:\\Users\\pedro\\Documents\\Dataframes projetos\\ice-games-analysis\\games.csv\")\n",
    "df_games.info()"
   ]
  },
  {
   "cell_type": "markdown",
   "id": "833e5451-4f34-4b3d-b7bc-dc34b415e323",
   "metadata": {},
   "source": [
    "# Preparando os dados"
   ]
  },
  {
   "cell_type": "code",
   "execution_count": 135,
   "id": "328bcf47-5d8b-43b6-888b-f03b977fe6c5",
   "metadata": {},
   "outputs": [
    {
     "data": {
      "text/html": [
       "<div>\n",
       "<style scoped>\n",
       "    .dataframe tbody tr th:only-of-type {\n",
       "        vertical-align: middle;\n",
       "    }\n",
       "\n",
       "    .dataframe tbody tr th {\n",
       "        vertical-align: top;\n",
       "    }\n",
       "\n",
       "    .dataframe thead th {\n",
       "        text-align: right;\n",
       "    }\n",
       "</style>\n",
       "<table border=\"1\" class=\"dataframe\">\n",
       "  <thead>\n",
       "    <tr style=\"text-align: right;\">\n",
       "      <th></th>\n",
       "      <th>Name</th>\n",
       "      <th>Platform</th>\n",
       "      <th>Year_of_Release</th>\n",
       "      <th>Genre</th>\n",
       "      <th>NA_sales</th>\n",
       "      <th>EU_sales</th>\n",
       "      <th>JP_sales</th>\n",
       "      <th>Other_sales</th>\n",
       "      <th>Critic_Score</th>\n",
       "      <th>User_Score</th>\n",
       "      <th>Rating</th>\n",
       "    </tr>\n",
       "  </thead>\n",
       "  <tbody>\n",
       "    <tr>\n",
       "      <th>0</th>\n",
       "      <td>Wii Sports</td>\n",
       "      <td>Wii</td>\n",
       "      <td>2006.0</td>\n",
       "      <td>Sports</td>\n",
       "      <td>41.36</td>\n",
       "      <td>28.96</td>\n",
       "      <td>3.77</td>\n",
       "      <td>8.45</td>\n",
       "      <td>76.0</td>\n",
       "      <td>8</td>\n",
       "      <td>E</td>\n",
       "    </tr>\n",
       "    <tr>\n",
       "      <th>1</th>\n",
       "      <td>Super Mario Bros.</td>\n",
       "      <td>NES</td>\n",
       "      <td>1985.0</td>\n",
       "      <td>Platform</td>\n",
       "      <td>29.08</td>\n",
       "      <td>3.58</td>\n",
       "      <td>6.81</td>\n",
       "      <td>0.77</td>\n",
       "      <td>NaN</td>\n",
       "      <td>NaN</td>\n",
       "      <td>NaN</td>\n",
       "    </tr>\n",
       "    <tr>\n",
       "      <th>2</th>\n",
       "      <td>Mario Kart Wii</td>\n",
       "      <td>Wii</td>\n",
       "      <td>2008.0</td>\n",
       "      <td>Racing</td>\n",
       "      <td>15.68</td>\n",
       "      <td>12.76</td>\n",
       "      <td>3.79</td>\n",
       "      <td>3.29</td>\n",
       "      <td>82.0</td>\n",
       "      <td>8.3</td>\n",
       "      <td>E</td>\n",
       "    </tr>\n",
       "    <tr>\n",
       "      <th>3</th>\n",
       "      <td>Wii Sports Resort</td>\n",
       "      <td>Wii</td>\n",
       "      <td>2009.0</td>\n",
       "      <td>Sports</td>\n",
       "      <td>15.61</td>\n",
       "      <td>10.93</td>\n",
       "      <td>3.28</td>\n",
       "      <td>2.95</td>\n",
       "      <td>80.0</td>\n",
       "      <td>8</td>\n",
       "      <td>E</td>\n",
       "    </tr>\n",
       "    <tr>\n",
       "      <th>4</th>\n",
       "      <td>Pokemon Red/Pokemon Blue</td>\n",
       "      <td>GB</td>\n",
       "      <td>1996.0</td>\n",
       "      <td>Role-Playing</td>\n",
       "      <td>11.27</td>\n",
       "      <td>8.89</td>\n",
       "      <td>10.22</td>\n",
       "      <td>1.00</td>\n",
       "      <td>NaN</td>\n",
       "      <td>NaN</td>\n",
       "      <td>NaN</td>\n",
       "    </tr>\n",
       "  </tbody>\n",
       "</table>\n",
       "</div>"
      ],
      "text/plain": [
       "                       Name Platform  Year_of_Release         Genre  NA_sales  \\\n",
       "0                Wii Sports      Wii           2006.0        Sports     41.36   \n",
       "1         Super Mario Bros.      NES           1985.0      Platform     29.08   \n",
       "2            Mario Kart Wii      Wii           2008.0        Racing     15.68   \n",
       "3         Wii Sports Resort      Wii           2009.0        Sports     15.61   \n",
       "4  Pokemon Red/Pokemon Blue       GB           1996.0  Role-Playing     11.27   \n",
       "\n",
       "   EU_sales  JP_sales  Other_sales  Critic_Score User_Score Rating  \n",
       "0     28.96      3.77         8.45          76.0          8      E  \n",
       "1      3.58      6.81         0.77           NaN        NaN    NaN  \n",
       "2     12.76      3.79         3.29          82.0        8.3      E  \n",
       "3     10.93      3.28         2.95          80.0          8      E  \n",
       "4      8.89     10.22         1.00           NaN        NaN    NaN  "
      ]
     },
     "execution_count": 135,
     "metadata": {},
     "output_type": "execute_result"
    }
   ],
   "source": [
    "df_games.head()"
   ]
  },
  {
   "cell_type": "code",
   "execution_count": 136,
   "id": "4ddd6cd0-5948-455b-a5cb-9e3ef07edf71",
   "metadata": {},
   "outputs": [
    {
     "name": "stdout",
     "output_type": "stream",
     "text": [
      "Index(['name', 'platform', 'year_of_release', 'genre', 'na_sales', 'eu_sales',\n",
      "       'jp_sales', 'other_sales', 'critic_score', 'user_score', 'rating'],\n",
      "      dtype='object')\n"
     ]
    }
   ],
   "source": [
    "# Transformando os nomes das colunas em minúsculos\n",
    "new_col_names=[]\n",
    "for old_name in df_games.columns:\n",
    "    name_lowered=old_name.lower()\n",
    "    new_col_names.append(name_lowered)\n",
    "df_games.columns=new_col_names\n",
    "print(df_games.columns)"
   ]
  },
  {
   "cell_type": "code",
   "execution_count": 137,
   "id": "f71e890a-45e9-4f6d-ac11-fd0a425a80cb",
   "metadata": {},
   "outputs": [
    {
     "name": "stdout",
     "output_type": "stream",
     "text": [
      "<class 'pandas.core.frame.DataFrame'>\n",
      "RangeIndex: 16715 entries, 0 to 16714\n",
      "Data columns (total 11 columns):\n",
      " #   Column           Non-Null Count  Dtype  \n",
      "---  ------           --------------  -----  \n",
      " 0   name             16713 non-null  object \n",
      " 1   platform         16715 non-null  object \n",
      " 2   year_of_release  16446 non-null  float64\n",
      " 3   genre            16713 non-null  object \n",
      " 4   na_sales         16715 non-null  float64\n",
      " 5   eu_sales         16715 non-null  float64\n",
      " 6   jp_sales         16715 non-null  float64\n",
      " 7   other_sales      16715 non-null  float64\n",
      " 8   critic_score     8137 non-null   float64\n",
      " 9   user_score       7590 non-null   float64\n",
      " 10  rating           9949 non-null   object \n",
      "dtypes: float64(7), object(4)\n",
      "memory usage: 1.4+ MB\n"
     ]
    }
   ],
   "source": [
    "# Convertendo os dados para os tipos necessários\n",
    "df_games['user_score'] = pd.to_numeric(df_games['user_score'], errors='coerce')\n",
    "df_games.info()"
   ]
  },
  {
   "cell_type": "code",
   "execution_count": 138,
   "id": "6e66f868-90c2-4f46-a1e7-1b29dc940c6f",
   "metadata": {},
   "outputs": [
    {
     "name": "stdout",
     "output_type": "stream",
     "text": [
      "name                  2\n",
      "platform              0\n",
      "year_of_release     269\n",
      "genre                 2\n",
      "na_sales              0\n",
      "eu_sales              0\n",
      "jp_sales              0\n",
      "other_sales           0\n",
      "critic_score       8578\n",
      "user_score         9125\n",
      "rating             6766\n",
      "dtype: int64\n"
     ]
    }
   ],
   "source": [
    "# Tratando valores ausentes\n",
    "print(df_games.isna().sum())"
   ]
  },
  {
   "cell_type": "code",
   "execution_count": 139,
   "id": "f92dd09a-9b2a-492d-aa4c-8c0bb65895be",
   "metadata": {},
   "outputs": [
    {
     "data": {
      "text/html": [
       "<div>\n",
       "<style scoped>\n",
       "    .dataframe tbody tr th:only-of-type {\n",
       "        vertical-align: middle;\n",
       "    }\n",
       "\n",
       "    .dataframe tbody tr th {\n",
       "        vertical-align: top;\n",
       "    }\n",
       "\n",
       "    .dataframe thead th {\n",
       "        text-align: right;\n",
       "    }\n",
       "</style>\n",
       "<table border=\"1\" class=\"dataframe\">\n",
       "  <thead>\n",
       "    <tr style=\"text-align: right;\">\n",
       "      <th></th>\n",
       "      <th>name</th>\n",
       "      <th>platform</th>\n",
       "      <th>year_of_release</th>\n",
       "      <th>genre</th>\n",
       "      <th>na_sales</th>\n",
       "      <th>eu_sales</th>\n",
       "      <th>jp_sales</th>\n",
       "      <th>other_sales</th>\n",
       "      <th>critic_score</th>\n",
       "      <th>user_score</th>\n",
       "      <th>rating</th>\n",
       "    </tr>\n",
       "  </thead>\n",
       "  <tbody>\n",
       "    <tr>\n",
       "      <th>1</th>\n",
       "      <td>Super Mario Bros.</td>\n",
       "      <td>NES</td>\n",
       "      <td>1985.0</td>\n",
       "      <td>Platform</td>\n",
       "      <td>29.08</td>\n",
       "      <td>3.58</td>\n",
       "      <td>6.81</td>\n",
       "      <td>0.77</td>\n",
       "      <td>NaN</td>\n",
       "      <td>NaN</td>\n",
       "      <td>NaN</td>\n",
       "    </tr>\n",
       "    <tr>\n",
       "      <th>4</th>\n",
       "      <td>Pokemon Red/Pokemon Blue</td>\n",
       "      <td>GB</td>\n",
       "      <td>1996.0</td>\n",
       "      <td>Role-Playing</td>\n",
       "      <td>11.27</td>\n",
       "      <td>8.89</td>\n",
       "      <td>10.22</td>\n",
       "      <td>1.00</td>\n",
       "      <td>NaN</td>\n",
       "      <td>NaN</td>\n",
       "      <td>NaN</td>\n",
       "    </tr>\n",
       "    <tr>\n",
       "      <th>5</th>\n",
       "      <td>Tetris</td>\n",
       "      <td>GB</td>\n",
       "      <td>1989.0</td>\n",
       "      <td>Puzzle</td>\n",
       "      <td>23.20</td>\n",
       "      <td>2.26</td>\n",
       "      <td>4.22</td>\n",
       "      <td>0.58</td>\n",
       "      <td>NaN</td>\n",
       "      <td>NaN</td>\n",
       "      <td>NaN</td>\n",
       "    </tr>\n",
       "    <tr>\n",
       "      <th>9</th>\n",
       "      <td>Duck Hunt</td>\n",
       "      <td>NES</td>\n",
       "      <td>1984.0</td>\n",
       "      <td>Shooter</td>\n",
       "      <td>26.93</td>\n",
       "      <td>0.63</td>\n",
       "      <td>0.28</td>\n",
       "      <td>0.47</td>\n",
       "      <td>NaN</td>\n",
       "      <td>NaN</td>\n",
       "      <td>NaN</td>\n",
       "    </tr>\n",
       "    <tr>\n",
       "      <th>10</th>\n",
       "      <td>Nintendogs</td>\n",
       "      <td>DS</td>\n",
       "      <td>2005.0</td>\n",
       "      <td>Simulation</td>\n",
       "      <td>9.05</td>\n",
       "      <td>10.95</td>\n",
       "      <td>1.93</td>\n",
       "      <td>2.74</td>\n",
       "      <td>NaN</td>\n",
       "      <td>NaN</td>\n",
       "      <td>NaN</td>\n",
       "    </tr>\n",
       "  </tbody>\n",
       "</table>\n",
       "</div>"
      ],
      "text/plain": [
       "                        name platform  year_of_release         genre  \\\n",
       "1          Super Mario Bros.      NES           1985.0      Platform   \n",
       "4   Pokemon Red/Pokemon Blue       GB           1996.0  Role-Playing   \n",
       "5                     Tetris       GB           1989.0        Puzzle   \n",
       "9                  Duck Hunt      NES           1984.0       Shooter   \n",
       "10                Nintendogs       DS           2005.0    Simulation   \n",
       "\n",
       "    na_sales  eu_sales  jp_sales  other_sales  critic_score  user_score rating  \n",
       "1      29.08      3.58      6.81         0.77           NaN         NaN    NaN  \n",
       "4      11.27      8.89     10.22         1.00           NaN         NaN    NaN  \n",
       "5      23.20      2.26      4.22         0.58           NaN         NaN    NaN  \n",
       "9      26.93      0.63      0.28         0.47           NaN         NaN    NaN  \n",
       "10      9.05     10.95      1.93         2.74           NaN         NaN    NaN  "
      ]
     },
     "execution_count": 139,
     "metadata": {},
     "output_type": "execute_result"
    }
   ],
   "source": [
    "# Filtrando por valores 'NaN' nas colunas 'critic_score', 'user_score' e 'rating' para saber quais jogos estão com avaliações ausentes\n",
    "mutual_nan = df_games[(df_games['critic_score'].isna()) & (df_games['user_score'].isna()) & (df_games['rating'].isna())]\n",
    "mutual_nan.head()"
   ]
  },
  {
   "cell_type": "code",
   "execution_count": 140,
   "id": "06bcceb4-e2a0-4d8d-9c9b-402a18ae92ff",
   "metadata": {},
   "outputs": [
    {
     "name": "stdout",
     "output_type": "stream",
     "text": [
      "name                  2\n",
      "platform              0\n",
      "year_of_release       0\n",
      "genre                 2\n",
      "na_sales              0\n",
      "eu_sales              0\n",
      "jp_sales              0\n",
      "other_sales           0\n",
      "critic_score       8578\n",
      "user_score         9125\n",
      "rating             6766\n",
      "dtype: int64\n"
     ]
    }
   ],
   "source": [
    "# Preenchendo os valores ausentes na coluna 'year_of_release' para 0 e transformando o seu tipo para 'int'.\n",
    "df_games['year_of_release'] = df_games['year_of_release'].fillna('0').astype('int')\n",
    "print(df_games.isna().sum())"
   ]
  },
  {
   "cell_type": "code",
   "execution_count": 141,
   "id": "bbc28d67-de6f-4673-b8b5-08475e1802b4",
   "metadata": {},
   "outputs": [
    {
     "name": "stdout",
     "output_type": "stream",
     "text": [
      "0\n"
     ]
    }
   ],
   "source": [
    "# Verificando e tratando valores duplicados\n",
    "print(df_games.duplicated().sum())"
   ]
  },
  {
   "cell_type": "code",
   "execution_count": 142,
   "id": "1f40b8c5-a723-4555-b5e7-67b113a74bcb",
   "metadata": {},
   "outputs": [
    {
     "data": {
      "text/html": [
       "<div>\n",
       "<style scoped>\n",
       "    .dataframe tbody tr th:only-of-type {\n",
       "        vertical-align: middle;\n",
       "    }\n",
       "\n",
       "    .dataframe tbody tr th {\n",
       "        vertical-align: top;\n",
       "    }\n",
       "\n",
       "    .dataframe thead th {\n",
       "        text-align: right;\n",
       "    }\n",
       "</style>\n",
       "<table border=\"1\" class=\"dataframe\">\n",
       "  <thead>\n",
       "    <tr style=\"text-align: right;\">\n",
       "      <th></th>\n",
       "      <th>name</th>\n",
       "      <th>platform</th>\n",
       "      <th>year_of_release</th>\n",
       "      <th>genre</th>\n",
       "      <th>na_sales</th>\n",
       "      <th>eu_sales</th>\n",
       "      <th>jp_sales</th>\n",
       "      <th>other_sales</th>\n",
       "      <th>critic_score</th>\n",
       "      <th>user_score</th>\n",
       "      <th>rating</th>\n",
       "      <th>total_sales</th>\n",
       "    </tr>\n",
       "  </thead>\n",
       "  <tbody>\n",
       "    <tr>\n",
       "      <th>0</th>\n",
       "      <td>Wii Sports</td>\n",
       "      <td>Wii</td>\n",
       "      <td>2006</td>\n",
       "      <td>Sports</td>\n",
       "      <td>41.36</td>\n",
       "      <td>28.96</td>\n",
       "      <td>3.77</td>\n",
       "      <td>8.45</td>\n",
       "      <td>76.0</td>\n",
       "      <td>8.0</td>\n",
       "      <td>E</td>\n",
       "      <td>74.09</td>\n",
       "    </tr>\n",
       "    <tr>\n",
       "      <th>1</th>\n",
       "      <td>Super Mario Bros.</td>\n",
       "      <td>NES</td>\n",
       "      <td>1985</td>\n",
       "      <td>Platform</td>\n",
       "      <td>29.08</td>\n",
       "      <td>3.58</td>\n",
       "      <td>6.81</td>\n",
       "      <td>0.77</td>\n",
       "      <td>NaN</td>\n",
       "      <td>NaN</td>\n",
       "      <td>NaN</td>\n",
       "      <td>39.47</td>\n",
       "    </tr>\n",
       "    <tr>\n",
       "      <th>2</th>\n",
       "      <td>Mario Kart Wii</td>\n",
       "      <td>Wii</td>\n",
       "      <td>2008</td>\n",
       "      <td>Racing</td>\n",
       "      <td>15.68</td>\n",
       "      <td>12.76</td>\n",
       "      <td>3.79</td>\n",
       "      <td>3.29</td>\n",
       "      <td>82.0</td>\n",
       "      <td>8.3</td>\n",
       "      <td>E</td>\n",
       "      <td>32.23</td>\n",
       "    </tr>\n",
       "    <tr>\n",
       "      <th>3</th>\n",
       "      <td>Wii Sports Resort</td>\n",
       "      <td>Wii</td>\n",
       "      <td>2009</td>\n",
       "      <td>Sports</td>\n",
       "      <td>15.61</td>\n",
       "      <td>10.93</td>\n",
       "      <td>3.28</td>\n",
       "      <td>2.95</td>\n",
       "      <td>80.0</td>\n",
       "      <td>8.0</td>\n",
       "      <td>E</td>\n",
       "      <td>29.82</td>\n",
       "    </tr>\n",
       "    <tr>\n",
       "      <th>4</th>\n",
       "      <td>Pokemon Red/Pokemon Blue</td>\n",
       "      <td>GB</td>\n",
       "      <td>1996</td>\n",
       "      <td>Role-Playing</td>\n",
       "      <td>11.27</td>\n",
       "      <td>8.89</td>\n",
       "      <td>10.22</td>\n",
       "      <td>1.00</td>\n",
       "      <td>NaN</td>\n",
       "      <td>NaN</td>\n",
       "      <td>NaN</td>\n",
       "      <td>30.38</td>\n",
       "    </tr>\n",
       "  </tbody>\n",
       "</table>\n",
       "</div>"
      ],
      "text/plain": [
       "                       name platform  year_of_release         genre  na_sales  \\\n",
       "0                Wii Sports      Wii             2006        Sports     41.36   \n",
       "1         Super Mario Bros.      NES             1985      Platform     29.08   \n",
       "2            Mario Kart Wii      Wii             2008        Racing     15.68   \n",
       "3         Wii Sports Resort      Wii             2009        Sports     15.61   \n",
       "4  Pokemon Red/Pokemon Blue       GB             1996  Role-Playing     11.27   \n",
       "\n",
       "   eu_sales  jp_sales  other_sales  critic_score  user_score rating  \\\n",
       "0     28.96      3.77         8.45          76.0         8.0      E   \n",
       "1      3.58      6.81         0.77           NaN         NaN    NaN   \n",
       "2     12.76      3.79         3.29          82.0         8.3      E   \n",
       "3     10.93      3.28         2.95          80.0         8.0      E   \n",
       "4      8.89     10.22         1.00           NaN         NaN    NaN   \n",
       "\n",
       "   total_sales  \n",
       "0        74.09  \n",
       "1        39.47  \n",
       "2        32.23  \n",
       "3        29.82  \n",
       "4        30.38  "
      ]
     },
     "execution_count": 142,
     "metadata": {},
     "output_type": "execute_result"
    }
   ],
   "source": [
    "# Adicionando a coluna 'total_sales' no dataframe\n",
    "df_games['total_sales'] = df_games['na_sales'] + df_games['eu_sales'] + df_games['jp_sales']\n",
    "df_games.head()"
   ]
  },
  {
   "cell_type": "code",
   "execution_count": 143,
   "id": "7ac58f2f-8c1a-43d4-9ae8-17f6f4fb2e59",
   "metadata": {},
   "outputs": [],
   "source": [
    "# Filtrando apenas por jogos que foram lançadas anos válidos\n",
    "games_filtered = df_games[df_games['year_of_release'] != 0]"
   ]
  },
  {
   "cell_type": "code",
   "execution_count": null,
   "id": "408055f3-554d-4954-b1e9-dc34cce8fd9c",
   "metadata": {},
   "outputs": [],
   "source": []
  },
  {
   "cell_type": "markdown",
   "id": "98f2316e-dafa-4d48-a235-e2da1c44a551",
   "metadata": {},
   "source": [
    "# Análise de dados"
   ]
  },
  {
   "cell_type": "markdown",
   "id": "0e99237e-47a4-448e-aea2-ebe143169b9e",
   "metadata": {},
   "source": [
    "<span style=\"color: blue; font-family: Arial; font-size: 20px;\">\n",
    "Calculando quantos jogos foram lançados a cada ano."
   ]
  },
  {
   "cell_type": "code",
   "execution_count": 146,
   "id": "33dfbc44-9861-4479-a171-406484096155",
   "metadata": {},
   "outputs": [
    {
     "data": {
      "text/plain": [
       "year_of_release\n",
       "1980       9\n",
       "1981      46\n",
       "1982      36\n",
       "1983      17\n",
       "1984      14\n",
       "1985      14\n",
       "1986      21\n",
       "1987      16\n",
       "1988      15\n",
       "1989      17\n",
       "1990      16\n",
       "1991      41\n",
       "1992      43\n",
       "1993      60\n",
       "1994     121\n",
       "1995     219\n",
       "1996     263\n",
       "1997     289\n",
       "1998     379\n",
       "1999     338\n",
       "2000     350\n",
       "2001     482\n",
       "2002     829\n",
       "2003     775\n",
       "2004     762\n",
       "2005     939\n",
       "2006    1006\n",
       "2007    1197\n",
       "2008    1427\n",
       "2009    1426\n",
       "2010    1255\n",
       "2011    1136\n",
       "2012     653\n",
       "2013     544\n",
       "2014     581\n",
       "2015     606\n",
       "2016     502\n",
       "Name: name, dtype: int64"
      ]
     },
     "execution_count": 146,
     "metadata": {},
     "output_type": "execute_result"
    }
   ],
   "source": [
    "games_per_year = games_filtered.groupby('year_of_release')['name'].count()\n",
    "games_per_year"
   ]
  },
  {
   "cell_type": "code",
   "execution_count": 147,
   "id": "25bb9622-b6d6-4ebb-b584-c94657346435",
   "metadata": {},
   "outputs": [
    {
     "data": {
      "image/png": "[encoded data removed]",
      "text/plain": [
       "<Figure size 1000x500 with 1 Axes>"
      ]
     },
     "metadata": {},
     "output_type": "display_data"
    }
   ],
   "source": [
    "games_per_year.plot(kind='bar', figsize=(10, 5), title='Jogos lançados por ano')\n",
    "plt.xlabel('Ano')\n",
    "plt.ylabel('Jogos')\n",
    "plt.xticks(rotation=45)\n",
    "plt.tight_layout()\n",
    "plt.show()"
   ]
  },
  {
   "cell_type": "markdown",
   "id": "2bad2db2-2065-4561-b25e-ea09462eb65f",
   "metadata": {},
   "source": [
    "<span style=\"color: black; font-family: Arial; font-size: 20px;\">\n",
    "Nessa análise será escolhida apenas o período de tempo mais relevante para que a campanha publicitária de 2017 tenha o maior efeito possível. Portanto serão usadas na análise apenas os dados dos últimos anos."
   ]
  },
  {
   "cell_type": "code",
   "execution_count": 149,
   "id": "a1159834-b5da-4295-a289-b672217b9c9b",
   "metadata": {},
   "outputs": [],
   "source": [
    "# Filtrando os dados apenas para jogos dos últimos anos\n",
    "df_games_filtered = df_games[df_games['year_of_release'].between(2012, 2017)]"
   ]
  },
  {
   "cell_type": "markdown",
   "id": "f6a12397-7ead-4e46-893e-d1191283b81c",
   "metadata": {},
   "source": [
    "<span style=\"color: blue; font-family: Arial; font-size: 20px;\">\n",
    "Selecionando as 5 plataformas com maiores vendas"
   ]
  },
  {
   "cell_type": "code",
   "execution_count": 151,
   "id": "86f0d998-9ef7-4c00-9603-10ff37af2660",
   "metadata": {},
   "outputs": [
    {
     "data": {
      "text/plain": [
       "platform\n",
       "PS4     265.79\n",
       "PS3     245.53\n",
       "X360    216.14\n",
       "3DS     185.74\n",
       "XOne    145.05\n",
       "Name: total_sales, dtype: float64"
      ]
     },
     "execution_count": 151,
     "metadata": {},
     "output_type": "execute_result"
    }
   ],
   "source": [
    "top_sales_per_platform = df_games_filtered.groupby('platform')['total_sales'].sum().sort_values(ascending=False).head(5)\n",
    "top_sales_per_platform"
   ]
  },
  {
   "cell_type": "code",
   "execution_count": 152,
   "id": "57355937-ea9c-454b-bbcc-8b537433d89d",
   "metadata": {},
   "outputs": [
    {
     "data": {
      "text/plain": [
       "platform\n",
       "X360    0.740205\n",
       "PS4     0.678036\n",
       "Wii     0.606667\n",
       "XOne    0.587247\n",
       "WiiU    0.518639\n",
       "PS3     0.498032\n",
       "3DS     0.469040\n",
       "DS      0.381935\n",
       "PC      0.227520\n",
       "PSV     0.105547\n",
       "PSP     0.063699\n",
       "Name: total_sales, dtype: float64"
      ]
     },
     "execution_count": 152,
     "metadata": {},
     "output_type": "execute_result"
    }
   ],
   "source": [
    "mean_sales_per_platform = df_games_filtered.groupby('platform')['total_sales'].mean().sort_values(ascending=False)\n",
    "mean_sales_per_platform"
   ]
  },
  {
   "cell_type": "code",
   "execution_count": 153,
   "id": "51072930-959c-4458-a564-5fdc9ed433bb",
   "metadata": {},
   "outputs": [
    {
     "data": {
      "image/png": "[encoded data removed]",
      "text/plain": [
       "<Figure size 1000x500 with 1 Axes>"
      ]
     },
     "metadata": {},
     "output_type": "display_data"
    }
   ],
   "source": [
    "# Construindo uma distribuição para mostrar as 5 plataformas que mais venderam ano após ano\n",
    "sales_year_platform = df_games_filtered.pivot_table(index='year_of_release', columns='platform', values='total_sales', aggfunc='sum')\n",
    "top5_platforms = top_sales_per_platform.index\n",
    "sales_year_platform_top5 = sales_year_platform[top5_platforms]\n",
    "\n",
    "# Plotando um gráfico\n",
    "sales_year_platform_top5.plot(kind='bar', figsize=(10, 5), title='Top 5 Plataformas que mais venderam ano após ano')\n",
    "plt.xlabel('Ano')\n",
    "plt.ylabel('Vendas Totais (milhões)')\n",
    "plt.xticks(rotation=45)\n",
    "plt.tight_layout()\n",
    "plt.show()"
   ]
  },
  {
   "cell_type": "code",
   "execution_count": 154,
   "id": "b2622996-71db-4e2c-9541-1dd90710185e",
   "metadata": {},
   "outputs": [
    {
     "data": {
      "text/plain": [
       "(0.0, 2.0)"
      ]
     },
     "execution_count": 154,
     "metadata": {},
     "output_type": "execute_result"
    },
    {
     "data": {
      "image/png": "[encoded data removed]",
      "text/plain": [
       "<Figure size 1200x600 with 1 Axes>"
      ]
     },
     "metadata": {},
     "output_type": "display_data"
    }
   ],
   "source": [
    "plt.figure(figsize=(12, 6))\n",
    "sns.boxplot(data=df_games_filtered, x='platform', y='total_sales')\n",
    "plt.xlabel('Plataforma')\n",
    "plt.ylabel('Vendas Totais (milhões)')\n",
    "plt.ylim(0,2)"
   ]
  },
  {
   "cell_type": "markdown",
   "id": "3510f5f5-7e50-44de-9b2d-43bb2cef10f3",
   "metadata": {},
   "source": [
    "<span style=\"color: black; font-family: Arial; font-size: 20px;\">\n",
    "Das 5 plataformas selecionadas, a que está liderando em vendas é o PS4, seguido pelo PS3. \n",
    "\n",
    "- A plataforma que mais cresceu ano após ano foi o PS4, mostrando um aumento gradativo e apenas caindo em vendas no ano de 2016.\n",
    "\n",
    "- As plataformas que mais diminuiram em vendas ano após ano foram o X360 e o PS3.\n",
    "\n",
    "- A plataforma mais potencialmente lucrativa é o PS4.\n",
    "\n",
    "- X360 é a plataforma com maior venda média."
   ]
  },
  {
   "cell_type": "markdown",
   "id": "af72bb11-c874-419d-8fee-eb8889560d22",
   "metadata": {},
   "source": [
    "<span style=\"color: blue; font-family: Arial; font-size: 20px;\">\n",
    "Calculando os gêneros mais vendidos"
   ]
  },
  {
   "cell_type": "code",
   "execution_count": 157,
   "id": "c68f90f1-2937-43bf-9540-b603bcff1573",
   "metadata": {},
   "outputs": [
    {
     "data": {
      "text/plain": [
       "genre\n",
       "Action          389.98\n",
       "Shooter         267.47\n",
       "Role-Playing    177.97\n",
       "Sports          158.63\n",
       "Misc             77.37\n",
       "Name: total_sales, dtype: float64"
      ]
     },
     "execution_count": 157,
     "metadata": {},
     "output_type": "execute_result"
    }
   ],
   "source": [
    "top_profit_genre = df_games_filtered.groupby('genre')['total_sales'].sum().sort_values(ascending=False).head(5)\n",
    "top_profit_genre"
   ]
  },
  {
   "cell_type": "code",
   "execution_count": 158,
   "id": "68fcba78-3445-4fb3-8866-886d4bcd237f",
   "metadata": {},
   "outputs": [
    {
     "data": {
      "image/png": "[encoded data removed]",
      "text/plain": [
       "<Figure size 1000x500 with 1 Axes>"
      ]
     },
     "metadata": {},
     "output_type": "display_data"
    }
   ],
   "source": [
    "top_profit_genre.plot(kind='bar', figsize=(10, 5), title='Gêneros mais vendidos')\n",
    "plt.xlabel('Gênero')\n",
    "plt.ylabel('Vendas Totais (milhões)')\n",
    "plt.xticks(rotation=45)\n",
    "plt.tight_layout()\n",
    "plt.show()"
   ]
  },
  {
   "cell_type": "markdown",
   "id": "08fa42df-66ff-4bbf-86e6-bd16eba48d27",
   "metadata": {},
   "source": [
    "<span style=\"color: black; font-family: Arial; font-size: 20px;\">\n",
    "Dentro dos 5 principais gêneros, o mais vendido é o 'Action' e o menos vendido é o 'Misc'."
   ]
  },
  {
   "cell_type": "markdown",
   "id": "0bf8ab17-a45a-492d-8b81-27b8bad85807",
   "metadata": {},
   "source": [
    "<span style=\"color: blue; font-family: Arial; font-size: 20px;\">\n",
    "Calculando as 5 principais plataformas por região."
   ]
  },
  {
   "cell_type": "code",
   "execution_count": 161,
   "id": "57a2506d-a44b-4eb9-9e6a-263e281e638a",
   "metadata": {},
   "outputs": [
    {
     "data": {
      "image/png": "[encoded data removed]",
      "text/plain": [
       "<Figure size 1000x500 with 1 Axes>"
      ]
     },
     "metadata": {},
     "output_type": "display_data"
    }
   ],
   "source": [
    "# 5 principais plataformas liderando em vendas nos EUA\n",
    "top_na_platforms = df_games_filtered.groupby('platform')['na_sales'].sum().sort_values(ascending=False).head(5)\n",
    "\n",
    "#Plotando um gráfico\n",
    "top_na_platforms.plot(kind='bar', figsize=(10, 5), color='skyblue', title='Top 5 plataformas que mais venderam nos EUA')\n",
    "plt.xlabel('Plataforma')\n",
    "plt.ylabel('Vendas Totais (milhões)')\n",
    "plt.xticks(rotation=45)\n",
    "plt.tight_layout()\n",
    "plt.show()"
   ]
  },
  {
   "cell_type": "code",
   "execution_count": 162,
   "id": "867f54b5-9995-4910-8b0c-8971a20e565e",
   "metadata": {},
   "outputs": [
    {
     "data": {
      "image/png": "[encoded data removed]",
      "text/plain": [
       "<Figure size 1000x500 with 1 Axes>"
      ]
     },
     "metadata": {},
     "output_type": "display_data"
    }
   ],
   "source": [
    "# 5 principais plataformas liderando em vendas na Europa\n",
    "top_eu_platforms = df_games_filtered.groupby('platform')['eu_sales'].sum().sort_values(ascending=False).head(5)\n",
    "\n",
    "#Plotando um gráfico\n",
    "top_eu_platforms.plot(kind='bar', figsize=(10, 5), color='green', title='Top 5 plataformas que mais venderam na Europa')\n",
    "plt.xlabel('Plataforma')\n",
    "plt.ylabel('Vendas Totais (milhões)')\n",
    "plt.xticks(rotation=45)\n",
    "plt.tight_layout()\n",
    "plt.show()"
   ]
  },
  {
   "cell_type": "code",
   "execution_count": 163,
   "id": "b0fafbaf-71fd-45e7-8483-74c7933b0947",
   "metadata": {},
   "outputs": [
    {
     "data": {
      "image/png": "[encoded data removed]",
      "text/plain": [
       "<Figure size 1000x500 with 1 Axes>"
      ]
     },
     "metadata": {},
     "output_type": "display_data"
    }
   ],
   "source": [
    "# 5 principais plataformas liderando em vendas no Japão\n",
    "top_jp_platforms = df_games_filtered.groupby('platform')['jp_sales'].sum().sort_values(ascending=False).head(5)\n",
    "\n",
    "#Plotando um gráfico\n",
    "top_jp_platforms.plot(kind='bar', figsize=(10, 5), color='red', title='Top 5 plataformas que mais venderam no Japão')\n",
    "plt.xlabel('Plataforma')\n",
    "plt.ylabel('Vendas Totais (milhões)')\n",
    "plt.xticks(rotation=45)\n",
    "plt.tight_layout()\n",
    "plt.show()"
   ]
  },
  {
   "cell_type": "markdown",
   "id": "52e21bfc-b66e-4af6-a373-54b2eef0a207",
   "metadata": {},
   "source": [
    "<span style=\"color: black; font-family: Arial; font-size: 20px;\">\n",
    "    \n",
    "A plataforma X360 lidera em vendas nos EUA.\n",
    "\n",
    "PS4 lidera em vendas na Europa.\n",
    "\n",
    "3DS lidera em venda no Japão."
   ]
  },
  {
   "cell_type": "markdown",
   "id": "343b71cb-b5fb-4ae5-9452-8ab67d23e508",
   "metadata": {},
   "source": [
    "<span style=\"color: blue; font-family: Arial; font-size: 20px;\">\n",
    "Calculando as 5 principais plataformas por região."
   ]
  },
  {
   "cell_type": "code",
   "execution_count": 166,
   "id": "70e4cfbd-c2cc-47b5-8ce2-619ff28e832e",
   "metadata": {},
   "outputs": [
    {
     "data": {
      "image/png": "[encoded data removed]",
      "text/plain": [
       "<Figure size 1000x500 with 1 Axes>"
      ]
     },
     "metadata": {},
     "output_type": "display_data"
    }
   ],
   "source": [
    "# 5 principais generos liderando em vendas nos EUA\n",
    "top_na_genre = df_games_filtered.groupby('genre')['na_sales'].sum().sort_values(ascending=False).head(5)\n",
    "\n",
    "#Plotando um gráfico\n",
    "top_na_genre.plot(kind='bar', figsize=(10, 5), color='skyblue', title='Top 5 gêneros que mais venderam nos EUA')\n",
    "plt.xlabel('Gênero')\n",
    "plt.ylabel('Vendas Totais (milhões)')\n",
    "plt.xticks(rotation=45)\n",
    "plt.tight_layout()\n",
    "plt.show()"
   ]
  },
  {
   "cell_type": "code",
   "execution_count": 167,
   "id": "448489b5-3e24-47a5-87ac-27f09948098c",
   "metadata": {},
   "outputs": [
    {
     "data": {
      "image/png": "[encoded data removed]",
      "text/plain": [
       "<Figure size 1000x500 with 1 Axes>"
      ]
     },
     "metadata": {},
     "output_type": "display_data"
    }
   ],
   "source": [
    "# 5 principais generos liderando em vendas na Europa\n",
    "top_eu_genre = df_games_filtered.groupby('genre')['eu_sales'].sum().sort_values(ascending=False).head(5)\n",
    "\n",
    "#Plotando um gráfico\n",
    "top_eu_genre.plot(kind='bar', figsize=(10, 5), color='green', title='Top 5 gêneros que mais venderam na Europa')\n",
    "plt.xlabel('Gênero')\n",
    "plt.ylabel('Vendas Totais (milhões)')\n",
    "plt.xticks(rotation=45)\n",
    "plt.tight_layout()\n",
    "plt.show()"
   ]
  },
  {
   "cell_type": "code",
   "execution_count": 168,
   "id": "a71df96d-e676-4e93-98c7-8c54859e6988",
   "metadata": {},
   "outputs": [
    {
     "data": {
      "image/png": "[encoded data removed]",
      "text/plain": [
       "<Figure size 1000x500 with 1 Axes>"
      ]
     },
     "metadata": {},
     "output_type": "display_data"
    }
   ],
   "source": [
    "# 5 principais generos liderando em vendas no Japão\n",
    "top_jp_genre = df_games_filtered.groupby('genre')['jp_sales'].sum().sort_values(ascending=False).head(5)\n",
    "\n",
    "#Plotando um gráfico\n",
    "top_jp_genre.plot(kind='bar', figsize=(10, 5), color='red', title='Top 5 gêneros que mais venderam no Japão')\n",
    "plt.xlabel('Gênero')\n",
    "plt.ylabel('Vendas Totais (milhões)')\n",
    "plt.xticks(rotation=45)\n",
    "plt.tight_layout()\n",
    "plt.show()"
   ]
  },
  {
   "cell_type": "markdown",
   "id": "4e56aebd-c3c1-4c61-91f0-267f0118373e",
   "metadata": {},
   "source": [
    "<span style=\"color: black; font-family: Arial; font-size: 20px;\">\n",
    "    \n",
    "O gênero 'Action' é o mais vendido nos EUA e na Europa. No Japão o mais vendido é o 'Role-Playing'."
   ]
  },
  {
   "cell_type": "markdown",
   "id": "6e2bd127-7349-475c-88af-c13c02f40e76",
   "metadata": {},
   "source": [
    "<span style=\"color: blue; font-family: Arial; font-size: 20px;\">\n",
    "Calculando quais classificações indicativas de jogos mais venderam por região"
   ]
  },
  {
   "cell_type": "code",
   "execution_count": 171,
   "id": "593e614e-ad16-451d-93b5-bf48ecfb85c0",
   "metadata": {},
   "outputs": [
    {
     "data": {
      "image/png": "[encoded data removed]",
      "text/plain": [
       "<Figure size 1000x500 with 1 Axes>"
      ]
     },
     "metadata": {},
     "output_type": "display_data"
    }
   ],
   "source": [
    "top_rating_sales = df_games_filtered.groupby('rating')[['na_sales', 'eu_sales', 'jp_sales']].agg('sum').sort_values(by='na_sales', ascending=False)\n",
    "\n",
    "#Plotando um gráfico\n",
    "top_rating_sales.plot(kind='bar', figsize=(10, 5), title='Classificações indicativas mais vendidas por região')\n",
    "plt.xlabel('Classificação Indicativa')\n",
    "plt.ylabel('Vendas Totais (milhões)')\n",
    "plt.xticks(rotation=45)\n",
    "plt.tight_layout()\n",
    "plt.show()"
   ]
  },
  {
   "cell_type": "markdown",
   "id": "a16669d4-206a-4b1a-be83-cd60e3d2e676",
   "metadata": {},
   "source": [
    "<span style=\"color: black; font-family: Arial; font-size: 20px;\">\n",
    "    \n",
    "Jogos com classificação indicativa 'Mature' foram os que mais tiveram vendas."
   ]
  },
  {
   "cell_type": "markdown",
   "id": "78f57503-e341-4f94-94af-ba5334e3e99b",
   "metadata": {},
   "source": [
    "<span style=\"color: blue; font-family: Arial; font-size: 20px;\">\n",
    "Escolhendo a plataforma PS4 e calculando suas principais métricas"
   ]
  },
  {
   "cell_type": "code",
   "execution_count": 174,
   "id": "678c82a7-c296-4d10-afcd-185524afb74b",
   "metadata": {},
   "outputs": [
    {
     "data": {
      "text/html": [
       "<div>\n",
       "<style scoped>\n",
       "    .dataframe tbody tr th:only-of-type {\n",
       "        vertical-align: middle;\n",
       "    }\n",
       "\n",
       "    .dataframe tbody tr th {\n",
       "        vertical-align: top;\n",
       "    }\n",
       "\n",
       "    .dataframe thead th {\n",
       "        text-align: right;\n",
       "    }\n",
       "</style>\n",
       "<table border=\"1\" class=\"dataframe\">\n",
       "  <thead>\n",
       "    <tr style=\"text-align: right;\">\n",
       "      <th></th>\n",
       "      <th>platform</th>\n",
       "      <th>name</th>\n",
       "      <th>total_sales</th>\n",
       "      <th>critic_score</th>\n",
       "      <th>user_score</th>\n",
       "    </tr>\n",
       "  </thead>\n",
       "  <tbody>\n",
       "    <tr>\n",
       "      <th>0</th>\n",
       "      <td>PS4</td>\n",
       "      <td>7 Days to Die</td>\n",
       "      <td>0.12</td>\n",
       "      <td>45.0</td>\n",
       "      <td>5.9</td>\n",
       "    </tr>\n",
       "    <tr>\n",
       "      <th>1</th>\n",
       "      <td>PS4</td>\n",
       "      <td>Aegis of Earth: Protonovus Assault</td>\n",
       "      <td>0.02</td>\n",
       "      <td>57.0</td>\n",
       "      <td>7.8</td>\n",
       "    </tr>\n",
       "    <tr>\n",
       "      <th>2</th>\n",
       "      <td>PS4</td>\n",
       "      <td>Agatha Christie's The ABC Murders</td>\n",
       "      <td>0.02</td>\n",
       "      <td>67.0</td>\n",
       "      <td>6.2</td>\n",
       "    </tr>\n",
       "    <tr>\n",
       "      <th>3</th>\n",
       "      <td>PS4</td>\n",
       "      <td>Alien: Isolation</td>\n",
       "      <td>0.95</td>\n",
       "      <td>79.0</td>\n",
       "      <td>8.1</td>\n",
       "    </tr>\n",
       "    <tr>\n",
       "      <th>4</th>\n",
       "      <td>PS4</td>\n",
       "      <td>Angry Birds Star Wars</td>\n",
       "      <td>0.18</td>\n",
       "      <td>47.0</td>\n",
       "      <td>2.0</td>\n",
       "    </tr>\n",
       "  </tbody>\n",
       "</table>\n",
       "</div>"
      ],
      "text/plain": [
       "  platform                                name  total_sales  critic_score  \\\n",
       "0      PS4                       7 Days to Die         0.12          45.0   \n",
       "1      PS4  Aegis of Earth: Protonovus Assault         0.02          57.0   \n",
       "2      PS4   Agatha Christie's The ABC Murders         0.02          67.0   \n",
       "3      PS4                    Alien: Isolation         0.95          79.0   \n",
       "4      PS4               Angry Birds Star Wars         0.18          47.0   \n",
       "\n",
       "   user_score  \n",
       "0         5.9  \n",
       "1         7.8  \n",
       "2         6.2  \n",
       "3         8.1  \n",
       "4         2.0  "
      ]
     },
     "execution_count": 174,
     "metadata": {},
     "output_type": "execute_result"
    }
   ],
   "source": [
    "# Escolhendo a plataforma PS4 e filtrando-a\n",
    "ps4_ratings = df_games_filtered[(df_games_filtered['critic_score'] > 0) & (df_games_filtered['user_score'] > 0) & (df_games_filtered['platform'] == 'PS4')].groupby(['platform', 'name'])[['total_sales', 'critic_score', 'user_score']].sum().reset_index()\n",
    "ps4_ratings.head()"
   ]
  },
  {
   "cell_type": "code",
   "execution_count": 175,
   "id": "52077963-7a04-485b-b8cb-531230d0b989",
   "metadata": {},
   "outputs": [
    {
     "data": {
      "text/plain": [
       "0.4052233666150137"
      ]
     },
     "execution_count": 175,
     "metadata": {},
     "output_type": "execute_result"
    }
   ],
   "source": [
    "# Calculando a correlação das vendas totais de PS4 com a avaliações dos críticos\n",
    "ps4_ratings['total_sales'].corr(ps4_ratings['critic_score'])"
   ]
  },
  {
   "cell_type": "code",
   "execution_count": 176,
   "id": "d9494c8c-6e46-453b-99e8-2efedb7a86c1",
   "metadata": {},
   "outputs": [
    {
     "data": {
      "text/plain": [
       "-0.032922870164094176"
      ]
     },
     "execution_count": 176,
     "metadata": {},
     "output_type": "execute_result"
    }
   ],
   "source": [
    "# Calculando a correlação das vendas totais de PS4 com a avaliações dos usuários\n",
    "ps4_ratings['total_sales'].corr(ps4_ratings['user_score'])"
   ]
  },
  {
   "cell_type": "code",
   "execution_count": 177,
   "id": "66ff5c7e-cfdf-48f8-869c-2dc0b9d75713",
   "metadata": {},
   "outputs": [
    {
     "data": {
      "application/vnd.plotly.v1+json": {
       "config": {
        "plotlyServerURL": "https://plot.ly"
       },
       "data": [
        {
         "hovertemplate": "<b>%{hovertext}</b><br><br>platform=PS4<br>Avaliação dos críticos=%{x}<br>Avaliação dos usuários=%{y}<br>Vendas Totais=%{marker.size}<extra></extra>",
         "hovertext": [
          "7 Days to Die",
          "Aegis of Earth: Protonovus Assault",
          "Agatha Christie's The ABC Murders",
          "Alien: Isolation",
          "Angry Birds Star Wars",
          "Anima - Gate of Memories",
          "Arslan: The Warriors of Legend",
          "Assassin's Creed Chronicles: China",
          "Assassin's Creed IV: Black Flag",
          "Assassin's Creed Syndicate",
          "Assassin's Creed The Ezio Collection",
          "Assassin's Creed: Unity",
          "Assetto Corsa",
          "Atelier Sophie: The Alchemist of the Mysterious Book",
          "Batman: Arkham Knight",
          "Batman: Arkham VR",
          "Batman: Return to Arkham",
          "Battleborn",
          "Battlefield 1",
          "Battlefield 4",
          "Battlefield: Hardline",
          "Battlezone",
          "BioShock The Collection",
          "Bladestorm: Nightmare",
          "BlazBlue Central Fiction",
          "BlazBlue: Chrono Phantasma Extend",
          "Bloodborne",
          "Borderlands: The Handsome Collection",
          "Bound By Flame",
          "Broken Sword 5: The Serpent's Curse",
          "Brothers: A Tale of Two Sons",
          "Call of Duty: Advanced Warfare",
          "Call of Duty: Ghosts",
          "Call of Duty: Infinite Warfare",
          "Carmageddon: Max Damage",
          "Child of Light",
          "Dark Souls III",
          "Darksiders: Warmastered Edition",
          "Dead Island Definitive Collection",
          "Dead Rising",
          "Dead Rising 2",
          "Dead or Alive Xtreme 3: Fortune",
          "Deadpool",
          "Destiny",
          "Destiny: The Taken King",
          "Deus Ex: Mankind Divided",
          "DiRT Rally",
          "Digimon Story: Cyber Sleuth",
          "Dino Dini's Kick Off Revival",
          "Disgaea 5: Alliance of Vengeance",
          "Dishonored 2",
          "Don Bradman Cricket 14",
          "Dragon Age: Inquisition",
          "Dragon Ball: XenoVerse",
          "Dragon Ball: Xenoverse 2",
          "DriveClub",
          "DriveClub VR",
          "Duke Nukem 3D: 20th Anniversary World Tour",
          "Dungeons 2",
          "Dying Light",
          "Dynasty Warriors 8: Empires",
          "EA Sports UFC",
          "EA Sports UFC 2",
          "EVE: Valkyrie",
          "Eagle Flight",
          "Earth Defense Force 4.1: The Shadow of New Despair",
          "Evolve",
          "Exist Archive: The Other Side of the Sky",
          "F1 2015",
          "FIFA 14",
          "FIFA 15",
          "FIFA 16",
          "FIFA 17",
          "Fairy Fencer F: Advent Dark Force",
          "Fallout 4",
          "Far Cry 4",
          "Far Cry: Primal",
          "Farming Simulator 17",
          "Final Fantasy XIV: Heavensward",
          "God Eater 2: Rage Burst",
          "God Eater Resurrection",
          "Grand Ages: Medieval",
          "Grand Kingdom",
          "Grand Theft Auto V",
          "Gravity Rush Remastered",
          "Guitar Hero Live",
          "Hatsune Miku: Project Diva X",
          "Here They Lie",
          "Homefront: The Revolution",
          "Infamous: First Light",
          "JoJo's Bizarre Adventure: Eyes of Heaven",
          "Just Cause 3",
          "Just Dance 2014",
          "Just Dance 2015",
          "Just Dance 2016",
          "Killing Floor 2 ",
          "Killzone: Shadow Fall",
          "Knack",
          "LEGO Dimensions",
          "LEGO Harry Potter Collection",
          "LEGO Jurassic World",
          "LEGO Marvel Super Heroes",
          "LEGO Marvel's Avengers",
          "LEGO The Hobbit",
          "Lara Croft and the Temple of Osiris",
          "Legend of Kay Anniversary",
          "Lego Batman 3: Beyond Gotham",
          "Lego Star Wars: The Force Awakens",
          "Life is Strange",
          "LittleBigPlanet 3",
          "Lords of the Fallen",
          "MLB 14: The Show",
          "MLB 15: The Show",
          "MX vs. ATV Supercross Encore",
          "Madden NFL 15",
          "Madden NFL 16",
          "Madden NFL 17",
          "Madden NFL 25",
          "Mafia III",
          "Mark McMorris Infinite Air",
          "Mega Man Legacy Collection",
          "Metal Gear Solid V: Ground Zeroes",
          "Metal Gear Solid V: The Phantom Pain",
          "Middle-Earth: Shadow of Mordor",
          "Mighty No. 9",
          "Mirror's Edge Catalyst",
          "Mortal Kombat X",
          "MotoGP 14 ",
          "Murdered: Soul Suspect",
          "NASCAR Heat Evolution",
          "NBA 2K14",
          "NBA 2K15",
          "NBA 2K16",
          "NBA 2K17",
          "NBA Live 14",
          "NBA Live 15",
          "NBA Live 16",
          "NHL 15",
          "NHL 16",
          "NHL 17",
          "Naruto Shippuden: Ultimate Ninja Storm 4",
          "Natural Doctrine",
          "Need for Speed Rivals",
          "Nights of Azure",
          "Nitroplus Blasterz: Heroines Infinite Duel",
          "No Man's Sky",
          "Nobunaga's Ambition: Sphere of Influence",
          "Odin Sphere: Leifthrasir",
          "Omega Quintet",
          "One Piece: Burning Blood",
          "One Piece: Pirate Warriors 3",
          "Onechanbara Z2: Chaos",
          "Overwatch",
          "Plants vs. Zombies: Garden Warfare",
          "Plants vs. Zombies: Garden Warfare 2",
          "PlayStation VR Worlds",
          "Prison Architect",
          "Pro Evolution Soccer 2015",
          "Pro Evolution Soccer 2016",
          "Pro Evolution Soccer 2017",
          "Project CARS",
          "Prototype: Biohazard Bundle",
          "Psycho-Pass: Mandatory Happiness",
          "Putty Squad",
          "RIGS: Mechanized Combat League",
          "Rayman Legends",
          "Republique",
          "Resident Evil 6",
          "Resident Evil: Revelations 2",
          "Ride",
          "Ride 2",
          "Robinson: The Journey",
          "Rock Band 4",
          "Rocket League",
          "Root Letter",
          "Rory McIlroy PGA Tour",
          "Rugby 15",
          "Rugby Challenge 3",
          "Rugby World Cup 2015",
          "Saint Seiya: Soldiers' Soul",
          "Saints Row: Gat out of Hell",
          "Samurai Warriors 4",
          "Samurai Warriors 4-II",
          "Samurai Warriors 4: Empires",
          "Senran Kagura: Estival Versus",
          "Sherlock Holmes: The Devil's Daughter",
          "Shovel Knight",
          "Singstar: Ultimate Party",
          "Skylanders Imaginators",
          "Skylanders SWAP Force",
          "Skylanders: SuperChargers",
          "Skylanders: Trap Team",
          "Sniper Elite 3",
          "Song of the Deep",
          "Steins;Gate 0",
          "Street Fighter V",
          "Super Dungeon Bros",
          "Super Stardust Ultra VR",
          "Sword Art Online: Hollow Realization",
          "Sword Art Online: Lost Song",
          "Sébastien Loeb Rally Evo",
          "Tales of Zestiria",
          "Tearaway Unfolded",
          "Teenage Mutant Ninja Turtles: Mutants in Manhattan",
          "Terraria",
          "The Book of Unwritten Tales 2",
          "The Crew",
          "The Crew: Wild Run",
          "The Evil Within",
          "The Golf Club",
          "The King of Fighters XIV",
          "The LEGO Movie Videogame",
          "The Order: 1886",
          "The Peanuts Movie: Snoopy's Grand Adventure",
          "The Talos Principle",
          "The Technomancer",
          "The Witcher 3: Wild Hunt",
          "The Wolf Among Us",
          "Titanfall 2",
          "Tom Clancy's Rainbow Six: Siege",
          "Tom Clancy's The Division",
          "Tony Hawk's Pro Skater 5",
          "Touhou Genso Rondo: Bullet Ballet",
          "Toukiden Kiwami",
          "Tour de France 2014",
          "Toy Soldiers: War Chest",
          "TrackMania Turbo",
          "Transformers: Devastation",
          "Trials Fusion",
          "Tropico 5",
          "UEFA Euro 2016",
          "Ultra Street Fighter IV",
          "Uncharted 4: A Thief's End",
          "Uncharted: The Nathan Drake Collection",
          "Until Dawn",
          "Until Dawn: Rush of Blood",
          "Valentino Rossi: The Game",
          "WWE 2K15",
          "WWE 2K16",
          "WWE 2K17",
          "Watch Dogs",
          "Watch Dogs 2",
          "Wolfenstein: The New Order",
          "Wolfenstein: The Old Blood",
          "World of Final Fantasy",
          "Worms: WMD",
          "XCOM 2",
          "Zombie Army Trilogy",
          "inFAMOUS: Second Son"
         ],
         "legendgroup": "PS4",
         "marker": {
          "color": "#636efa",
          "size": [
           0.12,
           0.02,
           0.02,
           0.95,
           0.18,
           0.02,
           0.08,
           0.03,
           2.44,
           2.8699999999999997,
           0.17,
           3.34,
           0.05,
           0.11,
           3.32,
           0.25,
           0.23,
           0.22,
           3.46,
           3.0700000000000003,
           1.79,
           0.04,
           0.31000000000000005,
           0.15,
           0.07,
           0.12000000000000001,
           2.1,
           0.74,
           0.16999999999999998,
           0.06,
           0.11,
           6.43,
           3.26,
           3.7600000000000002,
           0.01,
           0.05,
           1.4400000000000002,
           0.02,
           0.11,
           0.03,
           0.02,
           0.05,
           0.25,
           4.720000000000001,
           1.61,
           0.32,
           0.31,
           0.1,
           0.02,
           0.25,
           0.54,
           0.09999999999999999,
           1.69,
           0.9400000000000001,
           0.6,
           1.7599999999999998,
           0.08,
           0.03,
           0.01,
           1.75,
           0.16,
           0.88,
           0.78,
           0.08,
           0.060000000000000005,
           0.05,
           0.8200000000000001,
           0.04,
           0.5700000000000001,
           2.57,
           5.18,
           7.3,
           6.49,
           0.07,
           6.04,
           3.41,
           1.9100000000000001,
           0.36,
           0.12,
           0.09999999999999999,
           0.08,
           0.07,
           0.06,
           10.65,
           0.11000000000000001,
           0.72,
           0.04,
           0.02,
           0.30000000000000004,
           0.03,
           0.03,
           1.57,
           0.35,
           0.32,
           0.30000000000000004,
           0.04,
           2.3000000000000003,
           1.53,
           0.61,
           0.12,
           0.76,
           1.36,
           0.61,
           0.51,
           0.07,
           0.02,
           0.77,
           0.6,
           0.32999999999999996,
           1.6,
           0.44,
           0.58,
           0.76,
           0.05,
           1.79,
           2.6399999999999997,
           1.42,
           0.76,
           1.53,
           0.01,
           0.07,
           1.0899999999999999,
           2.9400000000000004,
           2.4899999999999998,
           0.04,
           0.29000000000000004,
           2.3,
           0.15,
           0.27,
           0.04,
           1.21,
           2.0199999999999996,
           3.18,
           1.54,
           0.2,
           0.2,
           0.14,
           0.5,
           0.52,
           0.27,
           0.97,
           0.09000000000000001,
           1.68,
           0.05,
           0.03,
           1.4200000000000002,
           0.03,
           0.18000000000000002,
           0.02,
           0.31,
           0.41000000000000003,
           0.21000000000000002,
           1.81,
           0.51,
           0.41000000000000003,
           0.22,
           0.02,
           0.65,
           0.68,
           0.4,
           0.9199999999999999,
           0.01,
           0.03,
           0.13,
           0.09,
           0.86,
           0.02,
           0.06,
           0.47,
           0.2,
           0.04,
           0.09,
           0.31,
           0.31000000000000005,
           0.01,
           0.43,
           0.1,
           0.04,
           0.05,
           0.16,
           0.04,
           0.21000000000000002,
           0.11,
           0.09,
           0.16,
           0.01,
           0.06,
           0.16,
           0.12,
           0.32,
           0.25,
           0.37,
           0.5800000000000001,
           0.06,
           0.05,
           0.76,
           0.01,
           0.01,
           0.18,
           0.21000000000000002,
           0.04,
           0.34,
           0.22,
           0.07,
           0.060000000000000005,
           0.06,
           1.4600000000000002,
           0.08,
           1.5200000000000002,
           0.07,
           0.13,
           0.56,
           1.4500000000000002,
           0.02,
           0.02,
           0.06,
           3.38,
           0.17,
           0.6400000000000001,
           1.88,
           3.1999999999999997,
           0.16999999999999998,
           0.02,
           0.14,
           0.03,
           0.06,
           0.29000000000000004,
           0.19,
           0.36,
           0.28,
           0.26,
           0.08,
           4.54,
           3.86,
           1.4000000000000001,
           0.32999999999999996,
           0.060000000000000005,
           0.96,
           1.01,
           0.51,
           3.4099999999999997,
           0.95,
           1.3,
           0.37,
           0.30000000000000004,
           0.03,
           0.12,
           0.16999999999999998,
           2.3299999999999996
          ],
          "sizemode": "area",
          "sizeref": 0.026625,
          "symbol": "circle"
         },
         "mode": "markers",
         "name": "PS4",
         "orientation": "v",
         "showlegend": true,
         "type": "scatter",
         "x": [
          45,
          57,
          67,
          79,
          47,
          52,
          69,
          69,
          83,
          76,
          72,
          70,
          73,
          75,
          87,
          75,
          73,
          68,
          88,
          85,
          73,
          66,
          84,
          58,
          85,
          80,
          92,
          82,
          53,
          72,
          81,
          83,
          78,
          77,
          51,
          82,
          89,
          79,
          63,
          78,
          82,
          43,
          60,
          76,
          86,
          84,
          85,
          75,
          31,
          80,
          88,
          76,
          89,
          69,
          73,
          71,
          67,
          77,
          61,
          74,
          63,
          70,
          79,
          73,
          72,
          64,
          76,
          69,
          65,
          87,
          82,
          82,
          85,
          71,
          87,
          85,
          76,
          69,
          86,
          69,
          70,
          64,
          78,
          97,
          80,
          80,
          78,
          62,
          48,
          73,
          61,
          73,
          75,
          72,
          73,
          76,
          73,
          54,
          80,
          73,
          70,
          83,
          71,
          72,
          74,
          62,
          73,
          78,
          85,
          79,
          68,
          83,
          80,
          42,
          81,
          83,
          82,
          74,
          68,
          49,
          77,
          75,
          93,
          84,
          52,
          69,
          83,
          73,
          59,
          66,
          85,
          83,
          87,
          88,
          43,
          59,
          59,
          60,
          78,
          78,
          79,
          53,
          80,
          67,
          70,
          71,
          80,
          87,
          58,
          66,
          74,
          57,
          90,
          75,
          81,
          59,
          80,
          82,
          87,
          85,
          83,
          48,
          72,
          38,
          79,
          90,
          72,
          60,
          75,
          66,
          71,
          65,
          78,
          85,
          69,
          61,
          19,
          64,
          25,
          59,
          64,
          76,
          73,
          71,
          67,
          70,
          90,
          47,
          80,
          79,
          81,
          78,
          67,
          69,
          81,
          77,
          42,
          66,
          69,
          63,
          71,
          72,
          81,
          44,
          83,
          63,
          61,
          73,
          75,
          66,
          79,
          71,
          63,
          59,
          88,
          60,
          92,
          83,
          89,
          73,
          80,
          32,
          55,
          74,
          53,
          62,
          81,
          77,
          79,
          76,
          72,
          71,
          93,
          86,
          79,
          72,
          75,
          62,
          73,
          69,
          80,
          83,
          79,
          76,
          77,
          78,
          88,
          62,
          80
         ],
         "xaxis": "x",
         "y": [
          5.9,
          7.8,
          6.2,
          8.1,
          2,
          7.9,
          6.6,
          6.4,
          7.8,
          6.8,
          7.4,
          4.9,
          6.2,
          8.1,
          7.6,
          7.3,
          8.5,
          6.8,
          8.4,
          6.9,
          5,
          7,
          8.5,
          6.5,
          7.6,
          7.7,
          8.6,
          7.8,
          5.9,
          7.2,
          8.6,
          5.7,
          3.7,
          3.4,
          5.5,
          8,
          8.8,
          8.5,
          6.4,
          6.6,
          6.6,
          7.8,
          5.7,
          6.1,
          6,
          7.6,
          8.1,
          8.5,
          4.5,
          8.1,
          7.7,
          7.4,
          7.4,
          7.7,
          7.8,
          6.1,
          7.4,
          6.9,
          7.9,
          7.9,
          7.5,
          6.1,
          6.2,
          6.3,
          7.8,
          7.9,
          4.3,
          7.9,
          6.3,
          6.3,
          5.7,
          4.3,
          5,
          6.2,
          6.5,
          7.7,
          6.3,
          8.7,
          7.6,
          8,
          7.8,
          7.1,
          8.1,
          8.3,
          8.2,
          6.2,
          7.4,
          6.5,
          3.8,
          7.5,
          7.4,
          6.5,
          5.5,
          5.8,
          6.8,
          8,
          6.8,
          6.5,
          7.1,
          8.1,
          7,
          7.7,
          7,
          6.6,
          6.7,
          6.4,
          7.1,
          7.5,
          8.6,
          7.1,
          6.6,
          7.7,
          7.8,
          4.1,
          6.1,
          5.9,
          4.9,
          5.2,
          5.1,
          6,
          6.1,
          6.2,
          8.2,
          8.1,
          3.5,
          4.7,
          7.7,
          6.4,
          6.9,
          3.8,
          6.5,
          7,
          6.7,
          6.7,
          2.7,
          5.6,
          6.1,
          3.6,
          5.5,
          5.8,
          8.2,
          6,
          6.2,
          7.6,
          6.9,
          4.5,
          8.1,
          8.2,
          7.1,
          7.8,
          7.4,
          6.5,
          6.1,
          7.6,
          7.7,
          7.1,
          8,
          7.2,
          7.1,
          7.6,
          6.6,
          2,
          8.3,
          2.9,
          7.9,
          8.5,
          5.8,
          6.7,
          7.7,
          7,
          8,
          6.9,
          6.3,
          8.7,
          7.5,
          3.7,
          3.4,
          6.8,
          1.9,
          7.8,
          5.7,
          8.1,
          7.3,
          6.5,
          8,
          6.8,
          7.6,
          4.1,
          5.5,
          5.2,
          3.3,
          5.6,
          7.1,
          7.3,
          8.3,
          3.4,
          2.3,
          6.2,
          7.7,
          6.3,
          8.1,
          6.8,
          8.1,
          5.5,
          7.9,
          8.6,
          5.4,
          6.8,
          7.3,
          6.3,
          8.7,
          7.1,
          6.6,
          6.6,
          8.4,
          6.7,
          9.2,
          8.4,
          8.4,
          7.3,
          7,
          1.5,
          4.7,
          7.6,
          5.1,
          7.7,
          7.9,
          7.5,
          7.2,
          7.1,
          6.6,
          5.9,
          7.9,
          8.1,
          8.2,
          8,
          8,
          5.1,
          7.4,
          6.9,
          6.3,
          7.8,
          8.1,
          8,
          8.3,
          7.6,
          8,
          6.8,
          7.9
         ],
         "yaxis": "y"
        }
       ],
       "layout": {
        "autosize": true,
        "legend": {
         "itemsizing": "constant",
         "title": {
          "text": "platform"
         },
         "tracegroupgap": 0
        },
        "template": {
         "data": {
          "bar": [
           {
            "error_x": {
             "color": "#2a3f5f"
            },
            "error_y": {
             "color": "#2a3f5f"
            },
            "marker": {
             "line": {
              "color": "#E5ECF6",
              "width": 0.5
             },
             "pattern": {
              "fillmode": "overlay",
              "size": 10,
              "solidity": 0.2
             }
            },
            "type": "bar"
           }
          ],
          "barpolar": [
           {
            "marker": {
             "line": {
              "color": "#E5ECF6",
              "width": 0.5
             },
             "pattern": {
              "fillmode": "overlay",
              "size": 10,
              "solidity": 0.2
             }
            },
            "type": "barpolar"
           }
          ],
          "carpet": [
           {
            "aaxis": {
             "endlinecolor": "#2a3f5f",
             "gridcolor": "white",
             "linecolor": "white",
             "minorgridcolor": "white",
             "startlinecolor": "#2a3f5f"
            },
            "baxis": {
             "endlinecolor": "#2a3f5f",
             "gridcolor": "white",
             "linecolor": "white",
             "minorgridcolor": "white",
             "startlinecolor": "#2a3f5f"
            },
            "type": "carpet"
           }
          ],
          "choropleth": [
           {
            "colorbar": {
             "outlinewidth": 0,
             "ticks": ""
            },
            "type": "choropleth"
           }
          ],
          "contour": [
           {
            "colorbar": {
             "outlinewidth": 0,
             "ticks": ""
            },
            "colorscale": [
             [
              0,
              "#0d0887"
             ],
             [
              0.1111111111111111,
              "#46039f"
             ],
             [
              0.2222222222222222,
              "#7201a8"
             ],
             [
              0.3333333333333333,
              "#9c179e"
             ],
             [
              0.4444444444444444,
              "#bd3786"
             ],
             [
              0.5555555555555556,
              "#d8576b"
             ],
             [
              0.6666666666666666,
              "#ed7953"
             ],
             [
              0.7777777777777778,
              "#fb9f3a"
             ],
             [
              0.8888888888888888,
              "#fdca26"
             ],
             [
              1,
              "#f0f921"
             ]
            ],
            "type": "contour"
           }
          ],
          "contourcarpet": [
           {
            "colorbar": {
             "outlinewidth": 0,
             "ticks": ""
            },
            "type": "contourcarpet"
           }
          ],
          "heatmap": [
           {
            "colorbar": {
             "outlinewidth": 0,
             "ticks": ""
            },
            "colorscale": [
             [
              0,
              "#0d0887"
             ],
             [
              0.1111111111111111,
              "#46039f"
             ],
             [
              0.2222222222222222,
              "#7201a8"
             ],
             [
              0.3333333333333333,
              "#9c179e"
             ],
             [
              0.4444444444444444,
              "#bd3786"
             ],
             [
              0.5555555555555556,
              "#d8576b"
             ],
             [
              0.6666666666666666,
              "#ed7953"
             ],
             [
              0.7777777777777778,
              "#fb9f3a"
             ],
             [
              0.8888888888888888,
              "#fdca26"
             ],
             [
              1,
              "#f0f921"
             ]
            ],
            "type": "heatmap"
           }
          ],
          "heatmapgl": [
           {
            "colorbar": {
             "outlinewidth": 0,
             "ticks": ""
            },
            "colorscale": [
             [
              0,
              "#0d0887"
             ],
             [
              0.1111111111111111,
              "#46039f"
             ],
             [
              0.2222222222222222,
              "#7201a8"
             ],
             [
              0.3333333333333333,
              "#9c179e"
             ],
             [
              0.4444444444444444,
              "#bd3786"
             ],
             [
              0.5555555555555556,
              "#d8576b"
             ],
             [
              0.6666666666666666,
              "#ed7953"
             ],
             [
              0.7777777777777778,
              "#fb9f3a"
             ],
             [
              0.8888888888888888,
              "#fdca26"
             ],
             [
              1,
              "#f0f921"
             ]
            ],
            "type": "heatmapgl"
           }
          ],
          "histogram": [
           {
            "marker": {
             "pattern": {
              "fillmode": "overlay",
              "size": 10,
              "solidity": 0.2
             }
            },
            "type": "histogram"
           }
          ],
          "histogram2d": [
           {
            "colorbar": {
             "outlinewidth": 0,
             "ticks": ""
            },
            "colorscale": [
             [
              0,
              "#0d0887"
             ],
             [
              0.1111111111111111,
              "#46039f"
             ],
             [
              0.2222222222222222,
              "#7201a8"
             ],
             [
              0.3333333333333333,
              "#9c179e"
             ],
             [
              0.4444444444444444,
              "#bd3786"
             ],
             [
              0.5555555555555556,
              "#d8576b"
             ],
             [
              0.6666666666666666,
              "#ed7953"
             ],
             [
              0.7777777777777778,
              "#fb9f3a"
             ],
             [
              0.8888888888888888,
              "#fdca26"
             ],
             [
              1,
              "#f0f921"
             ]
            ],
            "type": "histogram2d"
           }
          ],
          "histogram2dcontour": [
           {
            "colorbar": {
             "outlinewidth": 0,
             "ticks": ""
            },
            "colorscale": [
             [
              0,
              "#0d0887"
             ],
             [
              0.1111111111111111,
              "#46039f"
             ],
             [
              0.2222222222222222,
              "#7201a8"
             ],
             [
              0.3333333333333333,
              "#9c179e"
             ],
             [
              0.4444444444444444,
              "#bd3786"
             ],
             [
              0.5555555555555556,
              "#d8576b"
             ],
             [
              0.6666666666666666,
              "#ed7953"
             ],
             [
              0.7777777777777778,
              "#fb9f3a"
             ],
             [
              0.8888888888888888,
              "#fdca26"
             ],
             [
              1,
              "#f0f921"
             ]
            ],
            "type": "histogram2dcontour"
           }
          ],
          "mesh3d": [
           {
            "colorbar": {
             "outlinewidth": 0,
             "ticks": ""
            },
            "type": "mesh3d"
           }
          ],
          "parcoords": [
           {
            "line": {
             "colorbar": {
              "outlinewidth": 0,
              "ticks": ""
             }
            },
            "type": "parcoords"
           }
          ],
          "pie": [
           {
            "automargin": true,
            "type": "pie"
           }
          ],
          "scatter": [
           {
            "fillpattern": {
             "fillmode": "overlay",
             "size": 10,
             "solidity": 0.2
            },
            "type": "scatter"
           }
          ],
          "scatter3d": [
           {
            "line": {
             "colorbar": {
              "outlinewidth": 0,
              "ticks": ""
             }
            },
            "marker": {
             "colorbar": {
              "outlinewidth": 0,
              "ticks": ""
             }
            },
            "type": "scatter3d"
           }
          ],
          "scattercarpet": [
           {
            "marker": {
             "colorbar": {
              "outlinewidth": 0,
              "ticks": ""
             }
            },
            "type": "scattercarpet"
           }
          ],
          "scattergeo": [
           {
            "marker": {
             "colorbar": {
              "outlinewidth": 0,
              "ticks": ""
             }
            },
            "type": "scattergeo"
           }
          ],
          "scattergl": [
           {
            "marker": {
             "colorbar": {
              "outlinewidth": 0,
              "ticks": ""
             }
            },
            "type": "scattergl"
           }
          ],
          "scattermapbox": [
           {
            "marker": {
             "colorbar": {
              "outlinewidth": 0,
              "ticks": ""
             }
            },
            "type": "scattermapbox"
           }
          ],
          "scatterpolar": [
           {
            "marker": {
             "colorbar": {
              "outlinewidth": 0,
              "ticks": ""
             }
            },
            "type": "scatterpolar"
           }
          ],
          "scatterpolargl": [
           {
            "marker": {
             "colorbar": {
              "outlinewidth": 0,
              "ticks": ""
             }
            },
            "type": "scatterpolargl"
           }
          ],
          "scatterternary": [
           {
            "marker": {
             "colorbar": {
              "outlinewidth": 0,
              "ticks": ""
             }
            },
            "type": "scatterternary"
           }
          ],
          "surface": [
           {
            "colorbar": {
             "outlinewidth": 0,
             "ticks": ""
            },
            "colorscale": [
             [
              0,
              "#0d0887"
             ],
             [
              0.1111111111111111,
              "#46039f"
             ],
             [
              0.2222222222222222,
              "#7201a8"
             ],
             [
              0.3333333333333333,
              "#9c179e"
             ],
             [
              0.4444444444444444,
              "#bd3786"
             ],
             [
              0.5555555555555556,
              "#d8576b"
             ],
             [
              0.6666666666666666,
              "#ed7953"
             ],
             [
              0.7777777777777778,
              "#fb9f3a"
             ],
             [
              0.8888888888888888,
              "#fdca26"
             ],
             [
              1,
              "#f0f921"
             ]
            ],
            "type": "surface"
           }
          ],
          "table": [
           {
            "cells": {
             "fill": {
              "color": "#EBF0F8"
             },
             "line": {
              "color": "white"
             }
            },
            "header": {
             "fill": {
              "color": "#C8D4E3"
             },
             "line": {
              "color": "white"
             }
            },
            "type": "table"
           }
          ]
         },
         "layout": {
          "annotationdefaults": {
           "arrowcolor": "#2a3f5f",
           "arrowhead": 0,
           "arrowwidth": 1
          },
          "autotypenumbers": "strict",
          "coloraxis": {
           "colorbar": {
            "outlinewidth": 0,
            "ticks": ""
           }
          },
          "colorscale": {
           "diverging": [
            [
             0,
             "#8e0152"
            ],
            [
             0.1,
             "#c51b7d"
            ],
            [
             0.2,
             "#de77ae"
            ],
            [
             0.3,
             "#f1b6da"
            ],
            [
             0.4,
             "#fde0ef"
            ],
            [
             0.5,
             "#f7f7f7"
            ],
            [
             0.6,
             "#e6f5d0"
            ],
            [
             0.7,
             "#b8e186"
            ],
            [
             0.8,
             "#7fbc41"
            ],
            [
             0.9,
             "#4d9221"
            ],
            [
             1,
             "#276419"
            ]
           ],
           "sequential": [
            [
             0,
             "#0d0887"
            ],
            [
             0.1111111111111111,
             "#46039f"
            ],
            [
             0.2222222222222222,
             "#7201a8"
            ],
            [
             0.3333333333333333,
             "#9c179e"
            ],
            [
             0.4444444444444444,
             "#bd3786"
            ],
            [
             0.5555555555555556,
             "#d8576b"
            ],
            [
             0.6666666666666666,
             "#ed7953"
            ],
            [
             0.7777777777777778,
             "#fb9f3a"
            ],
            [
             0.8888888888888888,
             "#fdca26"
            ],
            [
             1,
             "#f0f921"
            ]
           ],
           "sequentialminus": [
            [
             0,
             "#0d0887"
            ],
            [
             0.1111111111111111,
             "#46039f"
            ],
            [
             0.2222222222222222,
             "#7201a8"
            ],
            [
             0.3333333333333333,
             "#9c179e"
            ],
            [
             0.4444444444444444,
             "#bd3786"
            ],
            [
             0.5555555555555556,
             "#d8576b"
            ],
            [
             0.6666666666666666,
             "#ed7953"
            ],
            [
             0.7777777777777778,
             "#fb9f3a"
            ],
            [
             0.8888888888888888,
             "#fdca26"
            ],
            [
             1,
             "#f0f921"
            ]
           ]
          },
          "colorway": [
           "#636efa",
           "#EF553B",
           "#00cc96",
           "#ab63fa",
           "#FFA15A",
           "#19d3f3",
           "#FF6692",
           "#B6E880",
           "#FF97FF",
           "#FECB52"
          ],
          "font": {
           "color": "#2a3f5f"
          },
          "geo": {
           "bgcolor": "white",
           "lakecolor": "white",
           "landcolor": "#E5ECF6",
           "showlakes": true,
           "showland": true,
           "subunitcolor": "white"
          },
          "hoverlabel": {
           "align": "left"
          },
          "hovermode": "closest",
          "mapbox": {
           "style": "light"
          },
          "paper_bgcolor": "white",
          "plot_bgcolor": "#E5ECF6",
          "polar": {
           "angularaxis": {
            "gridcolor": "white",
            "linecolor": "white",
            "ticks": ""
           },
           "bgcolor": "#E5ECF6",
           "radialaxis": {
            "gridcolor": "white",
            "linecolor": "white",
            "ticks": ""
           }
          },
          "scene": {
           "xaxis": {
            "backgroundcolor": "#E5ECF6",
            "gridcolor": "white",
            "gridwidth": 2,
            "linecolor": "white",
            "showbackground": true,
            "ticks": "",
            "zerolinecolor": "white"
           },
           "yaxis": {
            "backgroundcolor": "#E5ECF6",
            "gridcolor": "white",
            "gridwidth": 2,
            "linecolor": "white",
            "showbackground": true,
            "ticks": "",
            "zerolinecolor": "white"
           },
           "zaxis": {
            "backgroundcolor": "#E5ECF6",
            "gridcolor": "white",
            "gridwidth": 2,
            "linecolor": "white",
            "showbackground": true,
            "ticks": "",
            "zerolinecolor": "white"
           }
          },
          "shapedefaults": {
           "line": {
            "color": "#2a3f5f"
           }
          },
          "ternary": {
           "aaxis": {
            "gridcolor": "white",
            "linecolor": "white",
            "ticks": ""
           },
           "baxis": {
            "gridcolor": "white",
            "linecolor": "white",
            "ticks": ""
           },
           "bgcolor": "#E5ECF6",
           "caxis": {
            "gridcolor": "white",
            "linecolor": "white",
            "ticks": ""
           }
          },
          "title": {
           "x": 0.05
          },
          "xaxis": {
           "automargin": true,
           "gridcolor": "white",
           "linecolor": "white",
           "ticks": "",
           "title": {
            "standoff": 15
           },
           "zerolinecolor": "white",
           "zerolinewidth": 2
          },
          "yaxis": {
           "automargin": true,
           "gridcolor": "white",
           "linecolor": "white",
           "ticks": "",
           "title": {
            "standoff": 15
           },
           "zerolinecolor": "white",
           "zerolinewidth": 2
          }
         }
        },
        "title": {
         "text": "Avaliação dos críticos VS Avaliação dos usuários (Plataforma PS4)"
        },
        "xaxis": {
         "anchor": "y",
         "autorange": true,
         "domain": [
          0,
          1
         ],
         "range": [
          13.975334744961536,
          104.21422095789718
         ],
         "title": {
          "text": "Avaliação dos críticos"
         },
         "type": "linear"
        },
        "yaxis": {
         "anchor": "x",
         "autorange": true,
         "domain": [
          0,
          1
         ],
         "range": [
          0.8843798244011919,
          10.118682458383313
         ],
         "title": {
          "text": "Avaliação dos usuários"
         },
         "type": "linear"
        }
       }
      },
      "text/html": [
       "<div>                            <div id=\"b1cf431b-b62d-499b-8a88-c9ee5eac710c\" class=\"plotly-graph-div\" style=\"height:525px; width:100%;\"></div>            <script type=\"text/javascript\">                require([\"plotly\"], function(Plotly) {                    window.PLOTLYENV=window.PLOTLYENV || {};                                    if (document.getElementById(\"b1cf431b-b62d-499b-8a88-c9ee5eac710c\")) {                    Plotly.newPlot(                        \"b1cf431b-b62d-499b-8a88-c9ee5eac710c\",                        [{\"hovertemplate\":\"\\u003cb\\u003e%{hovertext}\\u003c\\u002fb\\u003e\\u003cbr\\u003e\\u003cbr\\u003eplatform=PS4\\u003cbr\\u003eAvalia\\u00e7\\u00e3o dos cr\\u00edticos=%{x}\\u003cbr\\u003eAvalia\\u00e7\\u00e3o dos usu\\u00e1rios=%{y}\\u003cbr\\u003eVendas Totais=%{marker.size}\\u003cextra\\u003e\\u003c\\u002fextra\\u003e\",\"hovertext\":[\"7 Days to Die\",\"Aegis of Earth: Protonovus Assault\",\"Agatha Christie's The ABC Murders\",\"Alien: Isolation\",\"Angry Birds Star Wars\",\"Anima - Gate of Memories\",\"Arslan: The Warriors of Legend\",\"Assassin's Creed Chronicles: China\",\"Assassin's Creed IV: Black Flag\",\"Assassin's Creed Syndicate\",\"Assassin's Creed The Ezio Collection\",\"Assassin's Creed: Unity\",\"Assetto Corsa\",\"Atelier Sophie: The Alchemist of the Mysterious Book\",\"Batman: Arkham Knight\",\"Batman: Arkham VR\",\"Batman: Return to Arkham\",\"Battleborn\",\"Battlefield 1\",\"Battlefield 4\",\"Battlefield: Hardline\",\"Battlezone\",\"BioShock The Collection\",\"Bladestorm: Nightmare\",\"BlazBlue Central Fiction\",\"BlazBlue: Chrono Phantasma Extend\",\"Bloodborne\",\"Borderlands: The Handsome Collection\",\"Bound By Flame\",\"Broken Sword 5: The Serpent's Curse\",\"Brothers: A Tale of Two Sons\",\"Call of Duty: Advanced Warfare\",\"Call of Duty: Ghosts\",\"Call of Duty: Infinite Warfare\",\"Carmageddon: Max Damage\",\"Child of Light\",\"Dark Souls III\",\"Darksiders: Warmastered Edition\",\"Dead Island Definitive Collection\",\"Dead Rising\",\"Dead Rising 2\",\"Dead or Alive Xtreme 3: Fortune\",\"Deadpool\",\"Destiny\",\"Destiny: The Taken King\",\"Deus Ex: Mankind Divided\",\"DiRT Rally\",\"Digimon Story: Cyber Sleuth\",\"Dino Dini's Kick Off Revival\",\"Disgaea 5: Alliance of Vengeance\",\"Dishonored 2\",\"Don Bradman Cricket 14\",\"Dragon Age: Inquisition\",\"Dragon Ball: XenoVerse\",\"Dragon Ball: Xenoverse 2\",\"DriveClub\",\"DriveClub VR\",\"Duke Nukem 3D: 20th Anniversary World Tour\",\"Dungeons 2\",\"Dying Light\",\"Dynasty Warriors 8: Empires\",\"EA Sports UFC\",\"EA Sports UFC 2\",\"EVE: Valkyrie\",\"Eagle Flight\",\"Earth Defense Force 4.1: The Shadow of New Despair\",\"Evolve\",\"Exist Archive: The Other Side of the Sky\",\"F1 2015\",\"FIFA 14\",\"FIFA 15\",\"FIFA 16\",\"FIFA 17\",\"Fairy Fencer F: Advent Dark Force\",\"Fallout 4\",\"Far Cry 4\",\"Far Cry: Primal\",\"Farming Simulator 17\",\"Final Fantasy XIV: Heavensward\",\"God Eater 2: Rage Burst\",\"God Eater Resurrection\",\"Grand Ages: Medieval\",\"Grand Kingdom\",\"Grand Theft Auto V\",\"Gravity Rush Remastered\",\"Guitar Hero Live\",\"Hatsune Miku: Project Diva X\",\"Here They Lie\",\"Homefront: The Revolution\",\"Infamous: First Light\",\"JoJo's Bizarre Adventure: Eyes of Heaven\",\"Just Cause 3\",\"Just Dance 2014\",\"Just Dance 2015\",\"Just Dance 2016\",\"Killing Floor 2 \",\"Killzone: Shadow Fall\",\"Knack\",\"LEGO Dimensions\",\"LEGO Harry Potter Collection\",\"LEGO Jurassic World\",\"LEGO Marvel Super Heroes\",\"LEGO Marvel's Avengers\",\"LEGO The Hobbit\",\"Lara Croft and the Temple of Osiris\",\"Legend of Kay Anniversary\",\"Lego Batman 3: Beyond Gotham\",\"Lego Star Wars: The Force Awakens\",\"Life is Strange\",\"LittleBigPlanet 3\",\"Lords of the Fallen\",\"MLB 14: The Show\",\"MLB 15: The Show\",\"MX vs. ATV Supercross Encore\",\"Madden NFL 15\",\"Madden NFL 16\",\"Madden NFL 17\",\"Madden NFL 25\",\"Mafia III\",\"Mark McMorris Infinite Air\",\"Mega Man Legacy Collection\",\"Metal Gear Solid V: Ground Zeroes\",\"Metal Gear Solid V: The Phantom Pain\",\"Middle-Earth: Shadow of Mordor\",\"Mighty No. 9\",\"Mirror's Edge Catalyst\",\"Mortal Kombat X\",\"MotoGP 14 \",\"Murdered: Soul Suspect\",\"NASCAR Heat Evolution\",\"NBA 2K14\",\"NBA 2K15\",\"NBA 2K16\",\"NBA 2K17\",\"NBA Live 14\",\"NBA Live 15\",\"NBA Live 16\",\"NHL 15\",\"NHL 16\",\"NHL 17\",\"Naruto Shippuden: Ultimate Ninja Storm 4\",\"Natural Doctrine\",\"Need for Speed Rivals\",\"Nights of Azure\",\"Nitroplus Blasterz: Heroines Infinite Duel\",\"No Man's Sky\",\"Nobunaga's Ambition: Sphere of Influence\",\"Odin Sphere: Leifthrasir\",\"Omega Quintet\",\"One Piece: Burning Blood\",\"One Piece: Pirate Warriors 3\",\"Onechanbara Z2: Chaos\",\"Overwatch\",\"Plants vs. Zombies: Garden Warfare\",\"Plants vs. Zombies: Garden Warfare 2\",\"PlayStation VR Worlds\",\"Prison Architect\",\"Pro Evolution Soccer 2015\",\"Pro Evolution Soccer 2016\",\"Pro Evolution Soccer 2017\",\"Project CARS\",\"Prototype: Biohazard Bundle\",\"Psycho-Pass: Mandatory Happiness\",\"Putty Squad\",\"RIGS: Mechanized Combat League\",\"Rayman Legends\",\"Republique\",\"Resident Evil 6\",\"Resident Evil: Revelations 2\",\"Ride\",\"Ride 2\",\"Robinson: The Journey\",\"Rock Band 4\",\"Rocket League\",\"Root Letter\",\"Rory McIlroy PGA Tour\",\"Rugby 15\",\"Rugby Challenge 3\",\"Rugby World Cup 2015\",\"Saint Seiya: Soldiers' Soul\",\"Saints Row: Gat out of Hell\",\"Samurai Warriors 4\",\"Samurai Warriors 4-II\",\"Samurai Warriors 4: Empires\",\"Senran Kagura: Estival Versus\",\"Sherlock Holmes: The Devil's Daughter\",\"Shovel Knight\",\"Singstar: Ultimate Party\",\"Skylanders Imaginators\",\"Skylanders SWAP Force\",\"Skylanders: SuperChargers\",\"Skylanders: Trap Team\",\"Sniper Elite 3\",\"Song of the Deep\",\"Steins;Gate 0\",\"Street Fighter V\",\"Super Dungeon Bros\",\"Super Stardust Ultra VR\",\"Sword Art Online: Hollow Realization\",\"Sword Art Online: Lost Song\",\"S\\u00e9bastien Loeb Rally Evo\",\"Tales of Zestiria\",\"Tearaway Unfolded\",\"Teenage Mutant Ninja Turtles: Mutants in Manhattan\",\"Terraria\",\"The Book of Unwritten Tales 2\",\"The Crew\",\"The Crew: Wild Run\",\"The Evil Within\",\"The Golf Club\",\"The King of Fighters XIV\",\"The LEGO Movie Videogame\",\"The Order: 1886\",\"The Peanuts Movie: Snoopy's Grand Adventure\",\"The Talos Principle\",\"The Technomancer\",\"The Witcher 3: Wild Hunt\",\"The Wolf Among Us\",\"Titanfall 2\",\"Tom Clancy's Rainbow Six: Siege\",\"Tom Clancy's The Division\",\"Tony Hawk's Pro Skater 5\",\"Touhou Genso Rondo: Bullet Ballet\",\"Toukiden Kiwami\",\"Tour de France 2014\",\"Toy Soldiers: War Chest\",\"TrackMania Turbo\",\"Transformers: Devastation\",\"Trials Fusion\",\"Tropico 5\",\"UEFA Euro 2016\",\"Ultra Street Fighter IV\",\"Uncharted 4: A Thief's End\",\"Uncharted: The Nathan Drake Collection\",\"Until Dawn\",\"Until Dawn: Rush of Blood\",\"Valentino Rossi: The Game\",\"WWE 2K15\",\"WWE 2K16\",\"WWE 2K17\",\"Watch Dogs\",\"Watch Dogs 2\",\"Wolfenstein: The New Order\",\"Wolfenstein: The Old Blood\",\"World of Final Fantasy\",\"Worms: WMD\",\"XCOM 2\",\"Zombie Army Trilogy\",\"inFAMOUS: Second Son\"],\"legendgroup\":\"PS4\",\"marker\":{\"color\":\"#636efa\",\"size\":[0.12,0.02,0.02,0.95,0.18,0.02,0.08,0.03,2.44,2.8699999999999997,0.17,3.34,0.05,0.11,3.32,0.25,0.23,0.22,3.46,3.0700000000000003,1.79,0.04,0.31000000000000005,0.15,0.07,0.12000000000000001,2.1,0.74,0.16999999999999998,0.06,0.11,6.43,3.26,3.7600000000000002,0.01,0.05,1.4400000000000002,0.02,0.11,0.03,0.02,0.05,0.25,4.720000000000001,1.61,0.32,0.31,0.1,0.02,0.25,0.54,0.09999999999999999,1.69,0.9400000000000001,0.6,1.7599999999999998,0.08,0.03,0.01,1.75,0.16,0.88,0.78,0.08,0.060000000000000005,0.05,0.8200000000000001,0.04,0.5700000000000001,2.57,5.18,7.3,6.49,0.07,6.04,3.41,1.9100000000000001,0.36,0.12,0.09999999999999999,0.08,0.07,0.06,10.65,0.11000000000000001,0.72,0.04,0.02,0.30000000000000004,0.03,0.03,1.57,0.35,0.32,0.30000000000000004,0.04,2.3000000000000003,1.53,0.61,0.12,0.76,1.36,0.61,0.51,0.07,0.02,0.77,0.6,0.32999999999999996,1.6,0.44,0.58,0.76,0.05,1.79,2.6399999999999997,1.42,0.76,1.53,0.01,0.07,1.0899999999999999,2.9400000000000004,2.4899999999999998,0.04,0.29000000000000004,2.3,0.15,0.27,0.04,1.21,2.0199999999999996,3.18,1.54,0.2,0.2,0.14,0.5,0.52,0.27,0.97,0.09000000000000001,1.68,0.05,0.03,1.4200000000000002,0.03,0.18000000000000002,0.02,0.31,0.41000000000000003,0.21000000000000002,1.81,0.51,0.41000000000000003,0.22,0.02,0.65,0.68,0.4,0.9199999999999999,0.01,0.03,0.13,0.09,0.86,0.02,0.06,0.47,0.2,0.04,0.09,0.31,0.31000000000000005,0.01,0.43,0.1,0.04,0.05,0.16,0.04,0.21000000000000002,0.11,0.09,0.16,0.01,0.06,0.16,0.12,0.32,0.25,0.37,0.5800000000000001,0.06,0.05,0.76,0.01,0.01,0.18,0.21000000000000002,0.04,0.34,0.22,0.07,0.060000000000000005,0.06,1.4600000000000002,0.08,1.5200000000000002,0.07,0.13,0.56,1.4500000000000002,0.02,0.02,0.06,3.38,0.17,0.6400000000000001,1.88,3.1999999999999997,0.16999999999999998,0.02,0.14,0.03,0.06,0.29000000000000004,0.19,0.36,0.28,0.26,0.08,4.54,3.86,1.4000000000000001,0.32999999999999996,0.060000000000000005,0.96,1.01,0.51,3.4099999999999997,0.95,1.3,0.37,0.30000000000000004,0.03,0.12,0.16999999999999998,2.3299999999999996],\"sizemode\":\"area\",\"sizeref\":0.026625,\"symbol\":\"circle\"},\"mode\":\"markers\",\"name\":\"PS4\",\"orientation\":\"v\",\"showlegend\":true,\"x\":[45.0,57.0,67.0,79.0,47.0,52.0,69.0,69.0,83.0,76.0,72.0,70.0,73.0,75.0,87.0,75.0,73.0,68.0,88.0,85.0,73.0,66.0,84.0,58.0,85.0,80.0,92.0,82.0,53.0,72.0,81.0,83.0,78.0,77.0,51.0,82.0,89.0,79.0,63.0,78.0,82.0,43.0,60.0,76.0,86.0,84.0,85.0,75.0,31.0,80.0,88.0,76.0,89.0,69.0,73.0,71.0,67.0,77.0,61.0,74.0,63.0,70.0,79.0,73.0,72.0,64.0,76.0,69.0,65.0,87.0,82.0,82.0,85.0,71.0,87.0,85.0,76.0,69.0,86.0,69.0,70.0,64.0,78.0,97.0,80.0,80.0,78.0,62.0,48.0,73.0,61.0,73.0,75.0,72.0,73.0,76.0,73.0,54.0,80.0,73.0,70.0,83.0,71.0,72.0,74.0,62.0,73.0,78.0,85.0,79.0,68.0,83.0,80.0,42.0,81.0,83.0,82.0,74.0,68.0,49.0,77.0,75.0,93.0,84.0,52.0,69.0,83.0,73.0,59.0,66.0,85.0,83.0,87.0,88.0,43.0,59.0,59.0,60.0,78.0,78.0,79.0,53.0,80.0,67.0,70.0,71.0,80.0,87.0,58.0,66.0,74.0,57.0,90.0,75.0,81.0,59.0,80.0,82.0,87.0,85.0,83.0,48.0,72.0,38.0,79.0,90.0,72.0,60.0,75.0,66.0,71.0,65.0,78.0,85.0,69.0,61.0,19.0,64.0,25.0,59.0,64.0,76.0,73.0,71.0,67.0,70.0,90.0,47.0,80.0,79.0,81.0,78.0,67.0,69.0,81.0,77.0,42.0,66.0,69.0,63.0,71.0,72.0,81.0,44.0,83.0,63.0,61.0,73.0,75.0,66.0,79.0,71.0,63.0,59.0,88.0,60.0,92.0,83.0,89.0,73.0,80.0,32.0,55.0,74.0,53.0,62.0,81.0,77.0,79.0,76.0,72.0,71.0,93.0,86.0,79.0,72.0,75.0,62.0,73.0,69.0,80.0,83.0,79.0,76.0,77.0,78.0,88.0,62.0,80.0],\"xaxis\":\"x\",\"y\":[5.9,7.8,6.2,8.1,2.0,7.9,6.6,6.4,7.8,6.8,7.4,4.9,6.2,8.1,7.6,7.3,8.5,6.8,8.4,6.9,5.0,7.0,8.5,6.5,7.6,7.7,8.6,7.8,5.9,7.2,8.6,5.7,3.7,3.4,5.5,8.0,8.8,8.5,6.4,6.6,6.6,7.8,5.7,6.1,6.0,7.6,8.1,8.5,4.5,8.1,7.7,7.4,7.4,7.7,7.8,6.1,7.4,6.9,7.9,7.9,7.5,6.1,6.2,6.3,7.8,7.9,4.3,7.9,6.3,6.3,5.7,4.3,5.0,6.2,6.5,7.7,6.3,8.7,7.6,8.0,7.8,7.1,8.1,8.3,8.2,6.2,7.4,6.5,3.8,7.5,7.4,6.5,5.5,5.8,6.8,8.0,6.8,6.5,7.1,8.1,7.0,7.7,7.0,6.6,6.7,6.4,7.1,7.5,8.6,7.1,6.6,7.7,7.8,4.1,6.1,5.9,4.9,5.2,5.1,6.0,6.1,6.2,8.2,8.1,3.5,4.7,7.7,6.4,6.9,3.8,6.5,7.0,6.7,6.7,2.7,5.6,6.1,3.6,5.5,5.8,8.2,6.0,6.2,7.6,6.9,4.5,8.1,8.2,7.1,7.8,7.4,6.5,6.1,7.6,7.7,7.1,8.0,7.2,7.1,7.6,6.6,2.0,8.3,2.9,7.9,8.5,5.8,6.7,7.7,7.0,8.0,6.9,6.3,8.7,7.5,3.7,3.4,6.8,1.9,7.8,5.7,8.1,7.3,6.5,8.0,6.8,7.6,4.1,5.5,5.2,3.3,5.6,7.1,7.3,8.3,3.4,2.3,6.2,7.7,6.3,8.1,6.8,8.1,5.5,7.9,8.6,5.4,6.8,7.3,6.3,8.7,7.1,6.6,6.6,8.4,6.7,9.2,8.4,8.4,7.3,7.0,1.5,4.7,7.6,5.1,7.7,7.9,7.5,7.2,7.1,6.6,5.9,7.9,8.1,8.2,8.0,8.0,5.1,7.4,6.9,6.3,7.8,8.1,8.0,8.3,7.6,8.0,6.8,7.9],\"yaxis\":\"y\",\"type\":\"scatter\"}],                        {\"template\":{\"data\":{\"histogram2dcontour\":[{\"type\":\"histogram2dcontour\",\"colorbar\":{\"outlinewidth\":0,\"ticks\":\"\"},\"colorscale\":[[0.0,\"#0d0887\"],[0.1111111111111111,\"#46039f\"],[0.2222222222222222,\"#7201a8\"],[0.3333333333333333,\"#9c179e\"],[0.4444444444444444,\"#bd3786\"],[0.5555555555555556,\"#d8576b\"],[0.6666666666666666,\"#ed7953\"],[0.7777777777777778,\"#fb9f3a\"],[0.8888888888888888,\"#fdca26\"],[1.0,\"#f0f921\"]]}],\"choropleth\":[{\"type\":\"choropleth\",\"colorbar\":{\"outlinewidth\":0,\"ticks\":\"\"}}],\"histogram2d\":[{\"type\":\"histogram2d\",\"colorbar\":{\"outlinewidth\":0,\"ticks\":\"\"},\"colorscale\":[[0.0,\"#0d0887\"],[0.1111111111111111,\"#46039f\"],[0.2222222222222222,\"#7201a8\"],[0.3333333333333333,\"#9c179e\"],[0.4444444444444444,\"#bd3786\"],[0.5555555555555556,\"#d8576b\"],[0.6666666666666666,\"#ed7953\"],[0.7777777777777778,\"#fb9f3a\"],[0.8888888888888888,\"#fdca26\"],[1.0,\"#f0f921\"]]}],\"heatmap\":[{\"type\":\"heatmap\",\"colorbar\":{\"outlinewidth\":0,\"ticks\":\"\"},\"colorscale\":[[0.0,\"#0d0887\"],[0.1111111111111111,\"#46039f\"],[0.2222222222222222,\"#7201a8\"],[0.3333333333333333,\"#9c179e\"],[0.4444444444444444,\"#bd3786\"],[0.5555555555555556,\"#d8576b\"],[0.6666666666666666,\"#ed7953\"],[0.7777777777777778,\"#fb9f3a\"],[0.8888888888888888,\"#fdca26\"],[1.0,\"#f0f921\"]]}],\"heatmapgl\":[{\"type\":\"heatmapgl\",\"colorbar\":{\"outlinewidth\":0,\"ticks\":\"\"},\"colorscale\":[[0.0,\"#0d0887\"],[0.1111111111111111,\"#46039f\"],[0.2222222222222222,\"#7201a8\"],[0.3333333333333333,\"#9c179e\"],[0.4444444444444444,\"#bd3786\"],[0.5555555555555556,\"#d8576b\"],[0.6666666666666666,\"#ed7953\"],[0.7777777777777778,\"#fb9f3a\"],[0.8888888888888888,\"#fdca26\"],[1.0,\"#f0f921\"]]}],\"contourcarpet\":[{\"type\":\"contourcarpet\",\"colorbar\":{\"outlinewidth\":0,\"ticks\":\"\"}}],\"contour\":[{\"type\":\"contour\",\"colorbar\":{\"outlinewidth\":0,\"ticks\":\"\"},\"colorscale\":[[0.0,\"#0d0887\"],[0.1111111111111111,\"#46039f\"],[0.2222222222222222,\"#7201a8\"],[0.3333333333333333,\"#9c179e\"],[0.4444444444444444,\"#bd3786\"],[0.5555555555555556,\"#d8576b\"],[0.6666666666666666,\"#ed7953\"],[0.7777777777777778,\"#fb9f3a\"],[0.8888888888888888,\"#fdca26\"],[1.0,\"#f0f921\"]]}],\"surface\":[{\"type\":\"surface\",\"colorbar\":{\"outlinewidth\":0,\"ticks\":\"\"},\"colorscale\":[[0.0,\"#0d0887\"],[0.1111111111111111,\"#46039f\"],[0.2222222222222222,\"#7201a8\"],[0.3333333333333333,\"#9c179e\"],[0.4444444444444444,\"#bd3786\"],[0.5555555555555556,\"#d8576b\"],[0.6666666666666666,\"#ed7953\"],[0.7777777777777778,\"#fb9f3a\"],[0.8888888888888888,\"#fdca26\"],[1.0,\"#f0f921\"]]}],\"mesh3d\":[{\"type\":\"mesh3d\",\"colorbar\":{\"outlinewidth\":0,\"ticks\":\"\"}}],\"scatter\":[{\"fillpattern\":{\"fillmode\":\"overlay\",\"size\":10,\"solidity\":0.2},\"type\":\"scatter\"}],\"parcoords\":[{\"type\":\"parcoords\",\"line\":{\"colorbar\":{\"outlinewidth\":0,\"ticks\":\"\"}}}],\"scatterpolargl\":[{\"type\":\"scatterpolargl\",\"marker\":{\"colorbar\":{\"outlinewidth\":0,\"ticks\":\"\"}}}],\"bar\":[{\"error_x\":{\"color\":\"#2a3f5f\"},\"error_y\":{\"color\":\"#2a3f5f\"},\"marker\":{\"line\":{\"color\":\"#E5ECF6\",\"width\":0.5},\"pattern\":{\"fillmode\":\"overlay\",\"size\":10,\"solidity\":0.2}},\"type\":\"bar\"}],\"scattergeo\":[{\"type\":\"scattergeo\",\"marker\":{\"colorbar\":{\"outlinewidth\":0,\"ticks\":\"\"}}}],\"scatterpolar\":[{\"type\":\"scatterpolar\",\"marker\":{\"colorbar\":{\"outlinewidth\":0,\"ticks\":\"\"}}}],\"histogram\":[{\"marker\":{\"pattern\":{\"fillmode\":\"overlay\",\"size\":10,\"solidity\":0.2}},\"type\":\"histogram\"}],\"scattergl\":[{\"type\":\"scattergl\",\"marker\":{\"colorbar\":{\"outlinewidth\":0,\"ticks\":\"\"}}}],\"scatter3d\":[{\"type\":\"scatter3d\",\"line\":{\"colorbar\":{\"outlinewidth\":0,\"ticks\":\"\"}},\"marker\":{\"colorbar\":{\"outlinewidth\":0,\"ticks\":\"\"}}}],\"scattermapbox\":[{\"type\":\"scattermapbox\",\"marker\":{\"colorbar\":{\"outlinewidth\":0,\"ticks\":\"\"}}}],\"scatterternary\":[{\"type\":\"scatterternary\",\"marker\":{\"colorbar\":{\"outlinewidth\":0,\"ticks\":\"\"}}}],\"scattercarpet\":[{\"type\":\"scattercarpet\",\"marker\":{\"colorbar\":{\"outlinewidth\":0,\"ticks\":\"\"}}}],\"carpet\":[{\"aaxis\":{\"endlinecolor\":\"#2a3f5f\",\"gridcolor\":\"white\",\"linecolor\":\"white\",\"minorgridcolor\":\"white\",\"startlinecolor\":\"#2a3f5f\"},\"baxis\":{\"endlinecolor\":\"#2a3f5f\",\"gridcolor\":\"white\",\"linecolor\":\"white\",\"minorgridcolor\":\"white\",\"startlinecolor\":\"#2a3f5f\"},\"type\":\"carpet\"}],\"table\":[{\"cells\":{\"fill\":{\"color\":\"#EBF0F8\"},\"line\":{\"color\":\"white\"}},\"header\":{\"fill\":{\"color\":\"#C8D4E3\"},\"line\":{\"color\":\"white\"}},\"type\":\"table\"}],\"barpolar\":[{\"marker\":{\"line\":{\"color\":\"#E5ECF6\",\"width\":0.5},\"pattern\":{\"fillmode\":\"overlay\",\"size\":10,\"solidity\":0.2}},\"type\":\"barpolar\"}],\"pie\":[{\"automargin\":true,\"type\":\"pie\"}]},\"layout\":{\"autotypenumbers\":\"strict\",\"colorway\":[\"#636efa\",\"#EF553B\",\"#00cc96\",\"#ab63fa\",\"#FFA15A\",\"#19d3f3\",\"#FF6692\",\"#B6E880\",\"#FF97FF\",\"#FECB52\"],\"font\":{\"color\":\"#2a3f5f\"},\"hovermode\":\"closest\",\"hoverlabel\":{\"align\":\"left\"},\"paper_bgcolor\":\"white\",\"plot_bgcolor\":\"#E5ECF6\",\"polar\":{\"bgcolor\":\"#E5ECF6\",\"angularaxis\":{\"gridcolor\":\"white\",\"linecolor\":\"white\",\"ticks\":\"\"},\"radialaxis\":{\"gridcolor\":\"white\",\"linecolor\":\"white\",\"ticks\":\"\"}},\"ternary\":{\"bgcolor\":\"#E5ECF6\",\"aaxis\":{\"gridcolor\":\"white\",\"linecolor\":\"white\",\"ticks\":\"\"},\"baxis\":{\"gridcolor\":\"white\",\"linecolor\":\"white\",\"ticks\":\"\"},\"caxis\":{\"gridcolor\":\"white\",\"linecolor\":\"white\",\"ticks\":\"\"}},\"coloraxis\":{\"colorbar\":{\"outlinewidth\":0,\"ticks\":\"\"}},\"colorscale\":{\"sequential\":[[0.0,\"#0d0887\"],[0.1111111111111111,\"#46039f\"],[0.2222222222222222,\"#7201a8\"],[0.3333333333333333,\"#9c179e\"],[0.4444444444444444,\"#bd3786\"],[0.5555555555555556,\"#d8576b\"],[0.6666666666666666,\"#ed7953\"],[0.7777777777777778,\"#fb9f3a\"],[0.8888888888888888,\"#fdca26\"],[1.0,\"#f0f921\"]],\"sequentialminus\":[[0.0,\"#0d0887\"],[0.1111111111111111,\"#46039f\"],[0.2222222222222222,\"#7201a8\"],[0.3333333333333333,\"#9c179e\"],[0.4444444444444444,\"#bd3786\"],[0.5555555555555556,\"#d8576b\"],[0.6666666666666666,\"#ed7953\"],[0.7777777777777778,\"#fb9f3a\"],[0.8888888888888888,\"#fdca26\"],[1.0,\"#f0f921\"]],\"diverging\":[[0,\"#8e0152\"],[0.1,\"#c51b7d\"],[0.2,\"#de77ae\"],[0.3,\"#f1b6da\"],[0.4,\"#fde0ef\"],[0.5,\"#f7f7f7\"],[0.6,\"#e6f5d0\"],[0.7,\"#b8e186\"],[0.8,\"#7fbc41\"],[0.9,\"#4d9221\"],[1,\"#276419\"]]},\"xaxis\":{\"gridcolor\":\"white\",\"linecolor\":\"white\",\"ticks\":\"\",\"title\":{\"standoff\":15},\"zerolinecolor\":\"white\",\"automargin\":true,\"zerolinewidth\":2},\"yaxis\":{\"gridcolor\":\"white\",\"linecolor\":\"white\",\"ticks\":\"\",\"title\":{\"standoff\":15},\"zerolinecolor\":\"white\",\"automargin\":true,\"zerolinewidth\":2},\"scene\":{\"xaxis\":{\"backgroundcolor\":\"#E5ECF6\",\"gridcolor\":\"white\",\"linecolor\":\"white\",\"showbackground\":true,\"ticks\":\"\",\"zerolinecolor\":\"white\",\"gridwidth\":2},\"yaxis\":{\"backgroundcolor\":\"#E5ECF6\",\"gridcolor\":\"white\",\"linecolor\":\"white\",\"showbackground\":true,\"ticks\":\"\",\"zerolinecolor\":\"white\",\"gridwidth\":2},\"zaxis\":{\"backgroundcolor\":\"#E5ECF6\",\"gridcolor\":\"white\",\"linecolor\":\"white\",\"showbackground\":true,\"ticks\":\"\",\"zerolinecolor\":\"white\",\"gridwidth\":2}},\"shapedefaults\":{\"line\":{\"color\":\"#2a3f5f\"}},\"annotationdefaults\":{\"arrowcolor\":\"#2a3f5f\",\"arrowhead\":0,\"arrowwidth\":1},\"geo\":{\"bgcolor\":\"white\",\"landcolor\":\"#E5ECF6\",\"subunitcolor\":\"white\",\"showland\":true,\"showlakes\":true,\"lakecolor\":\"white\"},\"title\":{\"x\":0.05},\"mapbox\":{\"style\":\"light\"}}},\"xaxis\":{\"anchor\":\"y\",\"domain\":[0.0,1.0],\"title\":{\"text\":\"Avalia\\u00e7\\u00e3o dos cr\\u00edticos\"}},\"yaxis\":{\"anchor\":\"x\",\"domain\":[0.0,1.0],\"title\":{\"text\":\"Avalia\\u00e7\\u00e3o dos usu\\u00e1rios\"}},\"legend\":{\"title\":{\"text\":\"platform\"},\"tracegroupgap\":0,\"itemsizing\":\"constant\"},\"title\":{\"text\":\"Avalia\\u00e7\\u00e3o dos cr\\u00edticos VS Avalia\\u00e7\\u00e3o dos usu\\u00e1rios (Plataforma PS4)\"}},                        {\"responsive\": true}                    ).then(function(){\n",
       "                            \n",
       "var gd = document.getElementById('b1cf431b-b62d-499b-8a88-c9ee5eac710c');\n",
       "var x = new MutationObserver(function (mutations, observer) {{\n",
       "        var display = window.getComputedStyle(gd).display;\n",
       "        if (!display || display === 'none') {{\n",
       "            console.log([gd, 'removed!']);\n",
       "            Plotly.purge(gd);\n",
       "            observer.disconnect();\n",
       "        }}\n",
       "}});\n",
       "\n",
       "// Listen for the removal of the full notebook cells\n",
       "var notebookContainer = gd.closest('#notebook-container');\n",
       "if (notebookContainer) {{\n",
       "    x.observe(notebookContainer, {childList: true});\n",
       "}}\n",
       "\n",
       "// Listen for the clearing of the current output cell\n",
       "var outputEl = gd.closest('.output');\n",
       "if (outputEl) {{\n",
       "    x.observe(outputEl, {childList: true});\n",
       "}}\n",
       "\n",
       "                        })                };                });            </script>        </div>"
      ]
     },
     "metadata": {},
     "output_type": "display_data"
    }
   ],
   "source": [
    "fig = px.scatter(\n",
    "    ps4_ratings,\n",
    "    x='critic_score',\n",
    "    y='user_score',\n",
    "    size='total_sales',\n",
    "    color='platform',\n",
    "    hover_name='name',\n",
    "    title='Avaliação dos críticos VS Avaliação dos usuários (Plataforma PS4)',\n",
    "    labels={\n",
    "        'critic_score': 'Avaliação dos críticos',\n",
    "        'user_score': 'Avaliação dos usuários',\n",
    "        'total_sales': 'Vendas Totais'\n",
    "    }\n",
    ")\n",
    "fig.show()"
   ]
  },
  {
   "cell_type": "code",
   "execution_count": 178,
   "id": "b6097dae-31ab-41ae-9cc3-cfb6cc6c5de7",
   "metadata": {},
   "outputs": [
    {
     "data": {
      "application/vnd.plotly.v1+json": {
       "config": {
        "plotlyServerURL": "https://plot.ly"
       },
       "data": [
        {
         "hovertemplate": "<b>%{hovertext}</b><br><br>platform=PS4<br>Avaliação dos críticos=%{x}<br>Vendas Totais=%{y}<extra></extra>",
         "hovertext": [
          "7 Days to Die",
          "Aegis of Earth: Protonovus Assault",
          "Agatha Christie's The ABC Murders",
          "Alien: Isolation",
          "Angry Birds Star Wars",
          "Anima - Gate of Memories",
          "Arslan: The Warriors of Legend",
          "Assassin's Creed Chronicles: China",
          "Assassin's Creed IV: Black Flag",
          "Assassin's Creed Syndicate",
          "Assassin's Creed The Ezio Collection",
          "Assassin's Creed: Unity",
          "Assetto Corsa",
          "Atelier Sophie: The Alchemist of the Mysterious Book",
          "Batman: Arkham Knight",
          "Batman: Arkham VR",
          "Batman: Return to Arkham",
          "Battleborn",
          "Battlefield 1",
          "Battlefield 4",
          "Battlefield: Hardline",
          "Battlezone",
          "BioShock The Collection",
          "Bladestorm: Nightmare",
          "BlazBlue Central Fiction",
          "BlazBlue: Chrono Phantasma Extend",
          "Bloodborne",
          "Borderlands: The Handsome Collection",
          "Bound By Flame",
          "Broken Sword 5: The Serpent's Curse",
          "Brothers: A Tale of Two Sons",
          "Call of Duty: Advanced Warfare",
          "Call of Duty: Ghosts",
          "Call of Duty: Infinite Warfare",
          "Carmageddon: Max Damage",
          "Child of Light",
          "Dark Souls III",
          "Darksiders: Warmastered Edition",
          "Dead Island Definitive Collection",
          "Dead Rising",
          "Dead Rising 2",
          "Dead or Alive Xtreme 3: Fortune",
          "Deadpool",
          "Destiny",
          "Destiny: The Taken King",
          "Deus Ex: Mankind Divided",
          "DiRT Rally",
          "Digimon Story: Cyber Sleuth",
          "Dino Dini's Kick Off Revival",
          "Disgaea 5: Alliance of Vengeance",
          "Dishonored 2",
          "Don Bradman Cricket 14",
          "Dragon Age: Inquisition",
          "Dragon Ball: XenoVerse",
          "Dragon Ball: Xenoverse 2",
          "DriveClub",
          "DriveClub VR",
          "Duke Nukem 3D: 20th Anniversary World Tour",
          "Dungeons 2",
          "Dying Light",
          "Dynasty Warriors 8: Empires",
          "EA Sports UFC",
          "EA Sports UFC 2",
          "EVE: Valkyrie",
          "Eagle Flight",
          "Earth Defense Force 4.1: The Shadow of New Despair",
          "Evolve",
          "Exist Archive: The Other Side of the Sky",
          "F1 2015",
          "FIFA 14",
          "FIFA 15",
          "FIFA 16",
          "FIFA 17",
          "Fairy Fencer F: Advent Dark Force",
          "Fallout 4",
          "Far Cry 4",
          "Far Cry: Primal",
          "Farming Simulator 17",
          "Final Fantasy XIV: Heavensward",
          "God Eater 2: Rage Burst",
          "God Eater Resurrection",
          "Grand Ages: Medieval",
          "Grand Kingdom",
          "Grand Theft Auto V",
          "Gravity Rush Remastered",
          "Guitar Hero Live",
          "Hatsune Miku: Project Diva X",
          "Here They Lie",
          "Homefront: The Revolution",
          "Infamous: First Light",
          "JoJo's Bizarre Adventure: Eyes of Heaven",
          "Just Cause 3",
          "Just Dance 2014",
          "Just Dance 2015",
          "Just Dance 2016",
          "Killing Floor 2 ",
          "Killzone: Shadow Fall",
          "Knack",
          "LEGO Dimensions",
          "LEGO Harry Potter Collection",
          "LEGO Jurassic World",
          "LEGO Marvel Super Heroes",
          "LEGO Marvel's Avengers",
          "LEGO The Hobbit",
          "Lara Croft and the Temple of Osiris",
          "Legend of Kay Anniversary",
          "Lego Batman 3: Beyond Gotham",
          "Lego Star Wars: The Force Awakens",
          "Life is Strange",
          "LittleBigPlanet 3",
          "Lords of the Fallen",
          "MLB 14: The Show",
          "MLB 15: The Show",
          "MX vs. ATV Supercross Encore",
          "Madden NFL 15",
          "Madden NFL 16",
          "Madden NFL 17",
          "Madden NFL 25",
          "Mafia III",
          "Mark McMorris Infinite Air",
          "Mega Man Legacy Collection",
          "Metal Gear Solid V: Ground Zeroes",
          "Metal Gear Solid V: The Phantom Pain",
          "Middle-Earth: Shadow of Mordor",
          "Mighty No. 9",
          "Mirror's Edge Catalyst",
          "Mortal Kombat X",
          "MotoGP 14 ",
          "Murdered: Soul Suspect",
          "NASCAR Heat Evolution",
          "NBA 2K14",
          "NBA 2K15",
          "NBA 2K16",
          "NBA 2K17",
          "NBA Live 14",
          "NBA Live 15",
          "NBA Live 16",
          "NHL 15",
          "NHL 16",
          "NHL 17",
          "Naruto Shippuden: Ultimate Ninja Storm 4",
          "Natural Doctrine",
          "Need for Speed Rivals",
          "Nights of Azure",
          "Nitroplus Blasterz: Heroines Infinite Duel",
          "No Man's Sky",
          "Nobunaga's Ambition: Sphere of Influence",
          "Odin Sphere: Leifthrasir",
          "Omega Quintet",
          "One Piece: Burning Blood",
          "One Piece: Pirate Warriors 3",
          "Onechanbara Z2: Chaos",
          "Overwatch",
          "Plants vs. Zombies: Garden Warfare",
          "Plants vs. Zombies: Garden Warfare 2",
          "PlayStation VR Worlds",
          "Prison Architect",
          "Pro Evolution Soccer 2015",
          "Pro Evolution Soccer 2016",
          "Pro Evolution Soccer 2017",
          "Project CARS",
          "Prototype: Biohazard Bundle",
          "Psycho-Pass: Mandatory Happiness",
          "Putty Squad",
          "RIGS: Mechanized Combat League",
          "Rayman Legends",
          "Republique",
          "Resident Evil 6",
          "Resident Evil: Revelations 2",
          "Ride",
          "Ride 2",
          "Robinson: The Journey",
          "Rock Band 4",
          "Rocket League",
          "Root Letter",
          "Rory McIlroy PGA Tour",
          "Rugby 15",
          "Rugby Challenge 3",
          "Rugby World Cup 2015",
          "Saint Seiya: Soldiers' Soul",
          "Saints Row: Gat out of Hell",
          "Samurai Warriors 4",
          "Samurai Warriors 4-II",
          "Samurai Warriors 4: Empires",
          "Senran Kagura: Estival Versus",
          "Sherlock Holmes: The Devil's Daughter",
          "Shovel Knight",
          "Singstar: Ultimate Party",
          "Skylanders Imaginators",
          "Skylanders SWAP Force",
          "Skylanders: SuperChargers",
          "Skylanders: Trap Team",
          "Sniper Elite 3",
          "Song of the Deep",
          "Steins;Gate 0",
          "Street Fighter V",
          "Super Dungeon Bros",
          "Super Stardust Ultra VR",
          "Sword Art Online: Hollow Realization",
          "Sword Art Online: Lost Song",
          "Sébastien Loeb Rally Evo",
          "Tales of Zestiria",
          "Tearaway Unfolded",
          "Teenage Mutant Ninja Turtles: Mutants in Manhattan",
          "Terraria",
          "The Book of Unwritten Tales 2",
          "The Crew",
          "The Crew: Wild Run",
          "The Evil Within",
          "The Golf Club",
          "The King of Fighters XIV",
          "The LEGO Movie Videogame",
          "The Order: 1886",
          "The Peanuts Movie: Snoopy's Grand Adventure",
          "The Talos Principle",
          "The Technomancer",
          "The Witcher 3: Wild Hunt",
          "The Wolf Among Us",
          "Titanfall 2",
          "Tom Clancy's Rainbow Six: Siege",
          "Tom Clancy's The Division",
          "Tony Hawk's Pro Skater 5",
          "Touhou Genso Rondo: Bullet Ballet",
          "Toukiden Kiwami",
          "Tour de France 2014",
          "Toy Soldiers: War Chest",
          "TrackMania Turbo",
          "Transformers: Devastation",
          "Trials Fusion",
          "Tropico 5",
          "UEFA Euro 2016",
          "Ultra Street Fighter IV",
          "Uncharted 4: A Thief's End",
          "Uncharted: The Nathan Drake Collection",
          "Until Dawn",
          "Until Dawn: Rush of Blood",
          "Valentino Rossi: The Game",
          "WWE 2K15",
          "WWE 2K16",
          "WWE 2K17",
          "Watch Dogs",
          "Watch Dogs 2",
          "Wolfenstein: The New Order",
          "Wolfenstein: The Old Blood",
          "World of Final Fantasy",
          "Worms: WMD",
          "XCOM 2",
          "Zombie Army Trilogy",
          "inFAMOUS: Second Son"
         ],
         "legendgroup": "PS4",
         "marker": {
          "color": "#636efa",
          "symbol": "circle"
         },
         "mode": "markers",
         "name": "PS4",
         "orientation": "v",
         "showlegend": true,
         "type": "scatter",
         "x": [
          45,
          57,
          67,
          79,
          47,
          52,
          69,
          69,
          83,
          76,
          72,
          70,
          73,
          75,
          87,
          75,
          73,
          68,
          88,
          85,
          73,
          66,
          84,
          58,
          85,
          80,
          92,
          82,
          53,
          72,
          81,
          83,
          78,
          77,
          51,
          82,
          89,
          79,
          63,
          78,
          82,
          43,
          60,
          76,
          86,
          84,
          85,
          75,
          31,
          80,
          88,
          76,
          89,
          69,
          73,
          71,
          67,
          77,
          61,
          74,
          63,
          70,
          79,
          73,
          72,
          64,
          76,
          69,
          65,
          87,
          82,
          82,
          85,
          71,
          87,
          85,
          76,
          69,
          86,
          69,
          70,
          64,
          78,
          97,
          80,
          80,
          78,
          62,
          48,
          73,
          61,
          73,
          75,
          72,
          73,
          76,
          73,
          54,
          80,
          73,
          70,
          83,
          71,
          72,
          74,
          62,
          73,
          78,
          85,
          79,
          68,
          83,
          80,
          42,
          81,
          83,
          82,
          74,
          68,
          49,
          77,
          75,
          93,
          84,
          52,
          69,
          83,
          73,
          59,
          66,
          85,
          83,
          87,
          88,
          43,
          59,
          59,
          60,
          78,
          78,
          79,
          53,
          80,
          67,
          70,
          71,
          80,
          87,
          58,
          66,
          74,
          57,
          90,
          75,
          81,
          59,
          80,
          82,
          87,
          85,
          83,
          48,
          72,
          38,
          79,
          90,
          72,
          60,
          75,
          66,
          71,
          65,
          78,
          85,
          69,
          61,
          19,
          64,
          25,
          59,
          64,
          76,
          73,
          71,
          67,
          70,
          90,
          47,
          80,
          79,
          81,
          78,
          67,
          69,
          81,
          77,
          42,
          66,
          69,
          63,
          71,
          72,
          81,
          44,
          83,
          63,
          61,
          73,
          75,
          66,
          79,
          71,
          63,
          59,
          88,
          60,
          92,
          83,
          89,
          73,
          80,
          32,
          55,
          74,
          53,
          62,
          81,
          77,
          79,
          76,
          72,
          71,
          93,
          86,
          79,
          72,
          75,
          62,
          73,
          69,
          80,
          83,
          79,
          76,
          77,
          78,
          88,
          62,
          80
         ],
         "xaxis": "x",
         "y": [
          0.12,
          0.02,
          0.02,
          0.95,
          0.18,
          0.02,
          0.08,
          0.03,
          2.44,
          2.8699999999999997,
          0.17,
          3.34,
          0.05,
          0.11,
          3.32,
          0.25,
          0.23,
          0.22,
          3.46,
          3.0700000000000003,
          1.79,
          0.04,
          0.31000000000000005,
          0.15,
          0.07,
          0.12000000000000001,
          2.1,
          0.74,
          0.16999999999999998,
          0.06,
          0.11,
          6.43,
          3.26,
          3.7600000000000002,
          0.01,
          0.05,
          1.4400000000000002,
          0.02,
          0.11,
          0.03,
          0.02,
          0.05,
          0.25,
          4.720000000000001,
          1.61,
          0.32,
          0.31,
          0.1,
          0.02,
          0.25,
          0.54,
          0.09999999999999999,
          1.69,
          0.9400000000000001,
          0.6,
          1.7599999999999998,
          0.08,
          0.03,
          0.01,
          1.75,
          0.16,
          0.88,
          0.78,
          0.08,
          0.060000000000000005,
          0.05,
          0.8200000000000001,
          0.04,
          0.5700000000000001,
          2.57,
          5.18,
          7.3,
          6.49,
          0.07,
          6.04,
          3.41,
          1.9100000000000001,
          0.36,
          0.12,
          0.09999999999999999,
          0.08,
          0.07,
          0.06,
          10.65,
          0.11000000000000001,
          0.72,
          0.04,
          0.02,
          0.30000000000000004,
          0.03,
          0.03,
          1.57,
          0.35,
          0.32,
          0.30000000000000004,
          0.04,
          2.3000000000000003,
          1.53,
          0.61,
          0.12,
          0.76,
          1.36,
          0.61,
          0.51,
          0.07,
          0.02,
          0.77,
          0.6,
          0.32999999999999996,
          1.6,
          0.44,
          0.58,
          0.76,
          0.05,
          1.79,
          2.6399999999999997,
          1.42,
          0.76,
          1.53,
          0.01,
          0.07,
          1.0899999999999999,
          2.9400000000000004,
          2.4899999999999998,
          0.04,
          0.29000000000000004,
          2.3,
          0.15,
          0.27,
          0.04,
          1.21,
          2.0199999999999996,
          3.18,
          1.54,
          0.2,
          0.2,
          0.14,
          0.5,
          0.52,
          0.27,
          0.97,
          0.09000000000000001,
          1.68,
          0.05,
          0.03,
          1.4200000000000002,
          0.03,
          0.18000000000000002,
          0.02,
          0.31,
          0.41000000000000003,
          0.21000000000000002,
          1.81,
          0.51,
          0.41000000000000003,
          0.22,
          0.02,
          0.65,
          0.68,
          0.4,
          0.9199999999999999,
          0.01,
          0.03,
          0.13,
          0.09,
          0.86,
          0.02,
          0.06,
          0.47,
          0.2,
          0.04,
          0.09,
          0.31,
          0.31000000000000005,
          0.01,
          0.43,
          0.1,
          0.04,
          0.05,
          0.16,
          0.04,
          0.21000000000000002,
          0.11,
          0.09,
          0.16,
          0.01,
          0.06,
          0.16,
          0.12,
          0.32,
          0.25,
          0.37,
          0.5800000000000001,
          0.06,
          0.05,
          0.76,
          0.01,
          0.01,
          0.18,
          0.21000000000000002,
          0.04,
          0.34,
          0.22,
          0.07,
          0.060000000000000005,
          0.06,
          1.4600000000000002,
          0.08,
          1.5200000000000002,
          0.07,
          0.13,
          0.56,
          1.4500000000000002,
          0.02,
          0.02,
          0.06,
          3.38,
          0.17,
          0.6400000000000001,
          1.88,
          3.1999999999999997,
          0.16999999999999998,
          0.02,
          0.14,
          0.03,
          0.06,
          0.29000000000000004,
          0.19,
          0.36,
          0.28,
          0.26,
          0.08,
          4.54,
          3.86,
          1.4000000000000001,
          0.32999999999999996,
          0.060000000000000005,
          0.96,
          1.01,
          0.51,
          3.4099999999999997,
          0.95,
          1.3,
          0.37,
          0.30000000000000004,
          0.03,
          0.12,
          0.16999999999999998,
          2.3299999999999996
         ],
         "yaxis": "y"
        }
       ],
       "layout": {
        "autosize": true,
        "legend": {
         "title": {
          "text": "platform"
         },
         "tracegroupgap": 0
        },
        "template": {
         "data": {
          "bar": [
           {
            "error_x": {
             "color": "#2a3f5f"
            },
            "error_y": {
             "color": "#2a3f5f"
            },
            "marker": {
             "line": {
              "color": "#E5ECF6",
              "width": 0.5
             },
             "pattern": {
              "fillmode": "overlay",
              "size": 10,
              "solidity": 0.2
             }
            },
            "type": "bar"
           }
          ],
          "barpolar": [
           {
            "marker": {
             "line": {
              "color": "#E5ECF6",
              "width": 0.5
             },
             "pattern": {
              "fillmode": "overlay",
              "size": 10,
              "solidity": 0.2
             }
            },
            "type": "barpolar"
           }
          ],
          "carpet": [
           {
            "aaxis": {
             "endlinecolor": "#2a3f5f",
             "gridcolor": "white",
             "linecolor": "white",
             "minorgridcolor": "white",
             "startlinecolor": "#2a3f5f"
            },
            "baxis": {
             "endlinecolor": "#2a3f5f",
             "gridcolor": "white",
             "linecolor": "white",
             "minorgridcolor": "white",
             "startlinecolor": "#2a3f5f"
            },
            "type": "carpet"
           }
          ],
          "choropleth": [
           {
            "colorbar": {
             "outlinewidth": 0,
             "ticks": ""
            },
            "type": "choropleth"
           }
          ],
          "contour": [
           {
            "colorbar": {
             "outlinewidth": 0,
             "ticks": ""
            },
            "colorscale": [
             [
              0,
              "#0d0887"
             ],
             [
              0.1111111111111111,
              "#46039f"
             ],
             [
              0.2222222222222222,
              "#7201a8"
             ],
             [
              0.3333333333333333,
              "#9c179e"
             ],
             [
              0.4444444444444444,
              "#bd3786"
             ],
             [
              0.5555555555555556,
              "#d8576b"
             ],
             [
              0.6666666666666666,
              "#ed7953"
             ],
             [
              0.7777777777777778,
              "#fb9f3a"
             ],
             [
              0.8888888888888888,
              "#fdca26"
             ],
             [
              1,
              "#f0f921"
             ]
            ],
            "type": "contour"
           }
          ],
          "contourcarpet": [
           {
            "colorbar": {
             "outlinewidth": 0,
             "ticks": ""
            },
            "type": "contourcarpet"
           }
          ],
          "heatmap": [
           {
            "colorbar": {
             "outlinewidth": 0,
             "ticks": ""
            },
            "colorscale": [
             [
              0,
              "#0d0887"
             ],
             [
              0.1111111111111111,
              "#46039f"
             ],
             [
              0.2222222222222222,
              "#7201a8"
             ],
             [
              0.3333333333333333,
              "#9c179e"
             ],
             [
              0.4444444444444444,
              "#bd3786"
             ],
             [
              0.5555555555555556,
              "#d8576b"
             ],
             [
              0.6666666666666666,
              "#ed7953"
             ],
             [
              0.7777777777777778,
              "#fb9f3a"
             ],
             [
              0.8888888888888888,
              "#fdca26"
             ],
             [
              1,
              "#f0f921"
             ]
            ],
            "type": "heatmap"
           }
          ],
          "heatmapgl": [
           {
            "colorbar": {
             "outlinewidth": 0,
             "ticks": ""
            },
            "colorscale": [
             [
              0,
              "#0d0887"
             ],
             [
              0.1111111111111111,
              "#46039f"
             ],
             [
              0.2222222222222222,
              "#7201a8"
             ],
             [
              0.3333333333333333,
              "#9c179e"
             ],
             [
              0.4444444444444444,
              "#bd3786"
             ],
             [
              0.5555555555555556,
              "#d8576b"
             ],
             [
              0.6666666666666666,
              "#ed7953"
             ],
             [
              0.7777777777777778,
              "#fb9f3a"
             ],
             [
              0.8888888888888888,
              "#fdca26"
             ],
             [
              1,
              "#f0f921"
             ]
            ],
            "type": "heatmapgl"
           }
          ],
          "histogram": [
           {
            "marker": {
             "pattern": {
              "fillmode": "overlay",
              "size": 10,
              "solidity": 0.2
             }
            },
            "type": "histogram"
           }
          ],
          "histogram2d": [
           {
            "colorbar": {
             "outlinewidth": 0,
             "ticks": ""
            },
            "colorscale": [
             [
              0,
              "#0d0887"
             ],
             [
              0.1111111111111111,
              "#46039f"
             ],
             [
              0.2222222222222222,
              "#7201a8"
             ],
             [
              0.3333333333333333,
              "#9c179e"
             ],
             [
              0.4444444444444444,
              "#bd3786"
             ],
             [
              0.5555555555555556,
              "#d8576b"
             ],
             [
              0.6666666666666666,
              "#ed7953"
             ],
             [
              0.7777777777777778,
              "#fb9f3a"
             ],
             [
              0.8888888888888888,
              "#fdca26"
             ],
             [
              1,
              "#f0f921"
             ]
            ],
            "type": "histogram2d"
           }
          ],
          "histogram2dcontour": [
           {
            "colorbar": {
             "outlinewidth": 0,
             "ticks": ""
            },
            "colorscale": [
             [
              0,
              "#0d0887"
             ],
             [
              0.1111111111111111,
              "#46039f"
             ],
             [
              0.2222222222222222,
              "#7201a8"
             ],
             [
              0.3333333333333333,
              "#9c179e"
             ],
             [
              0.4444444444444444,
              "#bd3786"
             ],
             [
              0.5555555555555556,
              "#d8576b"
             ],
             [
              0.6666666666666666,
              "#ed7953"
             ],
             [
              0.7777777777777778,
              "#fb9f3a"
             ],
             [
              0.8888888888888888,
              "#fdca26"
             ],
             [
              1,
              "#f0f921"
             ]
            ],
            "type": "histogram2dcontour"
           }
          ],
          "mesh3d": [
           {
            "colorbar": {
             "outlinewidth": 0,
             "ticks": ""
            },
            "type": "mesh3d"
           }
          ],
          "parcoords": [
           {
            "line": {
             "colorbar": {
              "outlinewidth": 0,
              "ticks": ""
             }
            },
            "type": "parcoords"
           }
          ],
          "pie": [
           {
            "automargin": true,
            "type": "pie"
           }
          ],
          "scatter": [
           {
            "fillpattern": {
             "fillmode": "overlay",
             "size": 10,
             "solidity": 0.2
            },
            "type": "scatter"
           }
          ],
          "scatter3d": [
           {
            "line": {
             "colorbar": {
              "outlinewidth": 0,
              "ticks": ""
             }
            },
            "marker": {
             "colorbar": {
              "outlinewidth": 0,
              "ticks": ""
             }
            },
            "type": "scatter3d"
           }
          ],
          "scattercarpet": [
           {
            "marker": {
             "colorbar": {
              "outlinewidth": 0,
              "ticks": ""
             }
            },
            "type": "scattercarpet"
           }
          ],
          "scattergeo": [
           {
            "marker": {
             "colorbar": {
              "outlinewidth": 0,
              "ticks": ""
             }
            },
            "type": "scattergeo"
           }
          ],
          "scattergl": [
           {
            "marker": {
             "colorbar": {
              "outlinewidth": 0,
              "ticks": ""
             }
            },
            "type": "scattergl"
           }
          ],
          "scattermapbox": [
           {
            "marker": {
             "colorbar": {
              "outlinewidth": 0,
              "ticks": ""
             }
            },
            "type": "scattermapbox"
           }
          ],
          "scatterpolar": [
           {
            "marker": {
             "colorbar": {
              "outlinewidth": 0,
              "ticks": ""
             }
            },
            "type": "scatterpolar"
           }
          ],
          "scatterpolargl": [
           {
            "marker": {
             "colorbar": {
              "outlinewidth": 0,
              "ticks": ""
             }
            },
            "type": "scatterpolargl"
           }
          ],
          "scatterternary": [
           {
            "marker": {
             "colorbar": {
              "outlinewidth": 0,
              "ticks": ""
             }
            },
            "type": "scatterternary"
           }
          ],
          "surface": [
           {
            "colorbar": {
             "outlinewidth": 0,
             "ticks": ""
            },
            "colorscale": [
             [
              0,
              "#0d0887"
             ],
             [
              0.1111111111111111,
              "#46039f"
             ],
             [
              0.2222222222222222,
              "#7201a8"
             ],
             [
              0.3333333333333333,
              "#9c179e"
             ],
             [
              0.4444444444444444,
              "#bd3786"
             ],
             [
              0.5555555555555556,
              "#d8576b"
             ],
             [
              0.6666666666666666,
              "#ed7953"
             ],
             [
              0.7777777777777778,
              "#fb9f3a"
             ],
             [
              0.8888888888888888,
              "#fdca26"
             ],
             [
              1,
              "#f0f921"
             ]
            ],
            "type": "surface"
           }
          ],
          "table": [
           {
            "cells": {
             "fill": {
              "color": "#EBF0F8"
             },
             "line": {
              "color": "white"
             }
            },
            "header": {
             "fill": {
              "color": "#C8D4E3"
             },
             "line": {
              "color": "white"
             }
            },
            "type": "table"
           }
          ]
         },
         "layout": {
          "annotationdefaults": {
           "arrowcolor": "#2a3f5f",
           "arrowhead": 0,
           "arrowwidth": 1
          },
          "autotypenumbers": "strict",
          "coloraxis": {
           "colorbar": {
            "outlinewidth": 0,
            "ticks": ""
           }
          },
          "colorscale": {
           "diverging": [
            [
             0,
             "#8e0152"
            ],
            [
             0.1,
             "#c51b7d"
            ],
            [
             0.2,
             "#de77ae"
            ],
            [
             0.3,
             "#f1b6da"
            ],
            [
             0.4,
             "#fde0ef"
            ],
            [
             0.5,
             "#f7f7f7"
            ],
            [
             0.6,
             "#e6f5d0"
            ],
            [
             0.7,
             "#b8e186"
            ],
            [
             0.8,
             "#7fbc41"
            ],
            [
             0.9,
             "#4d9221"
            ],
            [
             1,
             "#276419"
            ]
           ],
           "sequential": [
            [
             0,
             "#0d0887"
            ],
            [
             0.1111111111111111,
             "#46039f"
            ],
            [
             0.2222222222222222,
             "#7201a8"
            ],
            [
             0.3333333333333333,
             "#9c179e"
            ],
            [
             0.4444444444444444,
             "#bd3786"
            ],
            [
             0.5555555555555556,
             "#d8576b"
            ],
            [
             0.6666666666666666,
             "#ed7953"
            ],
            [
             0.7777777777777778,
             "#fb9f3a"
            ],
            [
             0.8888888888888888,
             "#fdca26"
            ],
            [
             1,
             "#f0f921"
            ]
           ],
           "sequentialminus": [
            [
             0,
             "#0d0887"
            ],
            [
             0.1111111111111111,
             "#46039f"
            ],
            [
             0.2222222222222222,
             "#7201a8"
            ],
            [
             0.3333333333333333,
             "#9c179e"
            ],
            [
             0.4444444444444444,
             "#bd3786"
            ],
            [
             0.5555555555555556,
             "#d8576b"
            ],
            [
             0.6666666666666666,
             "#ed7953"
            ],
            [
             0.7777777777777778,
             "#fb9f3a"
            ],
            [
             0.8888888888888888,
             "#fdca26"
            ],
            [
             1,
             "#f0f921"
            ]
           ]
          },
          "colorway": [
           "#636efa",
           "#EF553B",
           "#00cc96",
           "#ab63fa",
           "#FFA15A",
           "#19d3f3",
           "#FF6692",
           "#B6E880",
           "#FF97FF",
           "#FECB52"
          ],
          "font": {
           "color": "#2a3f5f"
          },
          "geo": {
           "bgcolor": "white",
           "lakecolor": "white",
           "landcolor": "#E5ECF6",
           "showlakes": true,
           "showland": true,
           "subunitcolor": "white"
          },
          "hoverlabel": {
           "align": "left"
          },
          "hovermode": "closest",
          "mapbox": {
           "style": "light"
          },
          "paper_bgcolor": "white",
          "plot_bgcolor": "#E5ECF6",
          "polar": {
           "angularaxis": {
            "gridcolor": "white",
            "linecolor": "white",
            "ticks": ""
           },
           "bgcolor": "#E5ECF6",
           "radialaxis": {
            "gridcolor": "white",
            "linecolor": "white",
            "ticks": ""
           }
          },
          "scene": {
           "xaxis": {
            "backgroundcolor": "#E5ECF6",
            "gridcolor": "white",
            "gridwidth": 2,
            "linecolor": "white",
            "showbackground": true,
            "ticks": "",
            "zerolinecolor": "white"
           },
           "yaxis": {
            "backgroundcolor": "#E5ECF6",
            "gridcolor": "white",
            "gridwidth": 2,
            "linecolor": "white",
            "showbackground": true,
            "ticks": "",
            "zerolinecolor": "white"
           },
           "zaxis": {
            "backgroundcolor": "#E5ECF6",
            "gridcolor": "white",
            "gridwidth": 2,
            "linecolor": "white",
            "showbackground": true,
            "ticks": "",
            "zerolinecolor": "white"
           }
          },
          "shapedefaults": {
           "line": {
            "color": "#2a3f5f"
           }
          },
          "ternary": {
           "aaxis": {
            "gridcolor": "white",
            "linecolor": "white",
            "ticks": ""
           },
           "baxis": {
            "gridcolor": "white",
            "linecolor": "white",
            "ticks": ""
           },
           "bgcolor": "#E5ECF6",
           "caxis": {
            "gridcolor": "white",
            "linecolor": "white",
            "ticks": ""
           }
          },
          "title": {
           "x": 0.05
          },
          "xaxis": {
           "automargin": true,
           "gridcolor": "white",
           "linecolor": "white",
           "ticks": "",
           "title": {
            "standoff": 15
           },
           "zerolinecolor": "white",
           "zerolinewidth": 2
          },
          "yaxis": {
           "automargin": true,
           "gridcolor": "white",
           "linecolor": "white",
           "ticks": "",
           "title": {
            "standoff": 15
           },
           "zerolinecolor": "white",
           "zerolinewidth": 2
          }
         }
        },
        "title": {
         "text": "Avaliação dos críticos VS Vendas totais (Plataforma PS4)"
        },
        "xaxis": {
         "anchor": "y",
         "autorange": true,
         "domain": [
          0,
          1
         ],
         "range": [
          13.97177677998717,
          102.02822322001283
         ],
         "title": {
          "text": "Avaliação dos críticos"
         },
         "type": "linear"
        },
        "yaxis": {
         "anchor": "x",
         "autorange": true,
         "domain": [
          0,
          1
         ],
         "range": [
          -0.8680582524271845,
          11.528058252427185
         ],
         "title": {
          "text": "Vendas Totais"
         },
         "type": "linear"
        }
       }
      },
      "text/html": [
       "<div>                            <div id=\"71d6453f-6470-449f-ae40-b7351a3e0a80\" class=\"plotly-graph-div\" style=\"height:525px; width:100%;\"></div>            <script type=\"text/javascript\">                require([\"plotly\"], function(Plotly) {                    window.PLOTLYENV=window.PLOTLYENV || {};                                    if (document.getElementById(\"71d6453f-6470-449f-ae40-b7351a3e0a80\")) {                    Plotly.newPlot(                        \"71d6453f-6470-449f-ae40-b7351a3e0a80\",                        [{\"hovertemplate\":\"\\u003cb\\u003e%{hovertext}\\u003c\\u002fb\\u003e\\u003cbr\\u003e\\u003cbr\\u003eplatform=PS4\\u003cbr\\u003eAvalia\\u00e7\\u00e3o dos cr\\u00edticos=%{x}\\u003cbr\\u003eVendas Totais=%{y}\\u003cextra\\u003e\\u003c\\u002fextra\\u003e\",\"hovertext\":[\"7 Days to Die\",\"Aegis of Earth: Protonovus Assault\",\"Agatha Christie's The ABC Murders\",\"Alien: Isolation\",\"Angry Birds Star Wars\",\"Anima - Gate of Memories\",\"Arslan: The Warriors of Legend\",\"Assassin's Creed Chronicles: China\",\"Assassin's Creed IV: Black Flag\",\"Assassin's Creed Syndicate\",\"Assassin's Creed The Ezio Collection\",\"Assassin's Creed: Unity\",\"Assetto Corsa\",\"Atelier Sophie: The Alchemist of the Mysterious Book\",\"Batman: Arkham Knight\",\"Batman: Arkham VR\",\"Batman: Return to Arkham\",\"Battleborn\",\"Battlefield 1\",\"Battlefield 4\",\"Battlefield: Hardline\",\"Battlezone\",\"BioShock The Collection\",\"Bladestorm: Nightmare\",\"BlazBlue Central Fiction\",\"BlazBlue: Chrono Phantasma Extend\",\"Bloodborne\",\"Borderlands: The Handsome Collection\",\"Bound By Flame\",\"Broken Sword 5: The Serpent's Curse\",\"Brothers: A Tale of Two Sons\",\"Call of Duty: Advanced Warfare\",\"Call of Duty: Ghosts\",\"Call of Duty: Infinite Warfare\",\"Carmageddon: Max Damage\",\"Child of Light\",\"Dark Souls III\",\"Darksiders: Warmastered Edition\",\"Dead Island Definitive Collection\",\"Dead Rising\",\"Dead Rising 2\",\"Dead or Alive Xtreme 3: Fortune\",\"Deadpool\",\"Destiny\",\"Destiny: The Taken King\",\"Deus Ex: Mankind Divided\",\"DiRT Rally\",\"Digimon Story: Cyber Sleuth\",\"Dino Dini's Kick Off Revival\",\"Disgaea 5: Alliance of Vengeance\",\"Dishonored 2\",\"Don Bradman Cricket 14\",\"Dragon Age: Inquisition\",\"Dragon Ball: XenoVerse\",\"Dragon Ball: Xenoverse 2\",\"DriveClub\",\"DriveClub VR\",\"Duke Nukem 3D: 20th Anniversary World Tour\",\"Dungeons 2\",\"Dying Light\",\"Dynasty Warriors 8: Empires\",\"EA Sports UFC\",\"EA Sports UFC 2\",\"EVE: Valkyrie\",\"Eagle Flight\",\"Earth Defense Force 4.1: The Shadow of New Despair\",\"Evolve\",\"Exist Archive: The Other Side of the Sky\",\"F1 2015\",\"FIFA 14\",\"FIFA 15\",\"FIFA 16\",\"FIFA 17\",\"Fairy Fencer F: Advent Dark Force\",\"Fallout 4\",\"Far Cry 4\",\"Far Cry: Primal\",\"Farming Simulator 17\",\"Final Fantasy XIV: Heavensward\",\"God Eater 2: Rage Burst\",\"God Eater Resurrection\",\"Grand Ages: Medieval\",\"Grand Kingdom\",\"Grand Theft Auto V\",\"Gravity Rush Remastered\",\"Guitar Hero Live\",\"Hatsune Miku: Project Diva X\",\"Here They Lie\",\"Homefront: The Revolution\",\"Infamous: First Light\",\"JoJo's Bizarre Adventure: Eyes of Heaven\",\"Just Cause 3\",\"Just Dance 2014\",\"Just Dance 2015\",\"Just Dance 2016\",\"Killing Floor 2 \",\"Killzone: Shadow Fall\",\"Knack\",\"LEGO Dimensions\",\"LEGO Harry Potter Collection\",\"LEGO Jurassic World\",\"LEGO Marvel Super Heroes\",\"LEGO Marvel's Avengers\",\"LEGO The Hobbit\",\"Lara Croft and the Temple of Osiris\",\"Legend of Kay Anniversary\",\"Lego Batman 3: Beyond Gotham\",\"Lego Star Wars: The Force Awakens\",\"Life is Strange\",\"LittleBigPlanet 3\",\"Lords of the Fallen\",\"MLB 14: The Show\",\"MLB 15: The Show\",\"MX vs. ATV Supercross Encore\",\"Madden NFL 15\",\"Madden NFL 16\",\"Madden NFL 17\",\"Madden NFL 25\",\"Mafia III\",\"Mark McMorris Infinite Air\",\"Mega Man Legacy Collection\",\"Metal Gear Solid V: Ground Zeroes\",\"Metal Gear Solid V: The Phantom Pain\",\"Middle-Earth: Shadow of Mordor\",\"Mighty No. 9\",\"Mirror's Edge Catalyst\",\"Mortal Kombat X\",\"MotoGP 14 \",\"Murdered: Soul Suspect\",\"NASCAR Heat Evolution\",\"NBA 2K14\",\"NBA 2K15\",\"NBA 2K16\",\"NBA 2K17\",\"NBA Live 14\",\"NBA Live 15\",\"NBA Live 16\",\"NHL 15\",\"NHL 16\",\"NHL 17\",\"Naruto Shippuden: Ultimate Ninja Storm 4\",\"Natural Doctrine\",\"Need for Speed Rivals\",\"Nights of Azure\",\"Nitroplus Blasterz: Heroines Infinite Duel\",\"No Man's Sky\",\"Nobunaga's Ambition: Sphere of Influence\",\"Odin Sphere: Leifthrasir\",\"Omega Quintet\",\"One Piece: Burning Blood\",\"One Piece: Pirate Warriors 3\",\"Onechanbara Z2: Chaos\",\"Overwatch\",\"Plants vs. Zombies: Garden Warfare\",\"Plants vs. Zombies: Garden Warfare 2\",\"PlayStation VR Worlds\",\"Prison Architect\",\"Pro Evolution Soccer 2015\",\"Pro Evolution Soccer 2016\",\"Pro Evolution Soccer 2017\",\"Project CARS\",\"Prototype: Biohazard Bundle\",\"Psycho-Pass: Mandatory Happiness\",\"Putty Squad\",\"RIGS: Mechanized Combat League\",\"Rayman Legends\",\"Republique\",\"Resident Evil 6\",\"Resident Evil: Revelations 2\",\"Ride\",\"Ride 2\",\"Robinson: The Journey\",\"Rock Band 4\",\"Rocket League\",\"Root Letter\",\"Rory McIlroy PGA Tour\",\"Rugby 15\",\"Rugby Challenge 3\",\"Rugby World Cup 2015\",\"Saint Seiya: Soldiers' Soul\",\"Saints Row: Gat out of Hell\",\"Samurai Warriors 4\",\"Samurai Warriors 4-II\",\"Samurai Warriors 4: Empires\",\"Senran Kagura: Estival Versus\",\"Sherlock Holmes: The Devil's Daughter\",\"Shovel Knight\",\"Singstar: Ultimate Party\",\"Skylanders Imaginators\",\"Skylanders SWAP Force\",\"Skylanders: SuperChargers\",\"Skylanders: Trap Team\",\"Sniper Elite 3\",\"Song of the Deep\",\"Steins;Gate 0\",\"Street Fighter V\",\"Super Dungeon Bros\",\"Super Stardust Ultra VR\",\"Sword Art Online: Hollow Realization\",\"Sword Art Online: Lost Song\",\"S\\u00e9bastien Loeb Rally Evo\",\"Tales of Zestiria\",\"Tearaway Unfolded\",\"Teenage Mutant Ninja Turtles: Mutants in Manhattan\",\"Terraria\",\"The Book of Unwritten Tales 2\",\"The Crew\",\"The Crew: Wild Run\",\"The Evil Within\",\"The Golf Club\",\"The King of Fighters XIV\",\"The LEGO Movie Videogame\",\"The Order: 1886\",\"The Peanuts Movie: Snoopy's Grand Adventure\",\"The Talos Principle\",\"The Technomancer\",\"The Witcher 3: Wild Hunt\",\"The Wolf Among Us\",\"Titanfall 2\",\"Tom Clancy's Rainbow Six: Siege\",\"Tom Clancy's The Division\",\"Tony Hawk's Pro Skater 5\",\"Touhou Genso Rondo: Bullet Ballet\",\"Toukiden Kiwami\",\"Tour de France 2014\",\"Toy Soldiers: War Chest\",\"TrackMania Turbo\",\"Transformers: Devastation\",\"Trials Fusion\",\"Tropico 5\",\"UEFA Euro 2016\",\"Ultra Street Fighter IV\",\"Uncharted 4: A Thief's End\",\"Uncharted: The Nathan Drake Collection\",\"Until Dawn\",\"Until Dawn: Rush of Blood\",\"Valentino Rossi: The Game\",\"WWE 2K15\",\"WWE 2K16\",\"WWE 2K17\",\"Watch Dogs\",\"Watch Dogs 2\",\"Wolfenstein: The New Order\",\"Wolfenstein: The Old Blood\",\"World of Final Fantasy\",\"Worms: WMD\",\"XCOM 2\",\"Zombie Army Trilogy\",\"inFAMOUS: Second Son\"],\"legendgroup\":\"PS4\",\"marker\":{\"color\":\"#636efa\",\"symbol\":\"circle\"},\"mode\":\"markers\",\"name\":\"PS4\",\"orientation\":\"v\",\"showlegend\":true,\"x\":[45.0,57.0,67.0,79.0,47.0,52.0,69.0,69.0,83.0,76.0,72.0,70.0,73.0,75.0,87.0,75.0,73.0,68.0,88.0,85.0,73.0,66.0,84.0,58.0,85.0,80.0,92.0,82.0,53.0,72.0,81.0,83.0,78.0,77.0,51.0,82.0,89.0,79.0,63.0,78.0,82.0,43.0,60.0,76.0,86.0,84.0,85.0,75.0,31.0,80.0,88.0,76.0,89.0,69.0,73.0,71.0,67.0,77.0,61.0,74.0,63.0,70.0,79.0,73.0,72.0,64.0,76.0,69.0,65.0,87.0,82.0,82.0,85.0,71.0,87.0,85.0,76.0,69.0,86.0,69.0,70.0,64.0,78.0,97.0,80.0,80.0,78.0,62.0,48.0,73.0,61.0,73.0,75.0,72.0,73.0,76.0,73.0,54.0,80.0,73.0,70.0,83.0,71.0,72.0,74.0,62.0,73.0,78.0,85.0,79.0,68.0,83.0,80.0,42.0,81.0,83.0,82.0,74.0,68.0,49.0,77.0,75.0,93.0,84.0,52.0,69.0,83.0,73.0,59.0,66.0,85.0,83.0,87.0,88.0,43.0,59.0,59.0,60.0,78.0,78.0,79.0,53.0,80.0,67.0,70.0,71.0,80.0,87.0,58.0,66.0,74.0,57.0,90.0,75.0,81.0,59.0,80.0,82.0,87.0,85.0,83.0,48.0,72.0,38.0,79.0,90.0,72.0,60.0,75.0,66.0,71.0,65.0,78.0,85.0,69.0,61.0,19.0,64.0,25.0,59.0,64.0,76.0,73.0,71.0,67.0,70.0,90.0,47.0,80.0,79.0,81.0,78.0,67.0,69.0,81.0,77.0,42.0,66.0,69.0,63.0,71.0,72.0,81.0,44.0,83.0,63.0,61.0,73.0,75.0,66.0,79.0,71.0,63.0,59.0,88.0,60.0,92.0,83.0,89.0,73.0,80.0,32.0,55.0,74.0,53.0,62.0,81.0,77.0,79.0,76.0,72.0,71.0,93.0,86.0,79.0,72.0,75.0,62.0,73.0,69.0,80.0,83.0,79.0,76.0,77.0,78.0,88.0,62.0,80.0],\"xaxis\":\"x\",\"y\":[0.12,0.02,0.02,0.95,0.18,0.02,0.08,0.03,2.44,2.8699999999999997,0.17,3.34,0.05,0.11,3.32,0.25,0.23,0.22,3.46,3.0700000000000003,1.79,0.04,0.31000000000000005,0.15,0.07,0.12000000000000001,2.1,0.74,0.16999999999999998,0.06,0.11,6.43,3.26,3.7600000000000002,0.01,0.05,1.4400000000000002,0.02,0.11,0.03,0.02,0.05,0.25,4.720000000000001,1.61,0.32,0.31,0.1,0.02,0.25,0.54,0.09999999999999999,1.69,0.9400000000000001,0.6,1.7599999999999998,0.08,0.03,0.01,1.75,0.16,0.88,0.78,0.08,0.060000000000000005,0.05,0.8200000000000001,0.04,0.5700000000000001,2.57,5.18,7.3,6.49,0.07,6.04,3.41,1.9100000000000001,0.36,0.12,0.09999999999999999,0.08,0.07,0.06,10.65,0.11000000000000001,0.72,0.04,0.02,0.30000000000000004,0.03,0.03,1.57,0.35,0.32,0.30000000000000004,0.04,2.3000000000000003,1.53,0.61,0.12,0.76,1.36,0.61,0.51,0.07,0.02,0.77,0.6,0.32999999999999996,1.6,0.44,0.58,0.76,0.05,1.79,2.6399999999999997,1.42,0.76,1.53,0.01,0.07,1.0899999999999999,2.9400000000000004,2.4899999999999998,0.04,0.29000000000000004,2.3,0.15,0.27,0.04,1.21,2.0199999999999996,3.18,1.54,0.2,0.2,0.14,0.5,0.52,0.27,0.97,0.09000000000000001,1.68,0.05,0.03,1.4200000000000002,0.03,0.18000000000000002,0.02,0.31,0.41000000000000003,0.21000000000000002,1.81,0.51,0.41000000000000003,0.22,0.02,0.65,0.68,0.4,0.9199999999999999,0.01,0.03,0.13,0.09,0.86,0.02,0.06,0.47,0.2,0.04,0.09,0.31,0.31000000000000005,0.01,0.43,0.1,0.04,0.05,0.16,0.04,0.21000000000000002,0.11,0.09,0.16,0.01,0.06,0.16,0.12,0.32,0.25,0.37,0.5800000000000001,0.06,0.05,0.76,0.01,0.01,0.18,0.21000000000000002,0.04,0.34,0.22,0.07,0.060000000000000005,0.06,1.4600000000000002,0.08,1.5200000000000002,0.07,0.13,0.56,1.4500000000000002,0.02,0.02,0.06,3.38,0.17,0.6400000000000001,1.88,3.1999999999999997,0.16999999999999998,0.02,0.14,0.03,0.06,0.29000000000000004,0.19,0.36,0.28,0.26,0.08,4.54,3.86,1.4000000000000001,0.32999999999999996,0.060000000000000005,0.96,1.01,0.51,3.4099999999999997,0.95,1.3,0.37,0.30000000000000004,0.03,0.12,0.16999999999999998,2.3299999999999996],\"yaxis\":\"y\",\"type\":\"scatter\"}],                        {\"template\":{\"data\":{\"histogram2dcontour\":[{\"type\":\"histogram2dcontour\",\"colorbar\":{\"outlinewidth\":0,\"ticks\":\"\"},\"colorscale\":[[0.0,\"#0d0887\"],[0.1111111111111111,\"#46039f\"],[0.2222222222222222,\"#7201a8\"],[0.3333333333333333,\"#9c179e\"],[0.4444444444444444,\"#bd3786\"],[0.5555555555555556,\"#d8576b\"],[0.6666666666666666,\"#ed7953\"],[0.7777777777777778,\"#fb9f3a\"],[0.8888888888888888,\"#fdca26\"],[1.0,\"#f0f921\"]]}],\"choropleth\":[{\"type\":\"choropleth\",\"colorbar\":{\"outlinewidth\":0,\"ticks\":\"\"}}],\"histogram2d\":[{\"type\":\"histogram2d\",\"colorbar\":{\"outlinewidth\":0,\"ticks\":\"\"},\"colorscale\":[[0.0,\"#0d0887\"],[0.1111111111111111,\"#46039f\"],[0.2222222222222222,\"#7201a8\"],[0.3333333333333333,\"#9c179e\"],[0.4444444444444444,\"#bd3786\"],[0.5555555555555556,\"#d8576b\"],[0.6666666666666666,\"#ed7953\"],[0.7777777777777778,\"#fb9f3a\"],[0.8888888888888888,\"#fdca26\"],[1.0,\"#f0f921\"]]}],\"heatmap\":[{\"type\":\"heatmap\",\"colorbar\":{\"outlinewidth\":0,\"ticks\":\"\"},\"colorscale\":[[0.0,\"#0d0887\"],[0.1111111111111111,\"#46039f\"],[0.2222222222222222,\"#7201a8\"],[0.3333333333333333,\"#9c179e\"],[0.4444444444444444,\"#bd3786\"],[0.5555555555555556,\"#d8576b\"],[0.6666666666666666,\"#ed7953\"],[0.7777777777777778,\"#fb9f3a\"],[0.8888888888888888,\"#fdca26\"],[1.0,\"#f0f921\"]]}],\"heatmapgl\":[{\"type\":\"heatmapgl\",\"colorbar\":{\"outlinewidth\":0,\"ticks\":\"\"},\"colorscale\":[[0.0,\"#0d0887\"],[0.1111111111111111,\"#46039f\"],[0.2222222222222222,\"#7201a8\"],[0.3333333333333333,\"#9c179e\"],[0.4444444444444444,\"#bd3786\"],[0.5555555555555556,\"#d8576b\"],[0.6666666666666666,\"#ed7953\"],[0.7777777777777778,\"#fb9f3a\"],[0.8888888888888888,\"#fdca26\"],[1.0,\"#f0f921\"]]}],\"contourcarpet\":[{\"type\":\"contourcarpet\",\"colorbar\":{\"outlinewidth\":0,\"ticks\":\"\"}}],\"contour\":[{\"type\":\"contour\",\"colorbar\":{\"outlinewidth\":0,\"ticks\":\"\"},\"colorscale\":[[0.0,\"#0d0887\"],[0.1111111111111111,\"#46039f\"],[0.2222222222222222,\"#7201a8\"],[0.3333333333333333,\"#9c179e\"],[0.4444444444444444,\"#bd3786\"],[0.5555555555555556,\"#d8576b\"],[0.6666666666666666,\"#ed7953\"],[0.7777777777777778,\"#fb9f3a\"],[0.8888888888888888,\"#fdca26\"],[1.0,\"#f0f921\"]]}],\"surface\":[{\"type\":\"surface\",\"colorbar\":{\"outlinewidth\":0,\"ticks\":\"\"},\"colorscale\":[[0.0,\"#0d0887\"],[0.1111111111111111,\"#46039f\"],[0.2222222222222222,\"#7201a8\"],[0.3333333333333333,\"#9c179e\"],[0.4444444444444444,\"#bd3786\"],[0.5555555555555556,\"#d8576b\"],[0.6666666666666666,\"#ed7953\"],[0.7777777777777778,\"#fb9f3a\"],[0.8888888888888888,\"#fdca26\"],[1.0,\"#f0f921\"]]}],\"mesh3d\":[{\"type\":\"mesh3d\",\"colorbar\":{\"outlinewidth\":0,\"ticks\":\"\"}}],\"scatter\":[{\"fillpattern\":{\"fillmode\":\"overlay\",\"size\":10,\"solidity\":0.2},\"type\":\"scatter\"}],\"parcoords\":[{\"type\":\"parcoords\",\"line\":{\"colorbar\":{\"outlinewidth\":0,\"ticks\":\"\"}}}],\"scatterpolargl\":[{\"type\":\"scatterpolargl\",\"marker\":{\"colorbar\":{\"outlinewidth\":0,\"ticks\":\"\"}}}],\"bar\":[{\"error_x\":{\"color\":\"#2a3f5f\"},\"error_y\":{\"color\":\"#2a3f5f\"},\"marker\":{\"line\":{\"color\":\"#E5ECF6\",\"width\":0.5},\"pattern\":{\"fillmode\":\"overlay\",\"size\":10,\"solidity\":0.2}},\"type\":\"bar\"}],\"scattergeo\":[{\"type\":\"scattergeo\",\"marker\":{\"colorbar\":{\"outlinewidth\":0,\"ticks\":\"\"}}}],\"scatterpolar\":[{\"type\":\"scatterpolar\",\"marker\":{\"colorbar\":{\"outlinewidth\":0,\"ticks\":\"\"}}}],\"histogram\":[{\"marker\":{\"pattern\":{\"fillmode\":\"overlay\",\"size\":10,\"solidity\":0.2}},\"type\":\"histogram\"}],\"scattergl\":[{\"type\":\"scattergl\",\"marker\":{\"colorbar\":{\"outlinewidth\":0,\"ticks\":\"\"}}}],\"scatter3d\":[{\"type\":\"scatter3d\",\"line\":{\"colorbar\":{\"outlinewidth\":0,\"ticks\":\"\"}},\"marker\":{\"colorbar\":{\"outlinewidth\":0,\"ticks\":\"\"}}}],\"scattermapbox\":[{\"type\":\"scattermapbox\",\"marker\":{\"colorbar\":{\"outlinewidth\":0,\"ticks\":\"\"}}}],\"scatterternary\":[{\"type\":\"scatterternary\",\"marker\":{\"colorbar\":{\"outlinewidth\":0,\"ticks\":\"\"}}}],\"scattercarpet\":[{\"type\":\"scattercarpet\",\"marker\":{\"colorbar\":{\"outlinewidth\":0,\"ticks\":\"\"}}}],\"carpet\":[{\"aaxis\":{\"endlinecolor\":\"#2a3f5f\",\"gridcolor\":\"white\",\"linecolor\":\"white\",\"minorgridcolor\":\"white\",\"startlinecolor\":\"#2a3f5f\"},\"baxis\":{\"endlinecolor\":\"#2a3f5f\",\"gridcolor\":\"white\",\"linecolor\":\"white\",\"minorgridcolor\":\"white\",\"startlinecolor\":\"#2a3f5f\"},\"type\":\"carpet\"}],\"table\":[{\"cells\":{\"fill\":{\"color\":\"#EBF0F8\"},\"line\":{\"color\":\"white\"}},\"header\":{\"fill\":{\"color\":\"#C8D4E3\"},\"line\":{\"color\":\"white\"}},\"type\":\"table\"}],\"barpolar\":[{\"marker\":{\"line\":{\"color\":\"#E5ECF6\",\"width\":0.5},\"pattern\":{\"fillmode\":\"overlay\",\"size\":10,\"solidity\":0.2}},\"type\":\"barpolar\"}],\"pie\":[{\"automargin\":true,\"type\":\"pie\"}]},\"layout\":{\"autotypenumbers\":\"strict\",\"colorway\":[\"#636efa\",\"#EF553B\",\"#00cc96\",\"#ab63fa\",\"#FFA15A\",\"#19d3f3\",\"#FF6692\",\"#B6E880\",\"#FF97FF\",\"#FECB52\"],\"font\":{\"color\":\"#2a3f5f\"},\"hovermode\":\"closest\",\"hoverlabel\":{\"align\":\"left\"},\"paper_bgcolor\":\"white\",\"plot_bgcolor\":\"#E5ECF6\",\"polar\":{\"bgcolor\":\"#E5ECF6\",\"angularaxis\":{\"gridcolor\":\"white\",\"linecolor\":\"white\",\"ticks\":\"\"},\"radialaxis\":{\"gridcolor\":\"white\",\"linecolor\":\"white\",\"ticks\":\"\"}},\"ternary\":{\"bgcolor\":\"#E5ECF6\",\"aaxis\":{\"gridcolor\":\"white\",\"linecolor\":\"white\",\"ticks\":\"\"},\"baxis\":{\"gridcolor\":\"white\",\"linecolor\":\"white\",\"ticks\":\"\"},\"caxis\":{\"gridcolor\":\"white\",\"linecolor\":\"white\",\"ticks\":\"\"}},\"coloraxis\":{\"colorbar\":{\"outlinewidth\":0,\"ticks\":\"\"}},\"colorscale\":{\"sequential\":[[0.0,\"#0d0887\"],[0.1111111111111111,\"#46039f\"],[0.2222222222222222,\"#7201a8\"],[0.3333333333333333,\"#9c179e\"],[0.4444444444444444,\"#bd3786\"],[0.5555555555555556,\"#d8576b\"],[0.6666666666666666,\"#ed7953\"],[0.7777777777777778,\"#fb9f3a\"],[0.8888888888888888,\"#fdca26\"],[1.0,\"#f0f921\"]],\"sequentialminus\":[[0.0,\"#0d0887\"],[0.1111111111111111,\"#46039f\"],[0.2222222222222222,\"#7201a8\"],[0.3333333333333333,\"#9c179e\"],[0.4444444444444444,\"#bd3786\"],[0.5555555555555556,\"#d8576b\"],[0.6666666666666666,\"#ed7953\"],[0.7777777777777778,\"#fb9f3a\"],[0.8888888888888888,\"#fdca26\"],[1.0,\"#f0f921\"]],\"diverging\":[[0,\"#8e0152\"],[0.1,\"#c51b7d\"],[0.2,\"#de77ae\"],[0.3,\"#f1b6da\"],[0.4,\"#fde0ef\"],[0.5,\"#f7f7f7\"],[0.6,\"#e6f5d0\"],[0.7,\"#b8e186\"],[0.8,\"#7fbc41\"],[0.9,\"#4d9221\"],[1,\"#276419\"]]},\"xaxis\":{\"gridcolor\":\"white\",\"linecolor\":\"white\",\"ticks\":\"\",\"title\":{\"standoff\":15},\"zerolinecolor\":\"white\",\"automargin\":true,\"zerolinewidth\":2},\"yaxis\":{\"gridcolor\":\"white\",\"linecolor\":\"white\",\"ticks\":\"\",\"title\":{\"standoff\":15},\"zerolinecolor\":\"white\",\"automargin\":true,\"zerolinewidth\":2},\"scene\":{\"xaxis\":{\"backgroundcolor\":\"#E5ECF6\",\"gridcolor\":\"white\",\"linecolor\":\"white\",\"showbackground\":true,\"ticks\":\"\",\"zerolinecolor\":\"white\",\"gridwidth\":2},\"yaxis\":{\"backgroundcolor\":\"#E5ECF6\",\"gridcolor\":\"white\",\"linecolor\":\"white\",\"showbackground\":true,\"ticks\":\"\",\"zerolinecolor\":\"white\",\"gridwidth\":2},\"zaxis\":{\"backgroundcolor\":\"#E5ECF6\",\"gridcolor\":\"white\",\"linecolor\":\"white\",\"showbackground\":true,\"ticks\":\"\",\"zerolinecolor\":\"white\",\"gridwidth\":2}},\"shapedefaults\":{\"line\":{\"color\":\"#2a3f5f\"}},\"annotationdefaults\":{\"arrowcolor\":\"#2a3f5f\",\"arrowhead\":0,\"arrowwidth\":1},\"geo\":{\"bgcolor\":\"white\",\"landcolor\":\"#E5ECF6\",\"subunitcolor\":\"white\",\"showland\":true,\"showlakes\":true,\"lakecolor\":\"white\"},\"title\":{\"x\":0.05},\"mapbox\":{\"style\":\"light\"}}},\"xaxis\":{\"anchor\":\"y\",\"domain\":[0.0,1.0],\"title\":{\"text\":\"Avalia\\u00e7\\u00e3o dos cr\\u00edticos\"}},\"yaxis\":{\"anchor\":\"x\",\"domain\":[0.0,1.0],\"title\":{\"text\":\"Vendas Totais\"}},\"legend\":{\"title\":{\"text\":\"platform\"},\"tracegroupgap\":0},\"title\":{\"text\":\"Avalia\\u00e7\\u00e3o dos cr\\u00edticos VS Vendas totais (Plataforma PS4)\"}},                        {\"responsive\": true}                    ).then(function(){\n",
       "                            \n",
       "var gd = document.getElementById('71d6453f-6470-449f-ae40-b7351a3e0a80');\n",
       "var x = new MutationObserver(function (mutations, observer) {{\n",
       "        var display = window.getComputedStyle(gd).display;\n",
       "        if (!display || display === 'none') {{\n",
       "            console.log([gd, 'removed!']);\n",
       "            Plotly.purge(gd);\n",
       "            observer.disconnect();\n",
       "        }}\n",
       "}});\n",
       "\n",
       "// Listen for the removal of the full notebook cells\n",
       "var notebookContainer = gd.closest('#notebook-container');\n",
       "if (notebookContainer) {{\n",
       "    x.observe(notebookContainer, {childList: true});\n",
       "}}\n",
       "\n",
       "// Listen for the clearing of the current output cell\n",
       "var outputEl = gd.closest('.output');\n",
       "if (outputEl) {{\n",
       "    x.observe(outputEl, {childList: true});\n",
       "}}\n",
       "\n",
       "                        })                };                });            </script>        </div>"
      ]
     },
     "metadata": {},
     "output_type": "display_data"
    }
   ],
   "source": [
    "fig = px.scatter(\n",
    "    ps4_ratings,\n",
    "    x='critic_score',\n",
    "    y='total_sales',\n",
    "    color='platform',\n",
    "    hover_name='name',\n",
    "    title='Avaliação dos críticos VS Vendas totais (Plataforma PS4)',\n",
    "    labels={\n",
    "        'critic_score': 'Avaliação dos críticos',\n",
    "        'total_sales': 'Vendas Totais'\n",
    "    }\n",
    ")\n",
    "fig.show()"
   ]
  },
  {
   "cell_type": "code",
   "execution_count": 179,
   "id": "b338d17c-0a0e-408e-8d67-3732d33e81f7",
   "metadata": {},
   "outputs": [
    {
     "data": {
      "application/vnd.plotly.v1+json": {
       "config": {
        "plotlyServerURL": "https://plot.ly"
       },
       "data": [
        {
         "hovertemplate": "<b>%{hovertext}</b><br><br>platform=PS4<br>Avaliação dos críticos=%{x}<br>Vendas Totais=%{y}<extra></extra>",
         "hovertext": [
          "7 Days to Die",
          "Aegis of Earth: Protonovus Assault",
          "Agatha Christie's The ABC Murders",
          "Alien: Isolation",
          "Angry Birds Star Wars",
          "Anima - Gate of Memories",
          "Arslan: The Warriors of Legend",
          "Assassin's Creed Chronicles: China",
          "Assassin's Creed IV: Black Flag",
          "Assassin's Creed Syndicate",
          "Assassin's Creed The Ezio Collection",
          "Assassin's Creed: Unity",
          "Assetto Corsa",
          "Atelier Sophie: The Alchemist of the Mysterious Book",
          "Batman: Arkham Knight",
          "Batman: Arkham VR",
          "Batman: Return to Arkham",
          "Battleborn",
          "Battlefield 1",
          "Battlefield 4",
          "Battlefield: Hardline",
          "Battlezone",
          "BioShock The Collection",
          "Bladestorm: Nightmare",
          "BlazBlue Central Fiction",
          "BlazBlue: Chrono Phantasma Extend",
          "Bloodborne",
          "Borderlands: The Handsome Collection",
          "Bound By Flame",
          "Broken Sword 5: The Serpent's Curse",
          "Brothers: A Tale of Two Sons",
          "Call of Duty: Advanced Warfare",
          "Call of Duty: Ghosts",
          "Call of Duty: Infinite Warfare",
          "Carmageddon: Max Damage",
          "Child of Light",
          "Dark Souls III",
          "Darksiders: Warmastered Edition",
          "Dead Island Definitive Collection",
          "Dead Rising",
          "Dead Rising 2",
          "Dead or Alive Xtreme 3: Fortune",
          "Deadpool",
          "Destiny",
          "Destiny: The Taken King",
          "Deus Ex: Mankind Divided",
          "DiRT Rally",
          "Digimon Story: Cyber Sleuth",
          "Dino Dini's Kick Off Revival",
          "Disgaea 5: Alliance of Vengeance",
          "Dishonored 2",
          "Don Bradman Cricket 14",
          "Dragon Age: Inquisition",
          "Dragon Ball: XenoVerse",
          "Dragon Ball: Xenoverse 2",
          "DriveClub",
          "DriveClub VR",
          "Duke Nukem 3D: 20th Anniversary World Tour",
          "Dungeons 2",
          "Dying Light",
          "Dynasty Warriors 8: Empires",
          "EA Sports UFC",
          "EA Sports UFC 2",
          "EVE: Valkyrie",
          "Eagle Flight",
          "Earth Defense Force 4.1: The Shadow of New Despair",
          "Evolve",
          "Exist Archive: The Other Side of the Sky",
          "F1 2015",
          "FIFA 14",
          "FIFA 15",
          "FIFA 16",
          "FIFA 17",
          "Fairy Fencer F: Advent Dark Force",
          "Fallout 4",
          "Far Cry 4",
          "Far Cry: Primal",
          "Farming Simulator 17",
          "Final Fantasy XIV: Heavensward",
          "God Eater 2: Rage Burst",
          "God Eater Resurrection",
          "Grand Ages: Medieval",
          "Grand Kingdom",
          "Grand Theft Auto V",
          "Gravity Rush Remastered",
          "Guitar Hero Live",
          "Hatsune Miku: Project Diva X",
          "Here They Lie",
          "Homefront: The Revolution",
          "Infamous: First Light",
          "JoJo's Bizarre Adventure: Eyes of Heaven",
          "Just Cause 3",
          "Just Dance 2014",
          "Just Dance 2015",
          "Just Dance 2016",
          "Killing Floor 2 ",
          "Killzone: Shadow Fall",
          "Knack",
          "LEGO Dimensions",
          "LEGO Harry Potter Collection",
          "LEGO Jurassic World",
          "LEGO Marvel Super Heroes",
          "LEGO Marvel's Avengers",
          "LEGO The Hobbit",
          "Lara Croft and the Temple of Osiris",
          "Legend of Kay Anniversary",
          "Lego Batman 3: Beyond Gotham",
          "Lego Star Wars: The Force Awakens",
          "Life is Strange",
          "LittleBigPlanet 3",
          "Lords of the Fallen",
          "MLB 14: The Show",
          "MLB 15: The Show",
          "MX vs. ATV Supercross Encore",
          "Madden NFL 15",
          "Madden NFL 16",
          "Madden NFL 17",
          "Madden NFL 25",
          "Mafia III",
          "Mark McMorris Infinite Air",
          "Mega Man Legacy Collection",
          "Metal Gear Solid V: Ground Zeroes",
          "Metal Gear Solid V: The Phantom Pain",
          "Middle-Earth: Shadow of Mordor",
          "Mighty No. 9",
          "Mirror's Edge Catalyst",
          "Mortal Kombat X",
          "MotoGP 14 ",
          "Murdered: Soul Suspect",
          "NASCAR Heat Evolution",
          "NBA 2K14",
          "NBA 2K15",
          "NBA 2K16",
          "NBA 2K17",
          "NBA Live 14",
          "NBA Live 15",
          "NBA Live 16",
          "NHL 15",
          "NHL 16",
          "NHL 17",
          "Naruto Shippuden: Ultimate Ninja Storm 4",
          "Natural Doctrine",
          "Need for Speed Rivals",
          "Nights of Azure",
          "Nitroplus Blasterz: Heroines Infinite Duel",
          "No Man's Sky",
          "Nobunaga's Ambition: Sphere of Influence",
          "Odin Sphere: Leifthrasir",
          "Omega Quintet",
          "One Piece: Burning Blood",
          "One Piece: Pirate Warriors 3",
          "Onechanbara Z2: Chaos",
          "Overwatch",
          "Plants vs. Zombies: Garden Warfare",
          "Plants vs. Zombies: Garden Warfare 2",
          "PlayStation VR Worlds",
          "Prison Architect",
          "Pro Evolution Soccer 2015",
          "Pro Evolution Soccer 2016",
          "Pro Evolution Soccer 2017",
          "Project CARS",
          "Prototype: Biohazard Bundle",
          "Psycho-Pass: Mandatory Happiness",
          "Putty Squad",
          "RIGS: Mechanized Combat League",
          "Rayman Legends",
          "Republique",
          "Resident Evil 6",
          "Resident Evil: Revelations 2",
          "Ride",
          "Ride 2",
          "Robinson: The Journey",
          "Rock Band 4",
          "Rocket League",
          "Root Letter",
          "Rory McIlroy PGA Tour",
          "Rugby 15",
          "Rugby Challenge 3",
          "Rugby World Cup 2015",
          "Saint Seiya: Soldiers' Soul",
          "Saints Row: Gat out of Hell",
          "Samurai Warriors 4",
          "Samurai Warriors 4-II",
          "Samurai Warriors 4: Empires",
          "Senran Kagura: Estival Versus",
          "Sherlock Holmes: The Devil's Daughter",
          "Shovel Knight",
          "Singstar: Ultimate Party",
          "Skylanders Imaginators",
          "Skylanders SWAP Force",
          "Skylanders: SuperChargers",
          "Skylanders: Trap Team",
          "Sniper Elite 3",
          "Song of the Deep",
          "Steins;Gate 0",
          "Street Fighter V",
          "Super Dungeon Bros",
          "Super Stardust Ultra VR",
          "Sword Art Online: Hollow Realization",
          "Sword Art Online: Lost Song",
          "Sébastien Loeb Rally Evo",
          "Tales of Zestiria",
          "Tearaway Unfolded",
          "Teenage Mutant Ninja Turtles: Mutants in Manhattan",
          "Terraria",
          "The Book of Unwritten Tales 2",
          "The Crew",
          "The Crew: Wild Run",
          "The Evil Within",
          "The Golf Club",
          "The King of Fighters XIV",
          "The LEGO Movie Videogame",
          "The Order: 1886",
          "The Peanuts Movie: Snoopy's Grand Adventure",
          "The Talos Principle",
          "The Technomancer",
          "The Witcher 3: Wild Hunt",
          "The Wolf Among Us",
          "Titanfall 2",
          "Tom Clancy's Rainbow Six: Siege",
          "Tom Clancy's The Division",
          "Tony Hawk's Pro Skater 5",
          "Touhou Genso Rondo: Bullet Ballet",
          "Toukiden Kiwami",
          "Tour de France 2014",
          "Toy Soldiers: War Chest",
          "TrackMania Turbo",
          "Transformers: Devastation",
          "Trials Fusion",
          "Tropico 5",
          "UEFA Euro 2016",
          "Ultra Street Fighter IV",
          "Uncharted 4: A Thief's End",
          "Uncharted: The Nathan Drake Collection",
          "Until Dawn",
          "Until Dawn: Rush of Blood",
          "Valentino Rossi: The Game",
          "WWE 2K15",
          "WWE 2K16",
          "WWE 2K17",
          "Watch Dogs",
          "Watch Dogs 2",
          "Wolfenstein: The New Order",
          "Wolfenstein: The Old Blood",
          "World of Final Fantasy",
          "Worms: WMD",
          "XCOM 2",
          "Zombie Army Trilogy",
          "inFAMOUS: Second Son"
         ],
         "legendgroup": "PS4",
         "marker": {
          "color": "#636efa",
          "symbol": "circle"
         },
         "mode": "markers",
         "name": "PS4",
         "orientation": "v",
         "showlegend": true,
         "type": "scatter",
         "x": [
          5.9,
          7.8,
          6.2,
          8.1,
          2,
          7.9,
          6.6,
          6.4,
          7.8,
          6.8,
          7.4,
          4.9,
          6.2,
          8.1,
          7.6,
          7.3,
          8.5,
          6.8,
          8.4,
          6.9,
          5,
          7,
          8.5,
          6.5,
          7.6,
          7.7,
          8.6,
          7.8,
          5.9,
          7.2,
          8.6,
          5.7,
          3.7,
          3.4,
          5.5,
          8,
          8.8,
          8.5,
          6.4,
          6.6,
          6.6,
          7.8,
          5.7,
          6.1,
          6,
          7.6,
          8.1,
          8.5,
          4.5,
          8.1,
          7.7,
          7.4,
          7.4,
          7.7,
          7.8,
          6.1,
          7.4,
          6.9,
          7.9,
          7.9,
          7.5,
          6.1,
          6.2,
          6.3,
          7.8,
          7.9,
          4.3,
          7.9,
          6.3,
          6.3,
          5.7,
          4.3,
          5,
          6.2,
          6.5,
          7.7,
          6.3,
          8.7,
          7.6,
          8,
          7.8,
          7.1,
          8.1,
          8.3,
          8.2,
          6.2,
          7.4,
          6.5,
          3.8,
          7.5,
          7.4,
          6.5,
          5.5,
          5.8,
          6.8,
          8,
          6.8,
          6.5,
          7.1,
          8.1,
          7,
          7.7,
          7,
          6.6,
          6.7,
          6.4,
          7.1,
          7.5,
          8.6,
          7.1,
          6.6,
          7.7,
          7.8,
          4.1,
          6.1,
          5.9,
          4.9,
          5.2,
          5.1,
          6,
          6.1,
          6.2,
          8.2,
          8.1,
          3.5,
          4.7,
          7.7,
          6.4,
          6.9,
          3.8,
          6.5,
          7,
          6.7,
          6.7,
          2.7,
          5.6,
          6.1,
          3.6,
          5.5,
          5.8,
          8.2,
          6,
          6.2,
          7.6,
          6.9,
          4.5,
          8.1,
          8.2,
          7.1,
          7.8,
          7.4,
          6.5,
          6.1,
          7.6,
          7.7,
          7.1,
          8,
          7.2,
          7.1,
          7.6,
          6.6,
          2,
          8.3,
          2.9,
          7.9,
          8.5,
          5.8,
          6.7,
          7.7,
          7,
          8,
          6.9,
          6.3,
          8.7,
          7.5,
          3.7,
          3.4,
          6.8,
          1.9,
          7.8,
          5.7,
          8.1,
          7.3,
          6.5,
          8,
          6.8,
          7.6,
          4.1,
          5.5,
          5.2,
          3.3,
          5.6,
          7.1,
          7.3,
          8.3,
          3.4,
          2.3,
          6.2,
          7.7,
          6.3,
          8.1,
          6.8,
          8.1,
          5.5,
          7.9,
          8.6,
          5.4,
          6.8,
          7.3,
          6.3,
          8.7,
          7.1,
          6.6,
          6.6,
          8.4,
          6.7,
          9.2,
          8.4,
          8.4,
          7.3,
          7,
          1.5,
          4.7,
          7.6,
          5.1,
          7.7,
          7.9,
          7.5,
          7.2,
          7.1,
          6.6,
          5.9,
          7.9,
          8.1,
          8.2,
          8,
          8,
          5.1,
          7.4,
          6.9,
          6.3,
          7.8,
          8.1,
          8,
          8.3,
          7.6,
          8,
          6.8,
          7.9
         ],
         "xaxis": "x",
         "y": [
          0.12,
          0.02,
          0.02,
          0.95,
          0.18,
          0.02,
          0.08,
          0.03,
          2.44,
          2.8699999999999997,
          0.17,
          3.34,
          0.05,
          0.11,
          3.32,
          0.25,
          0.23,
          0.22,
          3.46,
          3.0700000000000003,
          1.79,
          0.04,
          0.31000000000000005,
          0.15,
          0.07,
          0.12000000000000001,
          2.1,
          0.74,
          0.16999999999999998,
          0.06,
          0.11,
          6.43,
          3.26,
          3.7600000000000002,
          0.01,
          0.05,
          1.4400000000000002,
          0.02,
          0.11,
          0.03,
          0.02,
          0.05,
          0.25,
          4.720000000000001,
          1.61,
          0.32,
          0.31,
          0.1,
          0.02,
          0.25,
          0.54,
          0.09999999999999999,
          1.69,
          0.9400000000000001,
          0.6,
          1.7599999999999998,
          0.08,
          0.03,
          0.01,
          1.75,
          0.16,
          0.88,
          0.78,
          0.08,
          0.060000000000000005,
          0.05,
          0.8200000000000001,
          0.04,
          0.5700000000000001,
          2.57,
          5.18,
          7.3,
          6.49,
          0.07,
          6.04,
          3.41,
          1.9100000000000001,
          0.36,
          0.12,
          0.09999999999999999,
          0.08,
          0.07,
          0.06,
          10.65,
          0.11000000000000001,
          0.72,
          0.04,
          0.02,
          0.30000000000000004,
          0.03,
          0.03,
          1.57,
          0.35,
          0.32,
          0.30000000000000004,
          0.04,
          2.3000000000000003,
          1.53,
          0.61,
          0.12,
          0.76,
          1.36,
          0.61,
          0.51,
          0.07,
          0.02,
          0.77,
          0.6,
          0.32999999999999996,
          1.6,
          0.44,
          0.58,
          0.76,
          0.05,
          1.79,
          2.6399999999999997,
          1.42,
          0.76,
          1.53,
          0.01,
          0.07,
          1.0899999999999999,
          2.9400000000000004,
          2.4899999999999998,
          0.04,
          0.29000000000000004,
          2.3,
          0.15,
          0.27,
          0.04,
          1.21,
          2.0199999999999996,
          3.18,
          1.54,
          0.2,
          0.2,
          0.14,
          0.5,
          0.52,
          0.27,
          0.97,
          0.09000000000000001,
          1.68,
          0.05,
          0.03,
          1.4200000000000002,
          0.03,
          0.18000000000000002,
          0.02,
          0.31,
          0.41000000000000003,
          0.21000000000000002,
          1.81,
          0.51,
          0.41000000000000003,
          0.22,
          0.02,
          0.65,
          0.68,
          0.4,
          0.9199999999999999,
          0.01,
          0.03,
          0.13,
          0.09,
          0.86,
          0.02,
          0.06,
          0.47,
          0.2,
          0.04,
          0.09,
          0.31,
          0.31000000000000005,
          0.01,
          0.43,
          0.1,
          0.04,
          0.05,
          0.16,
          0.04,
          0.21000000000000002,
          0.11,
          0.09,
          0.16,
          0.01,
          0.06,
          0.16,
          0.12,
          0.32,
          0.25,
          0.37,
          0.5800000000000001,
          0.06,
          0.05,
          0.76,
          0.01,
          0.01,
          0.18,
          0.21000000000000002,
          0.04,
          0.34,
          0.22,
          0.07,
          0.060000000000000005,
          0.06,
          1.4600000000000002,
          0.08,
          1.5200000000000002,
          0.07,
          0.13,
          0.56,
          1.4500000000000002,
          0.02,
          0.02,
          0.06,
          3.38,
          0.17,
          0.6400000000000001,
          1.88,
          3.1999999999999997,
          0.16999999999999998,
          0.02,
          0.14,
          0.03,
          0.06,
          0.29000000000000004,
          0.19,
          0.36,
          0.28,
          0.26,
          0.08,
          4.54,
          3.86,
          1.4000000000000001,
          0.32999999999999996,
          0.060000000000000005,
          0.96,
          1.01,
          0.51,
          3.4099999999999997,
          0.95,
          1.3,
          0.37,
          0.30000000000000004,
          0.03,
          0.12,
          0.16999999999999998,
          2.3299999999999996
         ],
         "yaxis": "y"
        }
       ],
       "layout": {
        "autosize": true,
        "legend": {
         "title": {
          "text": "platform"
         },
         "tracegroupgap": 0
        },
        "template": {
         "data": {
          "bar": [
           {
            "error_x": {
             "color": "#2a3f5f"
            },
            "error_y": {
             "color": "#2a3f5f"
            },
            "marker": {
             "line": {
              "color": "#E5ECF6",
              "width": 0.5
             },
             "pattern": {
              "fillmode": "overlay",
              "size": 10,
              "solidity": 0.2
             }
            },
            "type": "bar"
           }
          ],
          "barpolar": [
           {
            "marker": {
             "line": {
              "color": "#E5ECF6",
              "width": 0.5
             },
             "pattern": {
              "fillmode": "overlay",
              "size": 10,
              "solidity": 0.2
             }
            },
            "type": "barpolar"
           }
          ],
          "carpet": [
           {
            "aaxis": {
             "endlinecolor": "#2a3f5f",
             "gridcolor": "white",
             "linecolor": "white",
             "minorgridcolor": "white",
             "startlinecolor": "#2a3f5f"
            },
            "baxis": {
             "endlinecolor": "#2a3f5f",
             "gridcolor": "white",
             "linecolor": "white",
             "minorgridcolor": "white",
             "startlinecolor": "#2a3f5f"
            },
            "type": "carpet"
           }
          ],
          "choropleth": [
           {
            "colorbar": {
             "outlinewidth": 0,
             "ticks": ""
            },
            "type": "choropleth"
           }
          ],
          "contour": [
           {
            "colorbar": {
             "outlinewidth": 0,
             "ticks": ""
            },
            "colorscale": [
             [
              0,
              "#0d0887"
             ],
             [
              0.1111111111111111,
              "#46039f"
             ],
             [
              0.2222222222222222,
              "#7201a8"
             ],
             [
              0.3333333333333333,
              "#9c179e"
             ],
             [
              0.4444444444444444,
              "#bd3786"
             ],
             [
              0.5555555555555556,
              "#d8576b"
             ],
             [
              0.6666666666666666,
              "#ed7953"
             ],
             [
              0.7777777777777778,
              "#fb9f3a"
             ],
             [
              0.8888888888888888,
              "#fdca26"
             ],
             [
              1,
              "#f0f921"
             ]
            ],
            "type": "contour"
           }
          ],
          "contourcarpet": [
           {
            "colorbar": {
             "outlinewidth": 0,
             "ticks": ""
            },
            "type": "contourcarpet"
           }
          ],
          "heatmap": [
           {
            "colorbar": {
             "outlinewidth": 0,
             "ticks": ""
            },
            "colorscale": [
             [
              0,
              "#0d0887"
             ],
             [
              0.1111111111111111,
              "#46039f"
             ],
             [
              0.2222222222222222,
              "#7201a8"
             ],
             [
              0.3333333333333333,
              "#9c179e"
             ],
             [
              0.4444444444444444,
              "#bd3786"
             ],
             [
              0.5555555555555556,
              "#d8576b"
             ],
             [
              0.6666666666666666,
              "#ed7953"
             ],
             [
              0.7777777777777778,
              "#fb9f3a"
             ],
             [
              0.8888888888888888,
              "#fdca26"
             ],
             [
              1,
              "#f0f921"
             ]
            ],
            "type": "heatmap"
           }
          ],
          "heatmapgl": [
           {
            "colorbar": {
             "outlinewidth": 0,
             "ticks": ""
            },
            "colorscale": [
             [
              0,
              "#0d0887"
             ],
             [
              0.1111111111111111,
              "#46039f"
             ],
             [
              0.2222222222222222,
              "#7201a8"
             ],
             [
              0.3333333333333333,
              "#9c179e"
             ],
             [
              0.4444444444444444,
              "#bd3786"
             ],
             [
              0.5555555555555556,
              "#d8576b"
             ],
             [
              0.6666666666666666,
              "#ed7953"
             ],
             [
              0.7777777777777778,
              "#fb9f3a"
             ],
             [
              0.8888888888888888,
              "#fdca26"
             ],
             [
              1,
              "#f0f921"
             ]
            ],
            "type": "heatmapgl"
           }
          ],
          "histogram": [
           {
            "marker": {
             "pattern": {
              "fillmode": "overlay",
              "size": 10,
              "solidity": 0.2
             }
            },
            "type": "histogram"
           }
          ],
          "histogram2d": [
           {
            "colorbar": {
             "outlinewidth": 0,
             "ticks": ""
            },
            "colorscale": [
             [
              0,
              "#0d0887"
             ],
             [
              0.1111111111111111,
              "#46039f"
             ],
             [
              0.2222222222222222,
              "#7201a8"
             ],
             [
              0.3333333333333333,
              "#9c179e"
             ],
             [
              0.4444444444444444,
              "#bd3786"
             ],
             [
              0.5555555555555556,
              "#d8576b"
             ],
             [
              0.6666666666666666,
              "#ed7953"
             ],
             [
              0.7777777777777778,
              "#fb9f3a"
             ],
             [
              0.8888888888888888,
              "#fdca26"
             ],
             [
              1,
              "#f0f921"
             ]
            ],
            "type": "histogram2d"
           }
          ],
          "histogram2dcontour": [
           {
            "colorbar": {
             "outlinewidth": 0,
             "ticks": ""
            },
            "colorscale": [
             [
              0,
              "#0d0887"
             ],
             [
              0.1111111111111111,
              "#46039f"
             ],
             [
              0.2222222222222222,
              "#7201a8"
             ],
             [
              0.3333333333333333,
              "#9c179e"
             ],
             [
              0.4444444444444444,
              "#bd3786"
             ],
             [
              0.5555555555555556,
              "#d8576b"
             ],
             [
              0.6666666666666666,
              "#ed7953"
             ],
             [
              0.7777777777777778,
              "#fb9f3a"
             ],
             [
              0.8888888888888888,
              "#fdca26"
             ],
             [
              1,
              "#f0f921"
             ]
            ],
            "type": "histogram2dcontour"
           }
          ],
          "mesh3d": [
           {
            "colorbar": {
             "outlinewidth": 0,
             "ticks": ""
            },
            "type": "mesh3d"
           }
          ],
          "parcoords": [
           {
            "line": {
             "colorbar": {
              "outlinewidth": 0,
              "ticks": ""
             }
            },
            "type": "parcoords"
           }
          ],
          "pie": [
           {
            "automargin": true,
            "type": "pie"
           }
          ],
          "scatter": [
           {
            "fillpattern": {
             "fillmode": "overlay",
             "size": 10,
             "solidity": 0.2
            },
            "type": "scatter"
           }
          ],
          "scatter3d": [
           {
            "line": {
             "colorbar": {
              "outlinewidth": 0,
              "ticks": ""
             }
            },
            "marker": {
             "colorbar": {
              "outlinewidth": 0,
              "ticks": ""
             }
            },
            "type": "scatter3d"
           }
          ],
          "scattercarpet": [
           {
            "marker": {
             "colorbar": {
              "outlinewidth": 0,
              "ticks": ""
             }
            },
            "type": "scattercarpet"
           }
          ],
          "scattergeo": [
           {
            "marker": {
             "colorbar": {
              "outlinewidth": 0,
              "ticks": ""
             }
            },
            "type": "scattergeo"
           }
          ],
          "scattergl": [
           {
            "marker": {
             "colorbar": {
              "outlinewidth": 0,
              "ticks": ""
             }
            },
            "type": "scattergl"
           }
          ],
          "scattermapbox": [
           {
            "marker": {
             "colorbar": {
              "outlinewidth": 0,
              "ticks": ""
             }
            },
            "type": "scattermapbox"
           }
          ],
          "scatterpolar": [
           {
            "marker": {
             "colorbar": {
              "outlinewidth": 0,
              "ticks": ""
             }
            },
            "type": "scatterpolar"
           }
          ],
          "scatterpolargl": [
           {
            "marker": {
             "colorbar": {
              "outlinewidth": 0,
              "ticks": ""
             }
            },
            "type": "scatterpolargl"
           }
          ],
          "scatterternary": [
           {
            "marker": {
             "colorbar": {
              "outlinewidth": 0,
              "ticks": ""
             }
            },
            "type": "scatterternary"
           }
          ],
          "surface": [
           {
            "colorbar": {
             "outlinewidth": 0,
             "ticks": ""
            },
            "colorscale": [
             [
              0,
              "#0d0887"
             ],
             [
              0.1111111111111111,
              "#46039f"
             ],
             [
              0.2222222222222222,
              "#7201a8"
             ],
             [
              0.3333333333333333,
              "#9c179e"
             ],
             [
              0.4444444444444444,
              "#bd3786"
             ],
             [
              0.5555555555555556,
              "#d8576b"
             ],
             [
              0.6666666666666666,
              "#ed7953"
             ],
             [
              0.7777777777777778,
              "#fb9f3a"
             ],
             [
              0.8888888888888888,
              "#fdca26"
             ],
             [
              1,
              "#f0f921"
             ]
            ],
            "type": "surface"
           }
          ],
          "table": [
           {
            "cells": {
             "fill": {
              "color": "#EBF0F8"
             },
             "line": {
              "color": "white"
             }
            },
            "header": {
             "fill": {
              "color": "#C8D4E3"
             },
             "line": {
              "color": "white"
             }
            },
            "type": "table"
           }
          ]
         },
         "layout": {
          "annotationdefaults": {
           "arrowcolor": "#2a3f5f",
           "arrowhead": 0,
           "arrowwidth": 1
          },
          "autotypenumbers": "strict",
          "coloraxis": {
           "colorbar": {
            "outlinewidth": 0,
            "ticks": ""
           }
          },
          "colorscale": {
           "diverging": [
            [
             0,
             "#8e0152"
            ],
            [
             0.1,
             "#c51b7d"
            ],
            [
             0.2,
             "#de77ae"
            ],
            [
             0.3,
             "#f1b6da"
            ],
            [
             0.4,
             "#fde0ef"
            ],
            [
             0.5,
             "#f7f7f7"
            ],
            [
             0.6,
             "#e6f5d0"
            ],
            [
             0.7,
             "#b8e186"
            ],
            [
             0.8,
             "#7fbc41"
            ],
            [
             0.9,
             "#4d9221"
            ],
            [
             1,
             "#276419"
            ]
           ],
           "sequential": [
            [
             0,
             "#0d0887"
            ],
            [
             0.1111111111111111,
             "#46039f"
            ],
            [
             0.2222222222222222,
             "#7201a8"
            ],
            [
             0.3333333333333333,
             "#9c179e"
            ],
            [
             0.4444444444444444,
             "#bd3786"
            ],
            [
             0.5555555555555556,
             "#d8576b"
            ],
            [
             0.6666666666666666,
             "#ed7953"
            ],
            [
             0.7777777777777778,
             "#fb9f3a"
            ],
            [
             0.8888888888888888,
             "#fdca26"
            ],
            [
             1,
             "#f0f921"
            ]
           ],
           "sequentialminus": [
            [
             0,
             "#0d0887"
            ],
            [
             0.1111111111111111,
             "#46039f"
            ],
            [
             0.2222222222222222,
             "#7201a8"
            ],
            [
             0.3333333333333333,
             "#9c179e"
            ],
            [
             0.4444444444444444,
             "#bd3786"
            ],
            [
             0.5555555555555556,
             "#d8576b"
            ],
            [
             0.6666666666666666,
             "#ed7953"
            ],
            [
             0.7777777777777778,
             "#fb9f3a"
            ],
            [
             0.8888888888888888,
             "#fdca26"
            ],
            [
             1,
             "#f0f921"
            ]
           ]
          },
          "colorway": [
           "#636efa",
           "#EF553B",
           "#00cc96",
           "#ab63fa",
           "#FFA15A",
           "#19d3f3",
           "#FF6692",
           "#B6E880",
           "#FF97FF",
           "#FECB52"
          ],
          "font": {
           "color": "#2a3f5f"
          },
          "geo": {
           "bgcolor": "white",
           "lakecolor": "white",
           "landcolor": "#E5ECF6",
           "showlakes": true,
           "showland": true,
           "subunitcolor": "white"
          },
          "hoverlabel": {
           "align": "left"
          },
          "hovermode": "closest",
          "mapbox": {
           "style": "light"
          },
          "paper_bgcolor": "white",
          "plot_bgcolor": "#E5ECF6",
          "polar": {
           "angularaxis": {
            "gridcolor": "white",
            "linecolor": "white",
            "ticks": ""
           },
           "bgcolor": "#E5ECF6",
           "radialaxis": {
            "gridcolor": "white",
            "linecolor": "white",
            "ticks": ""
           }
          },
          "scene": {
           "xaxis": {
            "backgroundcolor": "#E5ECF6",
            "gridcolor": "white",
            "gridwidth": 2,
            "linecolor": "white",
            "showbackground": true,
            "ticks": "",
            "zerolinecolor": "white"
           },
           "yaxis": {
            "backgroundcolor": "#E5ECF6",
            "gridcolor": "white",
            "gridwidth": 2,
            "linecolor": "white",
            "showbackground": true,
            "ticks": "",
            "zerolinecolor": "white"
           },
           "zaxis": {
            "backgroundcolor": "#E5ECF6",
            "gridcolor": "white",
            "gridwidth": 2,
            "linecolor": "white",
            "showbackground": true,
            "ticks": "",
            "zerolinecolor": "white"
           }
          },
          "shapedefaults": {
           "line": {
            "color": "#2a3f5f"
           }
          },
          "ternary": {
           "aaxis": {
            "gridcolor": "white",
            "linecolor": "white",
            "ticks": ""
           },
           "baxis": {
            "gridcolor": "white",
            "linecolor": "white",
            "ticks": ""
           },
           "bgcolor": "#E5ECF6",
           "caxis": {
            "gridcolor": "white",
            "linecolor": "white",
            "ticks": ""
           }
          },
          "title": {
           "x": 0.05
          },
          "xaxis": {
           "automargin": true,
           "gridcolor": "white",
           "linecolor": "white",
           "ticks": "",
           "title": {
            "standoff": 15
           },
           "zerolinecolor": "white",
           "zerolinewidth": 2
          },
          "yaxis": {
           "automargin": true,
           "gridcolor": "white",
           "linecolor": "white",
           "ticks": "",
           "title": {
            "standoff": 15
           },
           "zerolinecolor": "white",
           "zerolinewidth": 2
          }
         }
        },
        "title": {
         "text": "Avaliação dos usuários VS Vendas totais (Plataforma PS4)"
        },
        "xaxis": {
         "anchor": "y",
         "autorange": true,
         "domain": [
          0,
          1
         ],
         "range": [
          1.0036241180243746,
          9.696375881975625
         ],
         "title": {
          "text": "Avaliação dos críticos"
         },
         "type": "linear"
        },
        "yaxis": {
         "anchor": "x",
         "autorange": true,
         "domain": [
          0,
          1
         ],
         "range": [
          -0.8680582524271845,
          11.528058252427185
         ],
         "title": {
          "text": "Vendas Totais"
         },
         "type": "linear"
        }
       }
      },
      "text/html": [
       "<div>                            <div id=\"09db3003-1e3d-49f5-b993-231854c9b394\" class=\"plotly-graph-div\" style=\"height:525px; width:100%;\"></div>            <script type=\"text/javascript\">                require([\"plotly\"], function(Plotly) {                    window.PLOTLYENV=window.PLOTLYENV || {};                                    if (document.getElementById(\"09db3003-1e3d-49f5-b993-231854c9b394\")) {                    Plotly.newPlot(                        \"09db3003-1e3d-49f5-b993-231854c9b394\",                        [{\"hovertemplate\":\"\\u003cb\\u003e%{hovertext}\\u003c\\u002fb\\u003e\\u003cbr\\u003e\\u003cbr\\u003eplatform=PS4\\u003cbr\\u003eAvalia\\u00e7\\u00e3o dos cr\\u00edticos=%{x}\\u003cbr\\u003eVendas Totais=%{y}\\u003cextra\\u003e\\u003c\\u002fextra\\u003e\",\"hovertext\":[\"7 Days to Die\",\"Aegis of Earth: Protonovus Assault\",\"Agatha Christie's The ABC Murders\",\"Alien: Isolation\",\"Angry Birds Star Wars\",\"Anima - Gate of Memories\",\"Arslan: The Warriors of Legend\",\"Assassin's Creed Chronicles: China\",\"Assassin's Creed IV: Black Flag\",\"Assassin's Creed Syndicate\",\"Assassin's Creed The Ezio Collection\",\"Assassin's Creed: Unity\",\"Assetto Corsa\",\"Atelier Sophie: The Alchemist of the Mysterious Book\",\"Batman: Arkham Knight\",\"Batman: Arkham VR\",\"Batman: Return to Arkham\",\"Battleborn\",\"Battlefield 1\",\"Battlefield 4\",\"Battlefield: Hardline\",\"Battlezone\",\"BioShock The Collection\",\"Bladestorm: Nightmare\",\"BlazBlue Central Fiction\",\"BlazBlue: Chrono Phantasma Extend\",\"Bloodborne\",\"Borderlands: The Handsome Collection\",\"Bound By Flame\",\"Broken Sword 5: The Serpent's Curse\",\"Brothers: A Tale of Two Sons\",\"Call of Duty: Advanced Warfare\",\"Call of Duty: Ghosts\",\"Call of Duty: Infinite Warfare\",\"Carmageddon: Max Damage\",\"Child of Light\",\"Dark Souls III\",\"Darksiders: Warmastered Edition\",\"Dead Island Definitive Collection\",\"Dead Rising\",\"Dead Rising 2\",\"Dead or Alive Xtreme 3: Fortune\",\"Deadpool\",\"Destiny\",\"Destiny: The Taken King\",\"Deus Ex: Mankind Divided\",\"DiRT Rally\",\"Digimon Story: Cyber Sleuth\",\"Dino Dini's Kick Off Revival\",\"Disgaea 5: Alliance of Vengeance\",\"Dishonored 2\",\"Don Bradman Cricket 14\",\"Dragon Age: Inquisition\",\"Dragon Ball: XenoVerse\",\"Dragon Ball: Xenoverse 2\",\"DriveClub\",\"DriveClub VR\",\"Duke Nukem 3D: 20th Anniversary World Tour\",\"Dungeons 2\",\"Dying Light\",\"Dynasty Warriors 8: Empires\",\"EA Sports UFC\",\"EA Sports UFC 2\",\"EVE: Valkyrie\",\"Eagle Flight\",\"Earth Defense Force 4.1: The Shadow of New Despair\",\"Evolve\",\"Exist Archive: The Other Side of the Sky\",\"F1 2015\",\"FIFA 14\",\"FIFA 15\",\"FIFA 16\",\"FIFA 17\",\"Fairy Fencer F: Advent Dark Force\",\"Fallout 4\",\"Far Cry 4\",\"Far Cry: Primal\",\"Farming Simulator 17\",\"Final Fantasy XIV: Heavensward\",\"God Eater 2: Rage Burst\",\"God Eater Resurrection\",\"Grand Ages: Medieval\",\"Grand Kingdom\",\"Grand Theft Auto V\",\"Gravity Rush Remastered\",\"Guitar Hero Live\",\"Hatsune Miku: Project Diva X\",\"Here They Lie\",\"Homefront: The Revolution\",\"Infamous: First Light\",\"JoJo's Bizarre Adventure: Eyes of Heaven\",\"Just Cause 3\",\"Just Dance 2014\",\"Just Dance 2015\",\"Just Dance 2016\",\"Killing Floor 2 \",\"Killzone: Shadow Fall\",\"Knack\",\"LEGO Dimensions\",\"LEGO Harry Potter Collection\",\"LEGO Jurassic World\",\"LEGO Marvel Super Heroes\",\"LEGO Marvel's Avengers\",\"LEGO The Hobbit\",\"Lara Croft and the Temple of Osiris\",\"Legend of Kay Anniversary\",\"Lego Batman 3: Beyond Gotham\",\"Lego Star Wars: The Force Awakens\",\"Life is Strange\",\"LittleBigPlanet 3\",\"Lords of the Fallen\",\"MLB 14: The Show\",\"MLB 15: The Show\",\"MX vs. ATV Supercross Encore\",\"Madden NFL 15\",\"Madden NFL 16\",\"Madden NFL 17\",\"Madden NFL 25\",\"Mafia III\",\"Mark McMorris Infinite Air\",\"Mega Man Legacy Collection\",\"Metal Gear Solid V: Ground Zeroes\",\"Metal Gear Solid V: The Phantom Pain\",\"Middle-Earth: Shadow of Mordor\",\"Mighty No. 9\",\"Mirror's Edge Catalyst\",\"Mortal Kombat X\",\"MotoGP 14 \",\"Murdered: Soul Suspect\",\"NASCAR Heat Evolution\",\"NBA 2K14\",\"NBA 2K15\",\"NBA 2K16\",\"NBA 2K17\",\"NBA Live 14\",\"NBA Live 15\",\"NBA Live 16\",\"NHL 15\",\"NHL 16\",\"NHL 17\",\"Naruto Shippuden: Ultimate Ninja Storm 4\",\"Natural Doctrine\",\"Need for Speed Rivals\",\"Nights of Azure\",\"Nitroplus Blasterz: Heroines Infinite Duel\",\"No Man's Sky\",\"Nobunaga's Ambition: Sphere of Influence\",\"Odin Sphere: Leifthrasir\",\"Omega Quintet\",\"One Piece: Burning Blood\",\"One Piece: Pirate Warriors 3\",\"Onechanbara Z2: Chaos\",\"Overwatch\",\"Plants vs. Zombies: Garden Warfare\",\"Plants vs. Zombies: Garden Warfare 2\",\"PlayStation VR Worlds\",\"Prison Architect\",\"Pro Evolution Soccer 2015\",\"Pro Evolution Soccer 2016\",\"Pro Evolution Soccer 2017\",\"Project CARS\",\"Prototype: Biohazard Bundle\",\"Psycho-Pass: Mandatory Happiness\",\"Putty Squad\",\"RIGS: Mechanized Combat League\",\"Rayman Legends\",\"Republique\",\"Resident Evil 6\",\"Resident Evil: Revelations 2\",\"Ride\",\"Ride 2\",\"Robinson: The Journey\",\"Rock Band 4\",\"Rocket League\",\"Root Letter\",\"Rory McIlroy PGA Tour\",\"Rugby 15\",\"Rugby Challenge 3\",\"Rugby World Cup 2015\",\"Saint Seiya: Soldiers' Soul\",\"Saints Row: Gat out of Hell\",\"Samurai Warriors 4\",\"Samurai Warriors 4-II\",\"Samurai Warriors 4: Empires\",\"Senran Kagura: Estival Versus\",\"Sherlock Holmes: The Devil's Daughter\",\"Shovel Knight\",\"Singstar: Ultimate Party\",\"Skylanders Imaginators\",\"Skylanders SWAP Force\",\"Skylanders: SuperChargers\",\"Skylanders: Trap Team\",\"Sniper Elite 3\",\"Song of the Deep\",\"Steins;Gate 0\",\"Street Fighter V\",\"Super Dungeon Bros\",\"Super Stardust Ultra VR\",\"Sword Art Online: Hollow Realization\",\"Sword Art Online: Lost Song\",\"S\\u00e9bastien Loeb Rally Evo\",\"Tales of Zestiria\",\"Tearaway Unfolded\",\"Teenage Mutant Ninja Turtles: Mutants in Manhattan\",\"Terraria\",\"The Book of Unwritten Tales 2\",\"The Crew\",\"The Crew: Wild Run\",\"The Evil Within\",\"The Golf Club\",\"The King of Fighters XIV\",\"The LEGO Movie Videogame\",\"The Order: 1886\",\"The Peanuts Movie: Snoopy's Grand Adventure\",\"The Talos Principle\",\"The Technomancer\",\"The Witcher 3: Wild Hunt\",\"The Wolf Among Us\",\"Titanfall 2\",\"Tom Clancy's Rainbow Six: Siege\",\"Tom Clancy's The Division\",\"Tony Hawk's Pro Skater 5\",\"Touhou Genso Rondo: Bullet Ballet\",\"Toukiden Kiwami\",\"Tour de France 2014\",\"Toy Soldiers: War Chest\",\"TrackMania Turbo\",\"Transformers: Devastation\",\"Trials Fusion\",\"Tropico 5\",\"UEFA Euro 2016\",\"Ultra Street Fighter IV\",\"Uncharted 4: A Thief's End\",\"Uncharted: The Nathan Drake Collection\",\"Until Dawn\",\"Until Dawn: Rush of Blood\",\"Valentino Rossi: The Game\",\"WWE 2K15\",\"WWE 2K16\",\"WWE 2K17\",\"Watch Dogs\",\"Watch Dogs 2\",\"Wolfenstein: The New Order\",\"Wolfenstein: The Old Blood\",\"World of Final Fantasy\",\"Worms: WMD\",\"XCOM 2\",\"Zombie Army Trilogy\",\"inFAMOUS: Second Son\"],\"legendgroup\":\"PS4\",\"marker\":{\"color\":\"#636efa\",\"symbol\":\"circle\"},\"mode\":\"markers\",\"name\":\"PS4\",\"orientation\":\"v\",\"showlegend\":true,\"x\":[5.9,7.8,6.2,8.1,2.0,7.9,6.6,6.4,7.8,6.8,7.4,4.9,6.2,8.1,7.6,7.3,8.5,6.8,8.4,6.9,5.0,7.0,8.5,6.5,7.6,7.7,8.6,7.8,5.9,7.2,8.6,5.7,3.7,3.4,5.5,8.0,8.8,8.5,6.4,6.6,6.6,7.8,5.7,6.1,6.0,7.6,8.1,8.5,4.5,8.1,7.7,7.4,7.4,7.7,7.8,6.1,7.4,6.9,7.9,7.9,7.5,6.1,6.2,6.3,7.8,7.9,4.3,7.9,6.3,6.3,5.7,4.3,5.0,6.2,6.5,7.7,6.3,8.7,7.6,8.0,7.8,7.1,8.1,8.3,8.2,6.2,7.4,6.5,3.8,7.5,7.4,6.5,5.5,5.8,6.8,8.0,6.8,6.5,7.1,8.1,7.0,7.7,7.0,6.6,6.7,6.4,7.1,7.5,8.6,7.1,6.6,7.7,7.8,4.1,6.1,5.9,4.9,5.2,5.1,6.0,6.1,6.2,8.2,8.1,3.5,4.7,7.7,6.4,6.9,3.8,6.5,7.0,6.7,6.7,2.7,5.6,6.1,3.6,5.5,5.8,8.2,6.0,6.2,7.6,6.9,4.5,8.1,8.2,7.1,7.8,7.4,6.5,6.1,7.6,7.7,7.1,8.0,7.2,7.1,7.6,6.6,2.0,8.3,2.9,7.9,8.5,5.8,6.7,7.7,7.0,8.0,6.9,6.3,8.7,7.5,3.7,3.4,6.8,1.9,7.8,5.7,8.1,7.3,6.5,8.0,6.8,7.6,4.1,5.5,5.2,3.3,5.6,7.1,7.3,8.3,3.4,2.3,6.2,7.7,6.3,8.1,6.8,8.1,5.5,7.9,8.6,5.4,6.8,7.3,6.3,8.7,7.1,6.6,6.6,8.4,6.7,9.2,8.4,8.4,7.3,7.0,1.5,4.7,7.6,5.1,7.7,7.9,7.5,7.2,7.1,6.6,5.9,7.9,8.1,8.2,8.0,8.0,5.1,7.4,6.9,6.3,7.8,8.1,8.0,8.3,7.6,8.0,6.8,7.9],\"xaxis\":\"x\",\"y\":[0.12,0.02,0.02,0.95,0.18,0.02,0.08,0.03,2.44,2.8699999999999997,0.17,3.34,0.05,0.11,3.32,0.25,0.23,0.22,3.46,3.0700000000000003,1.79,0.04,0.31000000000000005,0.15,0.07,0.12000000000000001,2.1,0.74,0.16999999999999998,0.06,0.11,6.43,3.26,3.7600000000000002,0.01,0.05,1.4400000000000002,0.02,0.11,0.03,0.02,0.05,0.25,4.720000000000001,1.61,0.32,0.31,0.1,0.02,0.25,0.54,0.09999999999999999,1.69,0.9400000000000001,0.6,1.7599999999999998,0.08,0.03,0.01,1.75,0.16,0.88,0.78,0.08,0.060000000000000005,0.05,0.8200000000000001,0.04,0.5700000000000001,2.57,5.18,7.3,6.49,0.07,6.04,3.41,1.9100000000000001,0.36,0.12,0.09999999999999999,0.08,0.07,0.06,10.65,0.11000000000000001,0.72,0.04,0.02,0.30000000000000004,0.03,0.03,1.57,0.35,0.32,0.30000000000000004,0.04,2.3000000000000003,1.53,0.61,0.12,0.76,1.36,0.61,0.51,0.07,0.02,0.77,0.6,0.32999999999999996,1.6,0.44,0.58,0.76,0.05,1.79,2.6399999999999997,1.42,0.76,1.53,0.01,0.07,1.0899999999999999,2.9400000000000004,2.4899999999999998,0.04,0.29000000000000004,2.3,0.15,0.27,0.04,1.21,2.0199999999999996,3.18,1.54,0.2,0.2,0.14,0.5,0.52,0.27,0.97,0.09000000000000001,1.68,0.05,0.03,1.4200000000000002,0.03,0.18000000000000002,0.02,0.31,0.41000000000000003,0.21000000000000002,1.81,0.51,0.41000000000000003,0.22,0.02,0.65,0.68,0.4,0.9199999999999999,0.01,0.03,0.13,0.09,0.86,0.02,0.06,0.47,0.2,0.04,0.09,0.31,0.31000000000000005,0.01,0.43,0.1,0.04,0.05,0.16,0.04,0.21000000000000002,0.11,0.09,0.16,0.01,0.06,0.16,0.12,0.32,0.25,0.37,0.5800000000000001,0.06,0.05,0.76,0.01,0.01,0.18,0.21000000000000002,0.04,0.34,0.22,0.07,0.060000000000000005,0.06,1.4600000000000002,0.08,1.5200000000000002,0.07,0.13,0.56,1.4500000000000002,0.02,0.02,0.06,3.38,0.17,0.6400000000000001,1.88,3.1999999999999997,0.16999999999999998,0.02,0.14,0.03,0.06,0.29000000000000004,0.19,0.36,0.28,0.26,0.08,4.54,3.86,1.4000000000000001,0.32999999999999996,0.060000000000000005,0.96,1.01,0.51,3.4099999999999997,0.95,1.3,0.37,0.30000000000000004,0.03,0.12,0.16999999999999998,2.3299999999999996],\"yaxis\":\"y\",\"type\":\"scatter\"}],                        {\"template\":{\"data\":{\"histogram2dcontour\":[{\"type\":\"histogram2dcontour\",\"colorbar\":{\"outlinewidth\":0,\"ticks\":\"\"},\"colorscale\":[[0.0,\"#0d0887\"],[0.1111111111111111,\"#46039f\"],[0.2222222222222222,\"#7201a8\"],[0.3333333333333333,\"#9c179e\"],[0.4444444444444444,\"#bd3786\"],[0.5555555555555556,\"#d8576b\"],[0.6666666666666666,\"#ed7953\"],[0.7777777777777778,\"#fb9f3a\"],[0.8888888888888888,\"#fdca26\"],[1.0,\"#f0f921\"]]}],\"choropleth\":[{\"type\":\"choropleth\",\"colorbar\":{\"outlinewidth\":0,\"ticks\":\"\"}}],\"histogram2d\":[{\"type\":\"histogram2d\",\"colorbar\":{\"outlinewidth\":0,\"ticks\":\"\"},\"colorscale\":[[0.0,\"#0d0887\"],[0.1111111111111111,\"#46039f\"],[0.2222222222222222,\"#7201a8\"],[0.3333333333333333,\"#9c179e\"],[0.4444444444444444,\"#bd3786\"],[0.5555555555555556,\"#d8576b\"],[0.6666666666666666,\"#ed7953\"],[0.7777777777777778,\"#fb9f3a\"],[0.8888888888888888,\"#fdca26\"],[1.0,\"#f0f921\"]]}],\"heatmap\":[{\"type\":\"heatmap\",\"colorbar\":{\"outlinewidth\":0,\"ticks\":\"\"},\"colorscale\":[[0.0,\"#0d0887\"],[0.1111111111111111,\"#46039f\"],[0.2222222222222222,\"#7201a8\"],[0.3333333333333333,\"#9c179e\"],[0.4444444444444444,\"#bd3786\"],[0.5555555555555556,\"#d8576b\"],[0.6666666666666666,\"#ed7953\"],[0.7777777777777778,\"#fb9f3a\"],[0.8888888888888888,\"#fdca26\"],[1.0,\"#f0f921\"]]}],\"heatmapgl\":[{\"type\":\"heatmapgl\",\"colorbar\":{\"outlinewidth\":0,\"ticks\":\"\"},\"colorscale\":[[0.0,\"#0d0887\"],[0.1111111111111111,\"#46039f\"],[0.2222222222222222,\"#7201a8\"],[0.3333333333333333,\"#9c179e\"],[0.4444444444444444,\"#bd3786\"],[0.5555555555555556,\"#d8576b\"],[0.6666666666666666,\"#ed7953\"],[0.7777777777777778,\"#fb9f3a\"],[0.8888888888888888,\"#fdca26\"],[1.0,\"#f0f921\"]]}],\"contourcarpet\":[{\"type\":\"contourcarpet\",\"colorbar\":{\"outlinewidth\":0,\"ticks\":\"\"}}],\"contour\":[{\"type\":\"contour\",\"colorbar\":{\"outlinewidth\":0,\"ticks\":\"\"},\"colorscale\":[[0.0,\"#0d0887\"],[0.1111111111111111,\"#46039f\"],[0.2222222222222222,\"#7201a8\"],[0.3333333333333333,\"#9c179e\"],[0.4444444444444444,\"#bd3786\"],[0.5555555555555556,\"#d8576b\"],[0.6666666666666666,\"#ed7953\"],[0.7777777777777778,\"#fb9f3a\"],[0.8888888888888888,\"#fdca26\"],[1.0,\"#f0f921\"]]}],\"surface\":[{\"type\":\"surface\",\"colorbar\":{\"outlinewidth\":0,\"ticks\":\"\"},\"colorscale\":[[0.0,\"#0d0887\"],[0.1111111111111111,\"#46039f\"],[0.2222222222222222,\"#7201a8\"],[0.3333333333333333,\"#9c179e\"],[0.4444444444444444,\"#bd3786\"],[0.5555555555555556,\"#d8576b\"],[0.6666666666666666,\"#ed7953\"],[0.7777777777777778,\"#fb9f3a\"],[0.8888888888888888,\"#fdca26\"],[1.0,\"#f0f921\"]]}],\"mesh3d\":[{\"type\":\"mesh3d\",\"colorbar\":{\"outlinewidth\":0,\"ticks\":\"\"}}],\"scatter\":[{\"fillpattern\":{\"fillmode\":\"overlay\",\"size\":10,\"solidity\":0.2},\"type\":\"scatter\"}],\"parcoords\":[{\"type\":\"parcoords\",\"line\":{\"colorbar\":{\"outlinewidth\":0,\"ticks\":\"\"}}}],\"scatterpolargl\":[{\"type\":\"scatterpolargl\",\"marker\":{\"colorbar\":{\"outlinewidth\":0,\"ticks\":\"\"}}}],\"bar\":[{\"error_x\":{\"color\":\"#2a3f5f\"},\"error_y\":{\"color\":\"#2a3f5f\"},\"marker\":{\"line\":{\"color\":\"#E5ECF6\",\"width\":0.5},\"pattern\":{\"fillmode\":\"overlay\",\"size\":10,\"solidity\":0.2}},\"type\":\"bar\"}],\"scattergeo\":[{\"type\":\"scattergeo\",\"marker\":{\"colorbar\":{\"outlinewidth\":0,\"ticks\":\"\"}}}],\"scatterpolar\":[{\"type\":\"scatterpolar\",\"marker\":{\"colorbar\":{\"outlinewidth\":0,\"ticks\":\"\"}}}],\"histogram\":[{\"marker\":{\"pattern\":{\"fillmode\":\"overlay\",\"size\":10,\"solidity\":0.2}},\"type\":\"histogram\"}],\"scattergl\":[{\"type\":\"scattergl\",\"marker\":{\"colorbar\":{\"outlinewidth\":0,\"ticks\":\"\"}}}],\"scatter3d\":[{\"type\":\"scatter3d\",\"line\":{\"colorbar\":{\"outlinewidth\":0,\"ticks\":\"\"}},\"marker\":{\"colorbar\":{\"outlinewidth\":0,\"ticks\":\"\"}}}],\"scattermapbox\":[{\"type\":\"scattermapbox\",\"marker\":{\"colorbar\":{\"outlinewidth\":0,\"ticks\":\"\"}}}],\"scatterternary\":[{\"type\":\"scatterternary\",\"marker\":{\"colorbar\":{\"outlinewidth\":0,\"ticks\":\"\"}}}],\"scattercarpet\":[{\"type\":\"scattercarpet\",\"marker\":{\"colorbar\":{\"outlinewidth\":0,\"ticks\":\"\"}}}],\"carpet\":[{\"aaxis\":{\"endlinecolor\":\"#2a3f5f\",\"gridcolor\":\"white\",\"linecolor\":\"white\",\"minorgridcolor\":\"white\",\"startlinecolor\":\"#2a3f5f\"},\"baxis\":{\"endlinecolor\":\"#2a3f5f\",\"gridcolor\":\"white\",\"linecolor\":\"white\",\"minorgridcolor\":\"white\",\"startlinecolor\":\"#2a3f5f\"},\"type\":\"carpet\"}],\"table\":[{\"cells\":{\"fill\":{\"color\":\"#EBF0F8\"},\"line\":{\"color\":\"white\"}},\"header\":{\"fill\":{\"color\":\"#C8D4E3\"},\"line\":{\"color\":\"white\"}},\"type\":\"table\"}],\"barpolar\":[{\"marker\":{\"line\":{\"color\":\"#E5ECF6\",\"width\":0.5},\"pattern\":{\"fillmode\":\"overlay\",\"size\":10,\"solidity\":0.2}},\"type\":\"barpolar\"}],\"pie\":[{\"automargin\":true,\"type\":\"pie\"}]},\"layout\":{\"autotypenumbers\":\"strict\",\"colorway\":[\"#636efa\",\"#EF553B\",\"#00cc96\",\"#ab63fa\",\"#FFA15A\",\"#19d3f3\",\"#FF6692\",\"#B6E880\",\"#FF97FF\",\"#FECB52\"],\"font\":{\"color\":\"#2a3f5f\"},\"hovermode\":\"closest\",\"hoverlabel\":{\"align\":\"left\"},\"paper_bgcolor\":\"white\",\"plot_bgcolor\":\"#E5ECF6\",\"polar\":{\"bgcolor\":\"#E5ECF6\",\"angularaxis\":{\"gridcolor\":\"white\",\"linecolor\":\"white\",\"ticks\":\"\"},\"radialaxis\":{\"gridcolor\":\"white\",\"linecolor\":\"white\",\"ticks\":\"\"}},\"ternary\":{\"bgcolor\":\"#E5ECF6\",\"aaxis\":{\"gridcolor\":\"white\",\"linecolor\":\"white\",\"ticks\":\"\"},\"baxis\":{\"gridcolor\":\"white\",\"linecolor\":\"white\",\"ticks\":\"\"},\"caxis\":{\"gridcolor\":\"white\",\"linecolor\":\"white\",\"ticks\":\"\"}},\"coloraxis\":{\"colorbar\":{\"outlinewidth\":0,\"ticks\":\"\"}},\"colorscale\":{\"sequential\":[[0.0,\"#0d0887\"],[0.1111111111111111,\"#46039f\"],[0.2222222222222222,\"#7201a8\"],[0.3333333333333333,\"#9c179e\"],[0.4444444444444444,\"#bd3786\"],[0.5555555555555556,\"#d8576b\"],[0.6666666666666666,\"#ed7953\"],[0.7777777777777778,\"#fb9f3a\"],[0.8888888888888888,\"#fdca26\"],[1.0,\"#f0f921\"]],\"sequentialminus\":[[0.0,\"#0d0887\"],[0.1111111111111111,\"#46039f\"],[0.2222222222222222,\"#7201a8\"],[0.3333333333333333,\"#9c179e\"],[0.4444444444444444,\"#bd3786\"],[0.5555555555555556,\"#d8576b\"],[0.6666666666666666,\"#ed7953\"],[0.7777777777777778,\"#fb9f3a\"],[0.8888888888888888,\"#fdca26\"],[1.0,\"#f0f921\"]],\"diverging\":[[0,\"#8e0152\"],[0.1,\"#c51b7d\"],[0.2,\"#de77ae\"],[0.3,\"#f1b6da\"],[0.4,\"#fde0ef\"],[0.5,\"#f7f7f7\"],[0.6,\"#e6f5d0\"],[0.7,\"#b8e186\"],[0.8,\"#7fbc41\"],[0.9,\"#4d9221\"],[1,\"#276419\"]]},\"xaxis\":{\"gridcolor\":\"white\",\"linecolor\":\"white\",\"ticks\":\"\",\"title\":{\"standoff\":15},\"zerolinecolor\":\"white\",\"automargin\":true,\"zerolinewidth\":2},\"yaxis\":{\"gridcolor\":\"white\",\"linecolor\":\"white\",\"ticks\":\"\",\"title\":{\"standoff\":15},\"zerolinecolor\":\"white\",\"automargin\":true,\"zerolinewidth\":2},\"scene\":{\"xaxis\":{\"backgroundcolor\":\"#E5ECF6\",\"gridcolor\":\"white\",\"linecolor\":\"white\",\"showbackground\":true,\"ticks\":\"\",\"zerolinecolor\":\"white\",\"gridwidth\":2},\"yaxis\":{\"backgroundcolor\":\"#E5ECF6\",\"gridcolor\":\"white\",\"linecolor\":\"white\",\"showbackground\":true,\"ticks\":\"\",\"zerolinecolor\":\"white\",\"gridwidth\":2},\"zaxis\":{\"backgroundcolor\":\"#E5ECF6\",\"gridcolor\":\"white\",\"linecolor\":\"white\",\"showbackground\":true,\"ticks\":\"\",\"zerolinecolor\":\"white\",\"gridwidth\":2}},\"shapedefaults\":{\"line\":{\"color\":\"#2a3f5f\"}},\"annotationdefaults\":{\"arrowcolor\":\"#2a3f5f\",\"arrowhead\":0,\"arrowwidth\":1},\"geo\":{\"bgcolor\":\"white\",\"landcolor\":\"#E5ECF6\",\"subunitcolor\":\"white\",\"showland\":true,\"showlakes\":true,\"lakecolor\":\"white\"},\"title\":{\"x\":0.05},\"mapbox\":{\"style\":\"light\"}}},\"xaxis\":{\"anchor\":\"y\",\"domain\":[0.0,1.0],\"title\":{\"text\":\"Avalia\\u00e7\\u00e3o dos cr\\u00edticos\"}},\"yaxis\":{\"anchor\":\"x\",\"domain\":[0.0,1.0],\"title\":{\"text\":\"Vendas Totais\"}},\"legend\":{\"title\":{\"text\":\"platform\"},\"tracegroupgap\":0},\"title\":{\"text\":\"Avalia\\u00e7\\u00e3o dos usu\\u00e1rios VS Vendas totais (Plataforma PS4)\"}},                        {\"responsive\": true}                    ).then(function(){\n",
       "                            \n",
       "var gd = document.getElementById('09db3003-1e3d-49f5-b993-231854c9b394');\n",
       "var x = new MutationObserver(function (mutations, observer) {{\n",
       "        var display = window.getComputedStyle(gd).display;\n",
       "        if (!display || display === 'none') {{\n",
       "            console.log([gd, 'removed!']);\n",
       "            Plotly.purge(gd);\n",
       "            observer.disconnect();\n",
       "        }}\n",
       "}});\n",
       "\n",
       "// Listen for the removal of the full notebook cells\n",
       "var notebookContainer = gd.closest('#notebook-container');\n",
       "if (notebookContainer) {{\n",
       "    x.observe(notebookContainer, {childList: true});\n",
       "}}\n",
       "\n",
       "// Listen for the clearing of the current output cell\n",
       "var outputEl = gd.closest('.output');\n",
       "if (outputEl) {{\n",
       "    x.observe(outputEl, {childList: true});\n",
       "}}\n",
       "\n",
       "                        })                };                });            </script>        </div>"
      ]
     },
     "metadata": {},
     "output_type": "display_data"
    }
   ],
   "source": [
    "fig = px.scatter(\n",
    "    ps4_ratings,\n",
    "    x='user_score',\n",
    "    y='total_sales',\n",
    "    color='platform',\n",
    "    hover_name='name',\n",
    "    title='Avaliação dos usuários VS Vendas totais (Plataforma PS4)',\n",
    "    labels={\n",
    "        'user_score': 'Avaliação dos críticos',\n",
    "        'total_sales': 'Vendas Totais'\n",
    "    }\n",
    ")\n",
    "fig.show()"
   ]
  },
  {
   "cell_type": "markdown",
   "id": "fac6d52e-f741-4b3c-93fb-fba5a8249761",
   "metadata": {},
   "source": [
    "<span style=\"color: black; font-family: Arial; font-size: 20px;\">\n",
    "    \n",
    "A correlação das vendas totais dessa plataforma com as avaliações dos críticos é de aproximadamente 40%, mostrando-se bem alta.\n",
    "\n",
    "'Grand Theft Auto V', além de ter sido o mais vendido, foi o jogo de PS4 mais bem avaliado tanto pelos críticos quanto pelos usuários."
   ]
  },
  {
   "cell_type": "markdown",
   "id": "b1909d1e-1998-4d19-863f-3fd85f252102",
   "metadata": {},
   "source": [
    "# Teste de Hipóteses"
   ]
  },
  {
   "cell_type": "markdown",
   "id": "ab28f3fe-78ea-4b5f-b204-e20afdc83efd",
   "metadata": {},
   "source": [
    "<span style=\"color: blue; font-family: Arial; font-size: 20px;\">\n",
    "As classificações médias dos usuários das plataformas Xbox One e PC são as mesmas."
   ]
  },
  {
   "cell_type": "code",
   "execution_count": 183,
   "id": "508c1ed8-3e10-4536-9a4f-cd96cd44d1f6",
   "metadata": {},
   "outputs": [],
   "source": [
    "# H0: As classificações médias dos usuários das plataformas Xbox One e PC não são as mesmas.\n",
    "# HA: As classificações médias dos usuários das plataformas Xbox One e PC são as mesmas."
   ]
  },
  {
   "cell_type": "code",
   "execution_count": 184,
   "id": "56d448d1-f52c-4b6d-b66f-6ed78c716aab",
   "metadata": {},
   "outputs": [
    {
     "name": "stdout",
     "output_type": "stream",
     "text": [
      "valor-p:  0.5489537965134987\n",
      "Não podemos rejeitar a hipótese nula\n"
     ]
    }
   ],
   "source": [
    "#Sample Xbox One\n",
    "xbox_ratings = df_games_filtered[(df_games_filtered['user_score'] > 0) & (df_games_filtered['platform'] == 'XOne')].groupby(['platform', 'name'])['user_score'].sum().reset_index()\n",
    "\n",
    "#Sample PC\n",
    "pc_ratings = df_games_filtered[(df_games_filtered['user_score'] > 0) & (df_games_filtered['platform'] == 'PC')].groupby(['platform', 'name'])['user_score'].sum().reset_index()\n",
    "\n",
    "alpha=0.05\n",
    "\n",
    "if xbox_ratings['user_score'].var() == pc_ratings['user_score'].var():\n",
    "    results = st.ttest_ind(xbox_ratings['user_score'], pc_ratings['user_score'],equal_var = True)\n",
    "else:\n",
    "    results = st.ttest_ind(xbox_ratings['user_score'], pc_ratings['user_score'],equal_var = False)\n",
    "    \n",
    "print('valor-p: ', results.pvalue)\n",
    "\n",
    "if results.pvalue < alpha:\n",
    "    print(\"Rejeitamos a hipótese nula\")\n",
    "else:\n",
    "    print(\"Não podemos rejeitar a hipótese nula\")"
   ]
  },
  {
   "cell_type": "markdown",
   "id": "bed0d7d5-abde-4637-8d73-9c5f2e1c4969",
   "metadata": {},
   "source": [
    "<span style=\"color: black; font-family: Arial; font-size: 20px;\">\n",
    "Através do valorp igual a aproximadamente 54%, não é possivel rejeitar a hipótese de que as classificações médias dos usuários das plataformas Xbox One e PC não são as mesmas."
   ]
  },
  {
   "cell_type": "markdown",
   "id": "d3d811dd-98d2-4e51-a48a-75974bc58d9a",
   "metadata": {},
   "source": [
    "<span style=\"color: blue; font-family: Arial; font-size: 20px;\">\n",
    "As classificações médias de usuários para os gêneros Action (ação) e Sports (esportes) são diferentes."
   ]
  },
  {
   "cell_type": "code",
   "execution_count": 187,
   "id": "072461c9-f000-4904-85b2-2ae289e8d60b",
   "metadata": {},
   "outputs": [],
   "source": [
    "# H0: As classificações médias de usuários para os gêneros Action (ação) e Sports (esportes) não são diferentes.\n",
    "# HA: As classificações médias de usuários para os gêneros Action (ação) e Sports (esportes) são diferentes."
   ]
  },
  {
   "cell_type": "code",
   "execution_count": 188,
   "id": "1f0e6f58-db83-4df1-92d9-2876062cb9ed",
   "metadata": {},
   "outputs": [
    {
     "name": "stdout",
     "output_type": "stream",
     "text": [
      "valor-p:  1.2626590345816187e-18\n",
      "Rejeitamos a hipótese nula\n"
     ]
    }
   ],
   "source": [
    "#Sample Action\n",
    "action_ratings = df_games_filtered[(df_games_filtered['user_score'] > 0) & (df_games_filtered['genre'] == 'Action')].groupby(['platform', 'name'])['user_score'].sum().reset_index()\n",
    "\n",
    "#Sample Sports\n",
    "sports_ratings = df_games_filtered[(df_games_filtered['user_score'] > 0) & (df_games_filtered['genre'] == 'Sports')].groupby(['platform', 'name'])['user_score'].sum().reset_index()\n",
    "\n",
    "alpha=0.05\n",
    "\n",
    "if action_ratings['user_score'].var() == sports_ratings['user_score'].var():\n",
    "    results = st.ttest_ind(action_ratings['user_score'], sports_ratings['user_score'],equal_var = True)\n",
    "else:\n",
    "    results = st.ttest_ind(action_ratings['user_score'], sports_ratings['user_score'],equal_var = False)\n",
    "    \n",
    "print('valor-p: ', results.pvalue)\n",
    "\n",
    "if results.pvalue < alpha:\n",
    "    print(\"Rejeitamos a hipótese nula\")\n",
    "else:\n",
    "    print(\"Não podemos rejeitar a hipótese nula\")"
   ]
  },
  {
   "cell_type": "markdown",
   "id": "5dabeda8-b64d-497c-9818-6408cbb5fbf0",
   "metadata": {},
   "source": [
    "<span style=\"color: black; font-family: Arial; font-size: 20px;\">\n",
    "Através do valorp igual a aproximadamente 126%, não é possivel rejeitar a hipótese de que as classificações médias dos usuários das plataformas Xbox One e PC não são as mesmas."
   ]
  },
  {
   "cell_type": "markdown",
   "id": "96661aa3-2ce7-4195-bde2-35030669ffad",
   "metadata": {},
   "source": [
    "# Conclusões e recomendações"
   ]
  },
  {
   "cell_type": "markdown",
   "id": "88c7dab0-2abd-4fb9-a305-7c021639ce42",
   "metadata": {},
   "source": [
    "<span style=\"color: black; font-family: Arial; font-size: 20px;\">\n",
    "\n",
    "A análise apontou o **PS4**  como líder global de vendas e a plataforma mais promissora para investimento, com crescimento consistente até 2016. O **PS3** e o **X360** apresentaram queda contínua nas vendas, sendo que o X360, apesar da retração, ainda mantém a maior média de vendas e liderança no mercado norte-americano.  \n",
    "\n",
    "Geograficamente:\n",
    "- **PS4** lidera na Europa.\n",
    "- **X360** lidera nos EUA.\n",
    "- **3DS** lidera no Japão.\n",
    "\n",
    "Jogos classificados como *Mature* dominaram as vendas. A correlação de **40%** entre avaliações da crítica e vendas no PS4 evidencia a importância de boas reviews para o sucesso comercial dessa plataforma.  \n",
    "O destaque individual vai para **Grand Theft Auto V**, campeão de vendas e melhor avaliado no PS4 por críticos e usuários.  \n",
    "Os testes estatísticos indicaram que **não há diferença significativa** nas avaliações médias dos usuários entre Xbox One e PC.\n",
    "\n",
    "---\n",
    "\n",
    "Recomendações de Marketing:\n",
    "\n",
    "1. **Foco no PS4**  \n",
    "   Direcionar campanhas publicitárias e lançamento de novos títulos para o PS4, aproveitando seu histórico de crescimento e liderança.\n",
    "\n",
    "2. **Campanhas regionais específicas**  \n",
    "   - **EUA**: priorizar lançamentos e promoções para o X360.  \n",
    "   - **Europa**: reforçar campanhas para o PS4.  \n",
    "   - **Japão**: investir em lançamentos e promoções para o 3DS.\n",
    "\n",
    "3. **Explorar o segmento *Mature***  \n",
    "   Desenvolver e promover mais jogos com essa classificação, pois é a categoria com maior volume de vendas.\n",
    "\n",
    "4. **Fortalecer presença crítica**  \n",
    "   Investir em estratégias para conquistar boas avaliações de críticos, especialmente no PS4.\n",
    "\n",
    "5. **Marketing baseado em títulos de sucesso**  \n",
    "   Utilizar o sucesso de “Grand Theft Auto V” como referência para campanhas."
   ]
  },
  {
   "cell_type": "code",
   "execution_count": 195,
   "id": "1551cf32-ac44-4eee-8881-7299ebc7d8d1",
   "metadata": {},
   "outputs": [],
   "source": [
    "nb = nbformat.read(\"ice_games_analysis(português).ipynb\", as_version=4)\n",
    "translator = Translator()\n",
    "\n",
    "for cell in nb.cells:\n",
    "    if cell.cell_type == \"markdown\":\n",
    "        cell.source = translator.translate(cell.source, src='pt', dest='en').text\n",
    "\n",
    "nbformat.write(nb, \"ice_games_analysis(english).ipynb\")"
   ]
  },
  {
   "cell_type": "code",
   "execution_count": null,
   "id": "f183c161-f493-4578-9bc1-50462b249df5",
   "metadata": {},
   "outputs": [],
   "source": []
  }
 ],
 "metadata": {
  "kernelspec": {
   "display_name": "Python [conda env:base] *",
   "language": "python",
   "name": "conda-base-py"
  },
  "language_info": {
   "codemirror_mode": {
    "name": "ipython",
    "version": 3
   },
   "file_extension": ".py",
   "mimetype": "text/x-python",
   "name": "python",
   "nbconvert_exporter": "python",
   "pygments_lexer": "ipython3",
   "version": "3.12.7"
  }
 },
 "nbformat": 4,
 "nbformat_minor": 5
}
